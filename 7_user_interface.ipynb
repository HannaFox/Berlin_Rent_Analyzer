{
 "cells": [
  {
   "cell_type": "markdown",
   "id": "17d7422f",
   "metadata": {},
   "source": [
    "# Modelling: XG Boost Berlin rent"
   ]
  },
  {
   "cell_type": "markdown",
   "id": "3301042a",
   "metadata": {},
   "source": [
    "XGBoost (eXtreme Gradient Boosting) is a supervised learning algorithm that belongs to the family of ensemble methods. It is a powerful and widely used algorithm that is known for its speed and accuracy. Gradient Boosting can be used to predict the rent for apartments. It is particularly effective when the dataset is small and the features are complex. Gradient Boosting builds a model in a step-wise manner by minimizing the error of the previous model.\n",
    "\n",
    "In short, the XGBoost algorithm works by creating an ensemble of decision trees that are trained sequentially. Each decision tree is trained to correct the errors made by the previous tree. The XGBoost algorithm uses a technique called gradient boosting to minimize a loss function and optimize the performance of the model.\n",
    "\n",
    "The gradient boosting algorithm works by fitting a simple model (such as a decision tree) to the data and then using the residuals (the difference between the predicted and actual values) to train the next model. The XGBoost algorithm extends gradient boosting by using a combination of tree-based models and linear models to make predictions. It also uses a technique called regularization to prevent overfitting of the model."
   ]
  },
  {
   "cell_type": "code",
   "execution_count": 1,
   "id": "1700c039",
   "metadata": {},
   "outputs": [],
   "source": [
    "import pandas as pd\n",
    "import numpy as np\n",
    "pd.set_option('display.max_columns', None)\n",
    "import warnings\n",
    "warnings.filterwarnings('ignore')\n",
    "## multiple outputs\n",
    "from IPython.core.interactiveshell import InteractiveShell\n",
    "InteractiveShell.ast_node_interactivity = \"all\"\n",
    "from sklearn.model_selection import train_test_split\n",
    "from sklearn.preprocessing import StandardScaler\n",
    "from sklearn.metrics import r2_score\n",
    "warnings.simplefilter(action='ignore', category=FutureWarning)\n",
    "\n",
    "pd.set_option(\"display.max_rows\", None)"
   ]
  },
  {
   "cell_type": "code",
   "execution_count": 2,
   "id": "9c5f5f6a",
   "metadata": {},
   "outputs": [
    {
     "data": {
      "text/html": [
       "<div>\n",
       "<style scoped>\n",
       "    .dataframe tbody tr th:only-of-type {\n",
       "        vertical-align: middle;\n",
       "    }\n",
       "\n",
       "    .dataframe tbody tr th {\n",
       "        vertical-align: top;\n",
       "    }\n",
       "\n",
       "    .dataframe thead th {\n",
       "        text-align: right;\n",
       "    }\n",
       "</style>\n",
       "<table border=\"1\" class=\"dataframe\">\n",
       "  <thead>\n",
       "    <tr style=\"text-align: right;\">\n",
       "      <th></th>\n",
       "      <th>total rent</th>\n",
       "      <th>area</th>\n",
       "      <th>number of rooms</th>\n",
       "      <th>balcony</th>\n",
       "      <th>built-in kitchen</th>\n",
       "      <th>basement</th>\n",
       "      <th>garden</th>\n",
       "      <th>elevator</th>\n",
       "      <th>stepless</th>\n",
       "      <th>guest toilet</th>\n",
       "      <th>flat share possible</th>\n",
       "      <th>district_alt-hohenschönhausen</th>\n",
       "      <th>district_alt-treptow</th>\n",
       "      <th>district_altglienicke</th>\n",
       "      <th>district_baumschulenweg</th>\n",
       "      <th>district_biesdorf</th>\n",
       "      <th>district_blankenburg</th>\n",
       "      <th>district_bohnsdorf</th>\n",
       "      <th>district_borsigwalde</th>\n",
       "      <th>district_britz</th>\n",
       "      <th>district_buch</th>\n",
       "      <th>district_buckow</th>\n",
       "      <th>district_charlottenburg</th>\n",
       "      <th>district_charlottenburg-nord</th>\n",
       "      <th>district_dahlem</th>\n",
       "      <th>district_falkenberg</th>\n",
       "      <th>district_falkenhagener feld</th>\n",
       "      <th>district_fennpfuhl</th>\n",
       "      <th>district_französisch buchholz</th>\n",
       "      <th>district_friedenau</th>\n",
       "      <th>district_friedrichsfelde</th>\n",
       "      <th>district_friedrichshagen</th>\n",
       "      <th>district_friedrichshain</th>\n",
       "      <th>district_gatow</th>\n",
       "      <th>district_gesundbrunnen</th>\n",
       "      <th>district_gropiusstadt</th>\n",
       "      <th>district_grunewald</th>\n",
       "      <th>district_grünau</th>\n",
       "      <th>district_hakenfelde</th>\n",
       "      <th>district_halensee</th>\n",
       "      <th>district_hansaviertel</th>\n",
       "      <th>district_haselhorst</th>\n",
       "      <th>district_heiligensee</th>\n",
       "      <th>district_heinersdorf</th>\n",
       "      <th>district_hellersdorf</th>\n",
       "      <th>district_hermsdorf</th>\n",
       "      <th>district_johannisthal</th>\n",
       "      <th>district_karlshorst</th>\n",
       "      <th>district_karow</th>\n",
       "      <th>district_kaulsdorf</th>\n",
       "      <th>district_konradshöhe</th>\n",
       "      <th>district_kreuzberg</th>\n",
       "      <th>district_köpenick</th>\n",
       "      <th>district_lankwitz</th>\n",
       "      <th>district_lichtenberg</th>\n",
       "      <th>district_lichtenrade</th>\n",
       "      <th>district_lichterfelde</th>\n",
       "      <th>district_lübars</th>\n",
       "      <th>district_mahlsdorf</th>\n",
       "      <th>district_mariendorf</th>\n",
       "      <th>district_marienfelde</th>\n",
       "      <th>district_marzahn</th>\n",
       "      <th>district_mitte</th>\n",
       "      <th>district_moabit</th>\n",
       "      <th>district_märkisches viertel</th>\n",
       "      <th>district_müggelheim</th>\n",
       "      <th>district_neu-hohenschönhausen</th>\n",
       "      <th>district_neukölln</th>\n",
       "      <th>district_niederschöneweide</th>\n",
       "      <th>district_niederschönhausen</th>\n",
       "      <th>district_nikolassee</th>\n",
       "      <th>district_oberschöneweide</th>\n",
       "      <th>district_pankow</th>\n",
       "      <th>district_plänterwald</th>\n",
       "      <th>district_prenzlauer berg</th>\n",
       "      <th>district_rahnsdorf</th>\n",
       "      <th>district_reinickendorf</th>\n",
       "      <th>district_rosenthal</th>\n",
       "      <th>district_rummelsburg</th>\n",
       "      <th>district_schmargendorf</th>\n",
       "      <th>district_schmöckwitz</th>\n",
       "      <th>district_schöneberg</th>\n",
       "      <th>district_siemensstadt</th>\n",
       "      <th>district_spandau</th>\n",
       "      <th>district_staaken</th>\n",
       "      <th>district_steglitz</th>\n",
       "      <th>district_tegel</th>\n",
       "      <th>district_tempelhof</th>\n",
       "      <th>district_tiergarten</th>\n",
       "      <th>district_wannsee</th>\n",
       "      <th>district_wedding</th>\n",
       "      <th>district_weißensee</th>\n",
       "      <th>district_westend</th>\n",
       "      <th>district_wilhelmsruh</th>\n",
       "      <th>district_wilhelmstadt</th>\n",
       "      <th>district_wilmersdorf</th>\n",
       "      <th>district_wittenau</th>\n",
       "      <th>district_zehlendorf</th>\n",
       "      <th>landlord_degewo</th>\n",
       "      <th>landlord_estate agent</th>\n",
       "      <th>landlord_housinganywhere b.v.</th>\n",
       "      <th>landlord_howoge</th>\n",
       "      <th>landlord_numa group</th>\n",
       "      <th>landlord_private offer</th>\n",
       "      <th>landlord_tauschwohnung wohnungstausch</th>\n",
       "      <th>landlord_visionapartments</th>\n",
       "      <th>landlord_wohnungsswap.de</th>\n",
       "    </tr>\n",
       "  </thead>\n",
       "  <tbody>\n",
       "    <tr>\n",
       "      <th>3330</th>\n",
       "      <td>1035.0</td>\n",
       "      <td>80.00</td>\n",
       "      <td>3.0</td>\n",
       "      <td>1</td>\n",
       "      <td>0</td>\n",
       "      <td>1</td>\n",
       "      <td>1</td>\n",
       "      <td>0</td>\n",
       "      <td>0</td>\n",
       "      <td>0</td>\n",
       "      <td>0</td>\n",
       "      <td>0</td>\n",
       "      <td>0</td>\n",
       "      <td>0</td>\n",
       "      <td>0</td>\n",
       "      <td>0</td>\n",
       "      <td>0</td>\n",
       "      <td>0</td>\n",
       "      <td>0</td>\n",
       "      <td>0</td>\n",
       "      <td>0</td>\n",
       "      <td>0</td>\n",
       "      <td>0</td>\n",
       "      <td>0</td>\n",
       "      <td>0</td>\n",
       "      <td>0</td>\n",
       "      <td>0</td>\n",
       "      <td>0</td>\n",
       "      <td>0</td>\n",
       "      <td>0</td>\n",
       "      <td>0</td>\n",
       "      <td>0</td>\n",
       "      <td>0</td>\n",
       "      <td>0</td>\n",
       "      <td>0</td>\n",
       "      <td>0</td>\n",
       "      <td>0</td>\n",
       "      <td>0</td>\n",
       "      <td>0</td>\n",
       "      <td>0</td>\n",
       "      <td>0</td>\n",
       "      <td>0</td>\n",
       "      <td>0</td>\n",
       "      <td>0</td>\n",
       "      <td>0</td>\n",
       "      <td>0</td>\n",
       "      <td>0</td>\n",
       "      <td>0</td>\n",
       "      <td>0</td>\n",
       "      <td>1</td>\n",
       "      <td>0</td>\n",
       "      <td>0</td>\n",
       "      <td>0</td>\n",
       "      <td>0</td>\n",
       "      <td>0</td>\n",
       "      <td>0</td>\n",
       "      <td>0</td>\n",
       "      <td>0</td>\n",
       "      <td>0</td>\n",
       "      <td>0</td>\n",
       "      <td>0</td>\n",
       "      <td>0</td>\n",
       "      <td>0</td>\n",
       "      <td>0</td>\n",
       "      <td>0</td>\n",
       "      <td>0</td>\n",
       "      <td>0</td>\n",
       "      <td>0</td>\n",
       "      <td>0</td>\n",
       "      <td>0</td>\n",
       "      <td>0</td>\n",
       "      <td>0</td>\n",
       "      <td>0</td>\n",
       "      <td>0</td>\n",
       "      <td>0</td>\n",
       "      <td>0</td>\n",
       "      <td>0</td>\n",
       "      <td>0</td>\n",
       "      <td>0</td>\n",
       "      <td>0</td>\n",
       "      <td>0</td>\n",
       "      <td>0</td>\n",
       "      <td>0</td>\n",
       "      <td>0</td>\n",
       "      <td>0</td>\n",
       "      <td>0</td>\n",
       "      <td>0</td>\n",
       "      <td>0</td>\n",
       "      <td>0</td>\n",
       "      <td>0</td>\n",
       "      <td>0</td>\n",
       "      <td>0</td>\n",
       "      <td>0</td>\n",
       "      <td>0</td>\n",
       "      <td>0</td>\n",
       "      <td>0</td>\n",
       "      <td>0</td>\n",
       "      <td>0</td>\n",
       "      <td>0</td>\n",
       "      <td>1</td>\n",
       "      <td>0</td>\n",
       "      <td>0</td>\n",
       "      <td>0</td>\n",
       "      <td>0</td>\n",
       "      <td>0</td>\n",
       "      <td>0</td>\n",
       "      <td>0</td>\n",
       "    </tr>\n",
       "    <tr>\n",
       "      <th>3331</th>\n",
       "      <td>1663.0</td>\n",
       "      <td>84.10</td>\n",
       "      <td>2.0</td>\n",
       "      <td>0</td>\n",
       "      <td>0</td>\n",
       "      <td>0</td>\n",
       "      <td>1</td>\n",
       "      <td>0</td>\n",
       "      <td>0</td>\n",
       "      <td>0</td>\n",
       "      <td>0</td>\n",
       "      <td>0</td>\n",
       "      <td>0</td>\n",
       "      <td>0</td>\n",
       "      <td>0</td>\n",
       "      <td>0</td>\n",
       "      <td>0</td>\n",
       "      <td>0</td>\n",
       "      <td>0</td>\n",
       "      <td>0</td>\n",
       "      <td>0</td>\n",
       "      <td>0</td>\n",
       "      <td>0</td>\n",
       "      <td>0</td>\n",
       "      <td>0</td>\n",
       "      <td>0</td>\n",
       "      <td>0</td>\n",
       "      <td>0</td>\n",
       "      <td>0</td>\n",
       "      <td>0</td>\n",
       "      <td>0</td>\n",
       "      <td>0</td>\n",
       "      <td>0</td>\n",
       "      <td>0</td>\n",
       "      <td>0</td>\n",
       "      <td>0</td>\n",
       "      <td>0</td>\n",
       "      <td>0</td>\n",
       "      <td>0</td>\n",
       "      <td>0</td>\n",
       "      <td>0</td>\n",
       "      <td>0</td>\n",
       "      <td>0</td>\n",
       "      <td>0</td>\n",
       "      <td>0</td>\n",
       "      <td>0</td>\n",
       "      <td>0</td>\n",
       "      <td>0</td>\n",
       "      <td>0</td>\n",
       "      <td>0</td>\n",
       "      <td>0</td>\n",
       "      <td>0</td>\n",
       "      <td>0</td>\n",
       "      <td>0</td>\n",
       "      <td>0</td>\n",
       "      <td>0</td>\n",
       "      <td>0</td>\n",
       "      <td>0</td>\n",
       "      <td>0</td>\n",
       "      <td>0</td>\n",
       "      <td>0</td>\n",
       "      <td>0</td>\n",
       "      <td>0</td>\n",
       "      <td>0</td>\n",
       "      <td>0</td>\n",
       "      <td>0</td>\n",
       "      <td>0</td>\n",
       "      <td>0</td>\n",
       "      <td>0</td>\n",
       "      <td>0</td>\n",
       "      <td>0</td>\n",
       "      <td>0</td>\n",
       "      <td>0</td>\n",
       "      <td>0</td>\n",
       "      <td>0</td>\n",
       "      <td>0</td>\n",
       "      <td>0</td>\n",
       "      <td>0</td>\n",
       "      <td>0</td>\n",
       "      <td>0</td>\n",
       "      <td>0</td>\n",
       "      <td>1</td>\n",
       "      <td>0</td>\n",
       "      <td>0</td>\n",
       "      <td>0</td>\n",
       "      <td>0</td>\n",
       "      <td>0</td>\n",
       "      <td>0</td>\n",
       "      <td>0</td>\n",
       "      <td>0</td>\n",
       "      <td>0</td>\n",
       "      <td>0</td>\n",
       "      <td>0</td>\n",
       "      <td>0</td>\n",
       "      <td>0</td>\n",
       "      <td>0</td>\n",
       "      <td>0</td>\n",
       "      <td>0</td>\n",
       "      <td>0</td>\n",
       "      <td>0</td>\n",
       "      <td>0</td>\n",
       "      <td>0</td>\n",
       "      <td>0</td>\n",
       "      <td>1</td>\n",
       "      <td>0</td>\n",
       "      <td>0</td>\n",
       "      <td>0</td>\n",
       "    </tr>\n",
       "    <tr>\n",
       "      <th>3332</th>\n",
       "      <td>1260.0</td>\n",
       "      <td>72.00</td>\n",
       "      <td>2.5</td>\n",
       "      <td>0</td>\n",
       "      <td>0</td>\n",
       "      <td>1</td>\n",
       "      <td>1</td>\n",
       "      <td>0</td>\n",
       "      <td>0</td>\n",
       "      <td>0</td>\n",
       "      <td>0</td>\n",
       "      <td>0</td>\n",
       "      <td>0</td>\n",
       "      <td>0</td>\n",
       "      <td>0</td>\n",
       "      <td>0</td>\n",
       "      <td>0</td>\n",
       "      <td>0</td>\n",
       "      <td>0</td>\n",
       "      <td>0</td>\n",
       "      <td>0</td>\n",
       "      <td>0</td>\n",
       "      <td>0</td>\n",
       "      <td>0</td>\n",
       "      <td>0</td>\n",
       "      <td>0</td>\n",
       "      <td>0</td>\n",
       "      <td>0</td>\n",
       "      <td>0</td>\n",
       "      <td>0</td>\n",
       "      <td>0</td>\n",
       "      <td>0</td>\n",
       "      <td>0</td>\n",
       "      <td>0</td>\n",
       "      <td>0</td>\n",
       "      <td>0</td>\n",
       "      <td>0</td>\n",
       "      <td>0</td>\n",
       "      <td>0</td>\n",
       "      <td>0</td>\n",
       "      <td>0</td>\n",
       "      <td>0</td>\n",
       "      <td>0</td>\n",
       "      <td>0</td>\n",
       "      <td>0</td>\n",
       "      <td>0</td>\n",
       "      <td>0</td>\n",
       "      <td>0</td>\n",
       "      <td>0</td>\n",
       "      <td>0</td>\n",
       "      <td>0</td>\n",
       "      <td>0</td>\n",
       "      <td>0</td>\n",
       "      <td>0</td>\n",
       "      <td>0</td>\n",
       "      <td>0</td>\n",
       "      <td>0</td>\n",
       "      <td>0</td>\n",
       "      <td>0</td>\n",
       "      <td>0</td>\n",
       "      <td>0</td>\n",
       "      <td>0</td>\n",
       "      <td>0</td>\n",
       "      <td>0</td>\n",
       "      <td>0</td>\n",
       "      <td>0</td>\n",
       "      <td>0</td>\n",
       "      <td>0</td>\n",
       "      <td>0</td>\n",
       "      <td>0</td>\n",
       "      <td>0</td>\n",
       "      <td>0</td>\n",
       "      <td>0</td>\n",
       "      <td>0</td>\n",
       "      <td>0</td>\n",
       "      <td>0</td>\n",
       "      <td>0</td>\n",
       "      <td>0</td>\n",
       "      <td>0</td>\n",
       "      <td>0</td>\n",
       "      <td>0</td>\n",
       "      <td>0</td>\n",
       "      <td>0</td>\n",
       "      <td>0</td>\n",
       "      <td>0</td>\n",
       "      <td>0</td>\n",
       "      <td>1</td>\n",
       "      <td>0</td>\n",
       "      <td>0</td>\n",
       "      <td>0</td>\n",
       "      <td>0</td>\n",
       "      <td>0</td>\n",
       "      <td>0</td>\n",
       "      <td>0</td>\n",
       "      <td>0</td>\n",
       "      <td>0</td>\n",
       "      <td>0</td>\n",
       "      <td>0</td>\n",
       "      <td>0</td>\n",
       "      <td>0</td>\n",
       "      <td>0</td>\n",
       "      <td>0</td>\n",
       "      <td>0</td>\n",
       "      <td>1</td>\n",
       "      <td>0</td>\n",
       "      <td>0</td>\n",
       "      <td>0</td>\n",
       "    </tr>\n",
       "    <tr>\n",
       "      <th>3333</th>\n",
       "      <td>2995.0</td>\n",
       "      <td>158.00</td>\n",
       "      <td>4.0</td>\n",
       "      <td>0</td>\n",
       "      <td>0</td>\n",
       "      <td>0</td>\n",
       "      <td>0</td>\n",
       "      <td>1</td>\n",
       "      <td>0</td>\n",
       "      <td>1</td>\n",
       "      <td>0</td>\n",
       "      <td>0</td>\n",
       "      <td>0</td>\n",
       "      <td>0</td>\n",
       "      <td>0</td>\n",
       "      <td>0</td>\n",
       "      <td>0</td>\n",
       "      <td>0</td>\n",
       "      <td>0</td>\n",
       "      <td>0</td>\n",
       "      <td>0</td>\n",
       "      <td>0</td>\n",
       "      <td>0</td>\n",
       "      <td>0</td>\n",
       "      <td>0</td>\n",
       "      <td>0</td>\n",
       "      <td>0</td>\n",
       "      <td>0</td>\n",
       "      <td>0</td>\n",
       "      <td>0</td>\n",
       "      <td>0</td>\n",
       "      <td>0</td>\n",
       "      <td>0</td>\n",
       "      <td>0</td>\n",
       "      <td>0</td>\n",
       "      <td>0</td>\n",
       "      <td>0</td>\n",
       "      <td>0</td>\n",
       "      <td>0</td>\n",
       "      <td>0</td>\n",
       "      <td>0</td>\n",
       "      <td>0</td>\n",
       "      <td>0</td>\n",
       "      <td>0</td>\n",
       "      <td>0</td>\n",
       "      <td>0</td>\n",
       "      <td>0</td>\n",
       "      <td>0</td>\n",
       "      <td>0</td>\n",
       "      <td>0</td>\n",
       "      <td>0</td>\n",
       "      <td>0</td>\n",
       "      <td>0</td>\n",
       "      <td>0</td>\n",
       "      <td>0</td>\n",
       "      <td>0</td>\n",
       "      <td>0</td>\n",
       "      <td>0</td>\n",
       "      <td>0</td>\n",
       "      <td>0</td>\n",
       "      <td>0</td>\n",
       "      <td>0</td>\n",
       "      <td>0</td>\n",
       "      <td>0</td>\n",
       "      <td>0</td>\n",
       "      <td>0</td>\n",
       "      <td>0</td>\n",
       "      <td>0</td>\n",
       "      <td>0</td>\n",
       "      <td>0</td>\n",
       "      <td>0</td>\n",
       "      <td>0</td>\n",
       "      <td>0</td>\n",
       "      <td>0</td>\n",
       "      <td>0</td>\n",
       "      <td>0</td>\n",
       "      <td>0</td>\n",
       "      <td>0</td>\n",
       "      <td>0</td>\n",
       "      <td>0</td>\n",
       "      <td>0</td>\n",
       "      <td>0</td>\n",
       "      <td>0</td>\n",
       "      <td>0</td>\n",
       "      <td>0</td>\n",
       "      <td>0</td>\n",
       "      <td>0</td>\n",
       "      <td>0</td>\n",
       "      <td>1</td>\n",
       "      <td>0</td>\n",
       "      <td>0</td>\n",
       "      <td>0</td>\n",
       "      <td>0</td>\n",
       "      <td>0</td>\n",
       "      <td>0</td>\n",
       "      <td>0</td>\n",
       "      <td>0</td>\n",
       "      <td>0</td>\n",
       "      <td>0</td>\n",
       "      <td>1</td>\n",
       "      <td>0</td>\n",
       "      <td>0</td>\n",
       "      <td>0</td>\n",
       "      <td>0</td>\n",
       "      <td>0</td>\n",
       "      <td>0</td>\n",
       "      <td>0</td>\n",
       "    </tr>\n",
       "    <tr>\n",
       "      <th>3334</th>\n",
       "      <td>1999.0</td>\n",
       "      <td>136.32</td>\n",
       "      <td>4.0</td>\n",
       "      <td>0</td>\n",
       "      <td>0</td>\n",
       "      <td>0</td>\n",
       "      <td>0</td>\n",
       "      <td>1</td>\n",
       "      <td>0</td>\n",
       "      <td>0</td>\n",
       "      <td>0</td>\n",
       "      <td>0</td>\n",
       "      <td>0</td>\n",
       "      <td>0</td>\n",
       "      <td>0</td>\n",
       "      <td>0</td>\n",
       "      <td>0</td>\n",
       "      <td>0</td>\n",
       "      <td>0</td>\n",
       "      <td>0</td>\n",
       "      <td>0</td>\n",
       "      <td>0</td>\n",
       "      <td>1</td>\n",
       "      <td>0</td>\n",
       "      <td>0</td>\n",
       "      <td>0</td>\n",
       "      <td>0</td>\n",
       "      <td>0</td>\n",
       "      <td>0</td>\n",
       "      <td>0</td>\n",
       "      <td>0</td>\n",
       "      <td>0</td>\n",
       "      <td>0</td>\n",
       "      <td>0</td>\n",
       "      <td>0</td>\n",
       "      <td>0</td>\n",
       "      <td>0</td>\n",
       "      <td>0</td>\n",
       "      <td>0</td>\n",
       "      <td>0</td>\n",
       "      <td>0</td>\n",
       "      <td>0</td>\n",
       "      <td>0</td>\n",
       "      <td>0</td>\n",
       "      <td>0</td>\n",
       "      <td>0</td>\n",
       "      <td>0</td>\n",
       "      <td>0</td>\n",
       "      <td>0</td>\n",
       "      <td>0</td>\n",
       "      <td>0</td>\n",
       "      <td>0</td>\n",
       "      <td>0</td>\n",
       "      <td>0</td>\n",
       "      <td>0</td>\n",
       "      <td>0</td>\n",
       "      <td>0</td>\n",
       "      <td>0</td>\n",
       "      <td>0</td>\n",
       "      <td>0</td>\n",
       "      <td>0</td>\n",
       "      <td>0</td>\n",
       "      <td>0</td>\n",
       "      <td>0</td>\n",
       "      <td>0</td>\n",
       "      <td>0</td>\n",
       "      <td>0</td>\n",
       "      <td>0</td>\n",
       "      <td>0</td>\n",
       "      <td>0</td>\n",
       "      <td>0</td>\n",
       "      <td>0</td>\n",
       "      <td>0</td>\n",
       "      <td>0</td>\n",
       "      <td>0</td>\n",
       "      <td>0</td>\n",
       "      <td>0</td>\n",
       "      <td>0</td>\n",
       "      <td>0</td>\n",
       "      <td>0</td>\n",
       "      <td>0</td>\n",
       "      <td>0</td>\n",
       "      <td>0</td>\n",
       "      <td>0</td>\n",
       "      <td>0</td>\n",
       "      <td>0</td>\n",
       "      <td>0</td>\n",
       "      <td>0</td>\n",
       "      <td>0</td>\n",
       "      <td>0</td>\n",
       "      <td>0</td>\n",
       "      <td>0</td>\n",
       "      <td>0</td>\n",
       "      <td>0</td>\n",
       "      <td>0</td>\n",
       "      <td>0</td>\n",
       "      <td>0</td>\n",
       "      <td>0</td>\n",
       "      <td>0</td>\n",
       "      <td>1</td>\n",
       "      <td>0</td>\n",
       "      <td>0</td>\n",
       "      <td>0</td>\n",
       "      <td>0</td>\n",
       "      <td>0</td>\n",
       "      <td>0</td>\n",
       "      <td>0</td>\n",
       "    </tr>\n",
       "  </tbody>\n",
       "</table>\n",
       "</div>"
      ],
      "text/plain": [
       "      total rent    area  number of rooms  balcony  built-in kitchen  \\\n",
       "3330      1035.0   80.00              3.0        1                 0   \n",
       "3331      1663.0   84.10              2.0        0                 0   \n",
       "3332      1260.0   72.00              2.5        0                 0   \n",
       "3333      2995.0  158.00              4.0        0                 0   \n",
       "3334      1999.0  136.32              4.0        0                 0   \n",
       "\n",
       "      basement  garden  elevator  stepless  guest toilet  flat share possible  \\\n",
       "3330         1       1         0         0             0                    0   \n",
       "3331         0       1         0         0             0                    0   \n",
       "3332         1       1         0         0             0                    0   \n",
       "3333         0       0         1         0             1                    0   \n",
       "3334         0       0         1         0             0                    0   \n",
       "\n",
       "      district_alt-hohenschönhausen  district_alt-treptow  \\\n",
       "3330                              0                     0   \n",
       "3331                              0                     0   \n",
       "3332                              0                     0   \n",
       "3333                              0                     0   \n",
       "3334                              0                     0   \n",
       "\n",
       "      district_altglienicke  district_baumschulenweg  district_biesdorf  \\\n",
       "3330                      0                        0                  0   \n",
       "3331                      0                        0                  0   \n",
       "3332                      0                        0                  0   \n",
       "3333                      0                        0                  0   \n",
       "3334                      0                        0                  0   \n",
       "\n",
       "      district_blankenburg  district_bohnsdorf  district_borsigwalde  \\\n",
       "3330                     0                   0                     0   \n",
       "3331                     0                   0                     0   \n",
       "3332                     0                   0                     0   \n",
       "3333                     0                   0                     0   \n",
       "3334                     0                   0                     0   \n",
       "\n",
       "      district_britz  district_buch  district_buckow  district_charlottenburg  \\\n",
       "3330               0              0                0                        0   \n",
       "3331               0              0                0                        0   \n",
       "3332               0              0                0                        0   \n",
       "3333               0              0                0                        0   \n",
       "3334               0              0                0                        1   \n",
       "\n",
       "      district_charlottenburg-nord  district_dahlem  district_falkenberg  \\\n",
       "3330                             0                0                    0   \n",
       "3331                             0                0                    0   \n",
       "3332                             0                0                    0   \n",
       "3333                             0                0                    0   \n",
       "3334                             0                0                    0   \n",
       "\n",
       "      district_falkenhagener feld  district_fennpfuhl  \\\n",
       "3330                            0                   0   \n",
       "3331                            0                   0   \n",
       "3332                            0                   0   \n",
       "3333                            0                   0   \n",
       "3334                            0                   0   \n",
       "\n",
       "      district_französisch buchholz  district_friedenau  \\\n",
       "3330                              0                   0   \n",
       "3331                              0                   0   \n",
       "3332                              0                   0   \n",
       "3333                              0                   0   \n",
       "3334                              0                   0   \n",
       "\n",
       "      district_friedrichsfelde  district_friedrichshagen  \\\n",
       "3330                         0                         0   \n",
       "3331                         0                         0   \n",
       "3332                         0                         0   \n",
       "3333                         0                         0   \n",
       "3334                         0                         0   \n",
       "\n",
       "      district_friedrichshain  district_gatow  district_gesundbrunnen  \\\n",
       "3330                        0               0                       0   \n",
       "3331                        0               0                       0   \n",
       "3332                        0               0                       0   \n",
       "3333                        0               0                       0   \n",
       "3334                        0               0                       0   \n",
       "\n",
       "      district_gropiusstadt  district_grunewald  district_grünau  \\\n",
       "3330                      0                   0                0   \n",
       "3331                      0                   0                0   \n",
       "3332                      0                   0                0   \n",
       "3333                      0                   0                0   \n",
       "3334                      0                   0                0   \n",
       "\n",
       "      district_hakenfelde  district_halensee  district_hansaviertel  \\\n",
       "3330                    0                  0                      0   \n",
       "3331                    0                  0                      0   \n",
       "3332                    0                  0                      0   \n",
       "3333                    0                  0                      0   \n",
       "3334                    0                  0                      0   \n",
       "\n",
       "      district_haselhorst  district_heiligensee  district_heinersdorf  \\\n",
       "3330                    0                     0                     0   \n",
       "3331                    0                     0                     0   \n",
       "3332                    0                     0                     0   \n",
       "3333                    0                     0                     0   \n",
       "3334                    0                     0                     0   \n",
       "\n",
       "      district_hellersdorf  district_hermsdorf  district_johannisthal  \\\n",
       "3330                     0                   0                      0   \n",
       "3331                     0                   0                      0   \n",
       "3332                     0                   0                      0   \n",
       "3333                     0                   0                      0   \n",
       "3334                     0                   0                      0   \n",
       "\n",
       "      district_karlshorst  district_karow  district_kaulsdorf  \\\n",
       "3330                    0               0                   1   \n",
       "3331                    0               0                   0   \n",
       "3332                    0               0                   0   \n",
       "3333                    0               0                   0   \n",
       "3334                    0               0                   0   \n",
       "\n",
       "      district_konradshöhe  district_kreuzberg  district_köpenick  \\\n",
       "3330                     0                   0                  0   \n",
       "3331                     0                   0                  0   \n",
       "3332                     0                   0                  0   \n",
       "3333                     0                   0                  0   \n",
       "3334                     0                   0                  0   \n",
       "\n",
       "      district_lankwitz  district_lichtenberg  district_lichtenrade  \\\n",
       "3330                  0                     0                     0   \n",
       "3331                  0                     0                     0   \n",
       "3332                  0                     0                     0   \n",
       "3333                  0                     0                     0   \n",
       "3334                  0                     0                     0   \n",
       "\n",
       "      district_lichterfelde  district_lübars  district_mahlsdorf  \\\n",
       "3330                      0                0                   0   \n",
       "3331                      0                0                   0   \n",
       "3332                      0                0                   0   \n",
       "3333                      0                0                   0   \n",
       "3334                      0                0                   0   \n",
       "\n",
       "      district_mariendorf  district_marienfelde  district_marzahn  \\\n",
       "3330                    0                     0                 0   \n",
       "3331                    0                     0                 0   \n",
       "3332                    0                     0                 0   \n",
       "3333                    0                     0                 0   \n",
       "3334                    0                     0                 0   \n",
       "\n",
       "      district_mitte  district_moabit  district_märkisches viertel  \\\n",
       "3330               0                0                            0   \n",
       "3331               0                0                            0   \n",
       "3332               0                0                            0   \n",
       "3333               0                0                            0   \n",
       "3334               0                0                            0   \n",
       "\n",
       "      district_müggelheim  district_neu-hohenschönhausen  district_neukölln  \\\n",
       "3330                    0                              0                  0   \n",
       "3331                    0                              0                  0   \n",
       "3332                    0                              0                  0   \n",
       "3333                    0                              0                  0   \n",
       "3334                    0                              0                  0   \n",
       "\n",
       "      district_niederschöneweide  district_niederschönhausen  \\\n",
       "3330                           0                           0   \n",
       "3331                           0                           0   \n",
       "3332                           0                           0   \n",
       "3333                           0                           0   \n",
       "3334                           0                           0   \n",
       "\n",
       "      district_nikolassee  district_oberschöneweide  district_pankow  \\\n",
       "3330                    0                         0                0   \n",
       "3331                    0                         0                0   \n",
       "3332                    0                         0                0   \n",
       "3333                    0                         0                0   \n",
       "3334                    0                         0                0   \n",
       "\n",
       "      district_plänterwald  district_prenzlauer berg  district_rahnsdorf  \\\n",
       "3330                     0                         0                   0   \n",
       "3331                     0                         0                   0   \n",
       "3332                     0                         0                   0   \n",
       "3333                     0                         0                   0   \n",
       "3334                     0                         0                   0   \n",
       "\n",
       "      district_reinickendorf  district_rosenthal  district_rummelsburg  \\\n",
       "3330                       0                   0                     0   \n",
       "3331                       0                   0                     0   \n",
       "3332                       0                   0                     0   \n",
       "3333                       0                   0                     0   \n",
       "3334                       0                   0                     0   \n",
       "\n",
       "      district_schmargendorf  district_schmöckwitz  district_schöneberg  \\\n",
       "3330                       0                     0                    0   \n",
       "3331                       0                     0                    1   \n",
       "3332                       0                     0                    0   \n",
       "3333                       0                     0                    0   \n",
       "3334                       0                     0                    0   \n",
       "\n",
       "      district_siemensstadt  district_spandau  district_staaken  \\\n",
       "3330                      0                 0                 0   \n",
       "3331                      0                 0                 0   \n",
       "3332                      0                 0                 0   \n",
       "3333                      0                 0                 0   \n",
       "3334                      0                 0                 0   \n",
       "\n",
       "      district_steglitz  district_tegel  district_tempelhof  \\\n",
       "3330                  0               0                   0   \n",
       "3331                  0               0                   0   \n",
       "3332                  0               1                   0   \n",
       "3333                  0               0                   0   \n",
       "3334                  0               0                   0   \n",
       "\n",
       "      district_tiergarten  district_wannsee  district_wedding  \\\n",
       "3330                    0                 0                 0   \n",
       "3331                    0                 0                 0   \n",
       "3332                    0                 0                 0   \n",
       "3333                    1                 0                 0   \n",
       "3334                    0                 0                 0   \n",
       "\n",
       "      district_weißensee  district_westend  district_wilhelmsruh  \\\n",
       "3330                   0                 0                     0   \n",
       "3331                   0                 0                     0   \n",
       "3332                   0                 0                     0   \n",
       "3333                   0                 0                     0   \n",
       "3334                   0                 0                     0   \n",
       "\n",
       "      district_wilhelmstadt  district_wilmersdorf  district_wittenau  \\\n",
       "3330                      0                     0                  0   \n",
       "3331                      0                     0                  0   \n",
       "3332                      0                     0                  0   \n",
       "3333                      0                     0                  0   \n",
       "3334                      0                     0                  0   \n",
       "\n",
       "      district_zehlendorf  landlord_degewo  landlord_estate agent  \\\n",
       "3330                    0                0                      1   \n",
       "3331                    0                0                      0   \n",
       "3332                    0                0                      0   \n",
       "3333                    0                0                      1   \n",
       "3334                    0                0                      1   \n",
       "\n",
       "      landlord_housinganywhere b.v.  landlord_howoge  landlord_numa group  \\\n",
       "3330                              0                0                    0   \n",
       "3331                              0                0                    0   \n",
       "3332                              0                0                    0   \n",
       "3333                              0                0                    0   \n",
       "3334                              0                0                    0   \n",
       "\n",
       "      landlord_private offer  landlord_tauschwohnung wohnungstausch  \\\n",
       "3330                       0                                      0   \n",
       "3331                       1                                      0   \n",
       "3332                       1                                      0   \n",
       "3333                       0                                      0   \n",
       "3334                       0                                      0   \n",
       "\n",
       "      landlord_visionapartments  landlord_wohnungsswap.de  \n",
       "3330                          0                         0  \n",
       "3331                          0                         0  \n",
       "3332                          0                         0  \n",
       "3333                          0                         0  \n",
       "3334                          0                         0  "
      ]
     },
     "execution_count": 2,
     "metadata": {},
     "output_type": "execute_result"
    }
   ],
   "source": [
    "# read the clean data without outliers and only numeric (with dummies)\n",
    "df = pd.read_csv(\"df_numeric.csv\")\n",
    "df.tail()"
   ]
  },
  {
   "cell_type": "code",
   "execution_count": 3,
   "id": "3e0ac94b-1fa3-4600-a307-5230a5b3e2d7",
   "metadata": {},
   "outputs": [],
   "source": [
    "### Filtering "
   ]
  },
  {
   "cell_type": "code",
   "execution_count": 4,
   "id": "48dc145c-3e5e-444c-894b-a4ef6c16e1c8",
   "metadata": {},
   "outputs": [],
   "source": [
    "df=df[df[\"landlord_housinganywhere b.v.\"]==0]"
   ]
  },
  {
   "cell_type": "code",
   "execution_count": 5,
   "id": "289992d3-dcdd-42ba-9d90-5bfe2b806ff1",
   "metadata": {},
   "outputs": [],
   "source": [
    "#df=df[df[\"landlord_numa group\"]==0]"
   ]
  },
  {
   "cell_type": "code",
   "execution_count": 6,
   "id": "72ab931a-3245-49b9-a029-79aed496d328",
   "metadata": {},
   "outputs": [],
   "source": [
    "#df=df[df[\"landlord_visionapartments\"]==0]"
   ]
  },
  {
   "cell_type": "markdown",
   "id": "c267d9d3",
   "metadata": {},
   "source": [
    "#### Doing X-y split (y is the target variable total rent)"
   ]
  },
  {
   "cell_type": "code",
   "execution_count": 7,
   "id": "b6b9aef2",
   "metadata": {},
   "outputs": [],
   "source": [
    "y = df[\"total rent\"]"
   ]
  },
  {
   "cell_type": "code",
   "execution_count": 8,
   "id": "646b6ca0",
   "metadata": {
    "scrolled": true
   },
   "outputs": [],
   "source": [
    "X = df.drop(columns=[\"total rent\"])"
   ]
  },
  {
   "cell_type": "markdown",
   "id": "7473112d",
   "metadata": {
    "tags": []
   },
   "source": [
    "#### Dropping columns with low number of occurences (not yet)"
   ]
  },
  {
   "cell_type": "code",
   "execution_count": 9,
   "id": "a1e962d9-3b6a-4dbd-838f-fa6e3cedaa86",
   "metadata": {},
   "outputs": [],
   "source": [
    "X = X.drop(columns=['district_charlottenburg-nord', 'district_weißensee',\n",
    "       'district_dahlem', 'district_blankenburg', 'district_wilhelmsruh',\n",
    "       'district_borsigwalde', 'district_bohnsdorf', 'district_tegel',\n",
    "       'landlord_degewo', 'landlord_housinganywhere b.v.',\n",
    "       'district_baumschulenweg', 'landlord_numa group',\n",
    "       'district_alt-treptow', 'landlord_visionapartments',\n",
    "       'district_falkenberg', 'district_konradshöhe', 'district_steglitz',\n",
    "       'district_falkenhagener feld', 'district_lübars',\n",
    "       'district_mariendorf', 'district_hermsdorf',\n",
    "       'district_heiligensee', 'district_haselhorst',\n",
    "       'district_märkisches viertel', 'district_müggelheim',\n",
    "       'district_hansaviertel', 'district_gropiusstadt',\n",
    "       'district_nikolassee', 'district_pankow', 'district_plänterwald',\n",
    "       'district_gesundbrunnen', 'district_gatow', 'district_lankwitz',\n",
    "       'district_französisch buchholz', 'district_fennpfuhl',\n",
    "       'district_lichtenberg','district_wannsee', 'district_rosenthal',\n",
    "       'district_friedrichshagen', 'district_altglienicke',\n",
    "       'district_mahlsdorf','district_westend', 'district_lichterfelde'])"
   ]
  },
  {
   "cell_type": "code",
   "execution_count": 10,
   "id": "040bc4c9-d83b-4e63-8eeb-fb46d1c33c57",
   "metadata": {},
   "outputs": [
    {
     "data": {
      "text/plain": [
       "(1890, 63)"
      ]
     },
     "execution_count": 10,
     "metadata": {},
     "output_type": "execute_result"
    }
   ],
   "source": [
    "X.shape"
   ]
  },
  {
   "cell_type": "markdown",
   "id": "27141388",
   "metadata": {},
   "source": [
    "#### Train/ Test Split"
   ]
  },
  {
   "cell_type": "code",
   "execution_count": 11,
   "id": "7f469129",
   "metadata": {},
   "outputs": [],
   "source": [
    "X_train, X_test, y_train, y_test = train_test_split(X, y, test_size= 0.2,random_state= 42)"
   ]
  },
  {
   "cell_type": "markdown",
   "id": "703e8632",
   "metadata": {},
   "source": [
    "#### Standardizing the data using a scaler is not necessary but can be done to improve model (in this case model stays the same)"
   ]
  },
  {
   "cell_type": "code",
   "execution_count": 12,
   "id": "0810cf19",
   "metadata": {},
   "outputs": [],
   "source": [
    "# fit and transform for tain data\n",
    "# only transform for test data\n",
    "#transformer = StandardScaler()\n",
    "#X_train = transformer.fit_transform(X_train)\n",
    "#X_test  = transformer.transform(X_test)"
   ]
  },
  {
   "cell_type": "markdown",
   "id": "70d473e3",
   "metadata": {},
   "source": [
    "#### Train, fit, and evaluate xgboost model and gradient regression model"
   ]
  },
  {
   "cell_type": "code",
   "execution_count": 13,
   "id": "291d8189",
   "metadata": {},
   "outputs": [],
   "source": [
    "#!pip install xgboost"
   ]
  },
  {
   "cell_type": "code",
   "execution_count": 14,
   "id": "654f40f7",
   "metadata": {},
   "outputs": [
    {
     "data": {
      "text/html": [
       "<style>#sk-container-id-1 {color: black;background-color: white;}#sk-container-id-1 pre{padding: 0;}#sk-container-id-1 div.sk-toggleable {background-color: white;}#sk-container-id-1 label.sk-toggleable__label {cursor: pointer;display: block;width: 100%;margin-bottom: 0;padding: 0.3em;box-sizing: border-box;text-align: center;}#sk-container-id-1 label.sk-toggleable__label-arrow:before {content: \"▸\";float: left;margin-right: 0.25em;color: #696969;}#sk-container-id-1 label.sk-toggleable__label-arrow:hover:before {color: black;}#sk-container-id-1 div.sk-estimator:hover label.sk-toggleable__label-arrow:before {color: black;}#sk-container-id-1 div.sk-toggleable__content {max-height: 0;max-width: 0;overflow: hidden;text-align: left;background-color: #f0f8ff;}#sk-container-id-1 div.sk-toggleable__content pre {margin: 0.2em;color: black;border-radius: 0.25em;background-color: #f0f8ff;}#sk-container-id-1 input.sk-toggleable__control:checked~div.sk-toggleable__content {max-height: 200px;max-width: 100%;overflow: auto;}#sk-container-id-1 input.sk-toggleable__control:checked~label.sk-toggleable__label-arrow:before {content: \"▾\";}#sk-container-id-1 div.sk-estimator input.sk-toggleable__control:checked~label.sk-toggleable__label {background-color: #d4ebff;}#sk-container-id-1 div.sk-label input.sk-toggleable__control:checked~label.sk-toggleable__label {background-color: #d4ebff;}#sk-container-id-1 input.sk-hidden--visually {border: 0;clip: rect(1px 1px 1px 1px);clip: rect(1px, 1px, 1px, 1px);height: 1px;margin: -1px;overflow: hidden;padding: 0;position: absolute;width: 1px;}#sk-container-id-1 div.sk-estimator {font-family: monospace;background-color: #f0f8ff;border: 1px dotted black;border-radius: 0.25em;box-sizing: border-box;margin-bottom: 0.5em;}#sk-container-id-1 div.sk-estimator:hover {background-color: #d4ebff;}#sk-container-id-1 div.sk-parallel-item::after {content: \"\";width: 100%;border-bottom: 1px solid gray;flex-grow: 1;}#sk-container-id-1 div.sk-label:hover label.sk-toggleable__label {background-color: #d4ebff;}#sk-container-id-1 div.sk-serial::before {content: \"\";position: absolute;border-left: 1px solid gray;box-sizing: border-box;top: 0;bottom: 0;left: 50%;z-index: 0;}#sk-container-id-1 div.sk-serial {display: flex;flex-direction: column;align-items: center;background-color: white;padding-right: 0.2em;padding-left: 0.2em;position: relative;}#sk-container-id-1 div.sk-item {position: relative;z-index: 1;}#sk-container-id-1 div.sk-parallel {display: flex;align-items: stretch;justify-content: center;background-color: white;position: relative;}#sk-container-id-1 div.sk-item::before, #sk-container-id-1 div.sk-parallel-item::before {content: \"\";position: absolute;border-left: 1px solid gray;box-sizing: border-box;top: 0;bottom: 0;left: 50%;z-index: -1;}#sk-container-id-1 div.sk-parallel-item {display: flex;flex-direction: column;z-index: 1;position: relative;background-color: white;}#sk-container-id-1 div.sk-parallel-item:first-child::after {align-self: flex-end;width: 50%;}#sk-container-id-1 div.sk-parallel-item:last-child::after {align-self: flex-start;width: 50%;}#sk-container-id-1 div.sk-parallel-item:only-child::after {width: 0;}#sk-container-id-1 div.sk-dashed-wrapped {border: 1px dashed gray;margin: 0 0.4em 0.5em 0.4em;box-sizing: border-box;padding-bottom: 0.4em;background-color: white;}#sk-container-id-1 div.sk-label label {font-family: monospace;font-weight: bold;display: inline-block;line-height: 1.2em;}#sk-container-id-1 div.sk-label-container {text-align: center;}#sk-container-id-1 div.sk-container {/* jupyter's `normalize.less` sets `[hidden] { display: none; }` but bootstrap.min.css set `[hidden] { display: none !important; }` so we also need the `!important` here to be able to override the default hidden behavior on the sphinx rendered scikit-learn.org. See: https://github.com/scikit-learn/scikit-learn/issues/21755 */display: inline-block !important;position: relative;}#sk-container-id-1 div.sk-text-repr-fallback {display: none;}</style><div id=\"sk-container-id-1\" class=\"sk-top-container\"><div class=\"sk-text-repr-fallback\"><pre>XGBRegressor(base_score=None, booster=None, callbacks=None,\n",
       "             colsample_bylevel=None, colsample_bynode=None,\n",
       "             colsample_bytree=0.8, early_stopping_rounds=None,\n",
       "             enable_categorical=False, eval_metric=None, feature_types=None,\n",
       "             gamma=None, gpu_id=None, grow_policy=None, importance_type=None,\n",
       "             interaction_constraints=None, learning_rate=None, max_bin=None,\n",
       "             max_cat_threshold=None, max_cat_to_onehot=None,\n",
       "             max_delta_step=None, max_depth=6, max_leaves=None,\n",
       "             min_child_weight=3, missing=nan, monotone_constraints=None,\n",
       "             n_estimators=50, n_jobs=None, num_parallel_tree=None,\n",
       "             predictor=None, random_state=42, ...)</pre><b>In a Jupyter environment, please rerun this cell to show the HTML representation or trust the notebook. <br />On GitHub, the HTML representation is unable to render, please try loading this page with nbviewer.org.</b></div><div class=\"sk-container\" hidden><div class=\"sk-item\"><div class=\"sk-estimator sk-toggleable\"><input class=\"sk-toggleable__control sk-hidden--visually\" id=\"sk-estimator-id-1\" type=\"checkbox\" checked><label for=\"sk-estimator-id-1\" class=\"sk-toggleable__label sk-toggleable__label-arrow\">XGBRegressor</label><div class=\"sk-toggleable__content\"><pre>XGBRegressor(base_score=None, booster=None, callbacks=None,\n",
       "             colsample_bylevel=None, colsample_bynode=None,\n",
       "             colsample_bytree=0.8, early_stopping_rounds=None,\n",
       "             enable_categorical=False, eval_metric=None, feature_types=None,\n",
       "             gamma=None, gpu_id=None, grow_policy=None, importance_type=None,\n",
       "             interaction_constraints=None, learning_rate=None, max_bin=None,\n",
       "             max_cat_threshold=None, max_cat_to_onehot=None,\n",
       "             max_delta_step=None, max_depth=6, max_leaves=None,\n",
       "             min_child_weight=3, missing=nan, monotone_constraints=None,\n",
       "             n_estimators=50, n_jobs=None, num_parallel_tree=None,\n",
       "             predictor=None, random_state=42, ...)</pre></div></div></div></div></div>"
      ],
      "text/plain": [
       "XGBRegressor(base_score=None, booster=None, callbacks=None,\n",
       "             colsample_bylevel=None, colsample_bynode=None,\n",
       "             colsample_bytree=0.8, early_stopping_rounds=None,\n",
       "             enable_categorical=False, eval_metric=None, feature_types=None,\n",
       "             gamma=None, gpu_id=None, grow_policy=None, importance_type=None,\n",
       "             interaction_constraints=None, learning_rate=None, max_bin=None,\n",
       "             max_cat_threshold=None, max_cat_to_onehot=None,\n",
       "             max_delta_step=None, max_depth=6, max_leaves=None,\n",
       "             min_child_weight=3, missing=nan, monotone_constraints=None,\n",
       "             n_estimators=50, n_jobs=None, num_parallel_tree=None,\n",
       "             predictor=None, random_state=42, ...)"
      ]
     },
     "execution_count": 14,
     "metadata": {},
     "output_type": "execute_result"
    },
    {
     "name": "stdout",
     "output_type": "stream",
     "text": [
      "train prediction R2 score: 0.84\n",
      "test prediction R2 score: 0.70\n"
     ]
    }
   ],
   "source": [
    "#{'max_features': 'sqrt',\n",
    "# 'min_samples_leaf': 1,\n",
    "# 'min_samples_split': 2,\n",
    "# 'n_estimators': 50}\n",
    "#gritsearch_2:\n",
    "#'colsample_bytree': 1.0,\n",
    "#'max_depth': 6,\n",
    "#'min_child_weight': 10,\n",
    "#'n_estimators': 100}\n",
    "\n",
    "import xgboost as xgb\n",
    "\n",
    "xgb_ops = {\"max_depth\": 6,\n",
    "           \"min_child_weight\": 3,\n",
    "           \"colsample_bytree\": 0.8,\n",
    "           \"n_estimators\": 50,\n",
    "           \"random_state\": 42}\n",
    "\n",
    "regressor_x = xgb.XGBRegressor(**xgb_ops)\n",
    "regressor_x.fit(X_train, y_train)\n",
    "\n",
    "print(\"train prediction R2 score: %.2f\" % (regressor_x.score(X_train, y_train)))\n",
    "print(\"test prediction R2 score: %.2f\" % (regressor_x.score(X_test, y_test)))\n"
   ]
  },
  {
   "cell_type": "markdown",
   "id": "f87cf9be",
   "metadata": {},
   "source": [
    "#### Cross validation"
   ]
  },
  {
   "cell_type": "code",
   "execution_count": 15,
   "id": "fc42f674",
   "metadata": {},
   "outputs": [],
   "source": [
    "from sklearn.model_selection import cross_val_score\n",
    "folds=5\n",
    "cross_val_scores = cross_val_score(regressor_x, X_train, y_train, cv=folds)\n"
   ]
  },
  {
   "cell_type": "code",
   "execution_count": 16,
   "id": "fd4822cb",
   "metadata": {},
   "outputs": [
    {
     "name": "stdout",
     "output_type": "stream",
     "text": [
      "cv scores over 5 iterations: \n",
      "\n"
     ]
    },
    {
     "data": {
      "text/plain": [
       "array([0.6148012 , 0.59211453, 0.63124282, 0.60579047, 0.59905118])"
      ]
     },
     "execution_count": 16,
     "metadata": {},
     "output_type": "execute_result"
    }
   ],
   "source": [
    "print(\"cv scores over {:d} iterations: \\n\".format(folds))\n",
    "cross_val_scores"
   ]
  },
  {
   "cell_type": "code",
   "execution_count": 17,
   "id": "e7c9fb7c",
   "metadata": {},
   "outputs": [],
   "source": [
    "# 5 folds, so the algorithm was trained and evaluated 5 times, and the resulting scores for each fold are given in the array\n",
    "# these scores are measures of the model's performance on the validation set for each fold. \n",
    "# by looking at these scores, you can get an idea of how well the model is performing on different parts of the data. \n",
    "# a large variation in the scores may indicate that the model is overfitting or that the data is not consistent. \n",
    "# a consistent, high score across all folds suggests that the model is performing well and is generalizing to new data."
   ]
  },
  {
   "cell_type": "code",
   "execution_count": 18,
   "id": "a17c7db1",
   "metadata": {},
   "outputs": [
    {
     "name": "stdout",
     "output_type": "stream",
     "text": [
      "the std. dev. in the cv scores is 0.0136\n"
     ]
    }
   ],
   "source": [
    "print(\"the std. dev. in the cv scores is {:.4f}\".format(np.std(cross_val_scores)))"
   ]
  },
  {
   "cell_type": "code",
   "execution_count": 19,
   "id": "67cf31f2",
   "metadata": {},
   "outputs": [],
   "source": [
    "# when you calculate the standard deviation of the cross-validation scores using np.std, you get a single number \n",
    "# that represents the variation in the cross-validation scores across all the folds. \n",
    "# in your case, the result is 0.0309, which means that the cross-validation scores vary by approximately 0.0309 on average across all the folds.\n",
    "# the standard deviation is a measure of the spread or variability of a set of values.  \n",
    "# large standard deviation indicates that the values are more spread out or variable, \n",
    "# while a small standard deviation indicates that the values are more tightly clustered around the mean.\n",
    "\n",
    "# in the context of cross-validation, a small standard deviation indicates that the model is performing consistently \n",
    "# across all the folds, while a large standard deviation indicates that the model's performance is more variable across the folds. \n",
    "# Ideally, you want the standard deviation to be as small as possible, \n",
    "# since this indicates that the model is stable and reliable across different parts of the data.\n",
    "\n",
    "# in your case, a standard deviation of 0.0309 suggests that the model's performance is relatively consistent across the folds,\n",
    "# which is a good sign. "
   ]
  },
  {
   "cell_type": "markdown",
   "id": "8d5897b2",
   "metadata": {},
   "source": [
    "#### R² Test < R² Train indicates model is overfitting to train data\n"
   ]
  },
  {
   "cell_type": "markdown",
   "id": "3417723f",
   "metadata": {},
   "source": [
    "#### Improving model with feature selection!"
   ]
  },
  {
   "cell_type": "markdown",
   "id": "aa9a53ba",
   "metadata": {},
   "source": [
    "#### Comparing Feature Importance: higher the score, the more important the feature is"
   ]
  },
  {
   "cell_type": "code",
   "execution_count": 20,
   "id": "d540b46c",
   "metadata": {},
   "outputs": [
    {
     "data": {
      "text/html": [
       "<style>#sk-container-id-2 {color: black;background-color: white;}#sk-container-id-2 pre{padding: 0;}#sk-container-id-2 div.sk-toggleable {background-color: white;}#sk-container-id-2 label.sk-toggleable__label {cursor: pointer;display: block;width: 100%;margin-bottom: 0;padding: 0.3em;box-sizing: border-box;text-align: center;}#sk-container-id-2 label.sk-toggleable__label-arrow:before {content: \"▸\";float: left;margin-right: 0.25em;color: #696969;}#sk-container-id-2 label.sk-toggleable__label-arrow:hover:before {color: black;}#sk-container-id-2 div.sk-estimator:hover label.sk-toggleable__label-arrow:before {color: black;}#sk-container-id-2 div.sk-toggleable__content {max-height: 0;max-width: 0;overflow: hidden;text-align: left;background-color: #f0f8ff;}#sk-container-id-2 div.sk-toggleable__content pre {margin: 0.2em;color: black;border-radius: 0.25em;background-color: #f0f8ff;}#sk-container-id-2 input.sk-toggleable__control:checked~div.sk-toggleable__content {max-height: 200px;max-width: 100%;overflow: auto;}#sk-container-id-2 input.sk-toggleable__control:checked~label.sk-toggleable__label-arrow:before {content: \"▾\";}#sk-container-id-2 div.sk-estimator input.sk-toggleable__control:checked~label.sk-toggleable__label {background-color: #d4ebff;}#sk-container-id-2 div.sk-label input.sk-toggleable__control:checked~label.sk-toggleable__label {background-color: #d4ebff;}#sk-container-id-2 input.sk-hidden--visually {border: 0;clip: rect(1px 1px 1px 1px);clip: rect(1px, 1px, 1px, 1px);height: 1px;margin: -1px;overflow: hidden;padding: 0;position: absolute;width: 1px;}#sk-container-id-2 div.sk-estimator {font-family: monospace;background-color: #f0f8ff;border: 1px dotted black;border-radius: 0.25em;box-sizing: border-box;margin-bottom: 0.5em;}#sk-container-id-2 div.sk-estimator:hover {background-color: #d4ebff;}#sk-container-id-2 div.sk-parallel-item::after {content: \"\";width: 100%;border-bottom: 1px solid gray;flex-grow: 1;}#sk-container-id-2 div.sk-label:hover label.sk-toggleable__label {background-color: #d4ebff;}#sk-container-id-2 div.sk-serial::before {content: \"\";position: absolute;border-left: 1px solid gray;box-sizing: border-box;top: 0;bottom: 0;left: 50%;z-index: 0;}#sk-container-id-2 div.sk-serial {display: flex;flex-direction: column;align-items: center;background-color: white;padding-right: 0.2em;padding-left: 0.2em;position: relative;}#sk-container-id-2 div.sk-item {position: relative;z-index: 1;}#sk-container-id-2 div.sk-parallel {display: flex;align-items: stretch;justify-content: center;background-color: white;position: relative;}#sk-container-id-2 div.sk-item::before, #sk-container-id-2 div.sk-parallel-item::before {content: \"\";position: absolute;border-left: 1px solid gray;box-sizing: border-box;top: 0;bottom: 0;left: 50%;z-index: -1;}#sk-container-id-2 div.sk-parallel-item {display: flex;flex-direction: column;z-index: 1;position: relative;background-color: white;}#sk-container-id-2 div.sk-parallel-item:first-child::after {align-self: flex-end;width: 50%;}#sk-container-id-2 div.sk-parallel-item:last-child::after {align-self: flex-start;width: 50%;}#sk-container-id-2 div.sk-parallel-item:only-child::after {width: 0;}#sk-container-id-2 div.sk-dashed-wrapped {border: 1px dashed gray;margin: 0 0.4em 0.5em 0.4em;box-sizing: border-box;padding-bottom: 0.4em;background-color: white;}#sk-container-id-2 div.sk-label label {font-family: monospace;font-weight: bold;display: inline-block;line-height: 1.2em;}#sk-container-id-2 div.sk-label-container {text-align: center;}#sk-container-id-2 div.sk-container {/* jupyter's `normalize.less` sets `[hidden] { display: none; }` but bootstrap.min.css set `[hidden] { display: none !important; }` so we also need the `!important` here to be able to override the default hidden behavior on the sphinx rendered scikit-learn.org. See: https://github.com/scikit-learn/scikit-learn/issues/21755 */display: inline-block !important;position: relative;}#sk-container-id-2 div.sk-text-repr-fallback {display: none;}</style><div id=\"sk-container-id-2\" class=\"sk-top-container\"><div class=\"sk-text-repr-fallback\"><pre>XGBRegressor(base_score=None, booster=None, callbacks=None,\n",
       "             colsample_bylevel=None, colsample_bynode=None,\n",
       "             colsample_bytree=0.8, early_stopping_rounds=None,\n",
       "             enable_categorical=False, eval_metric=None, feature_types=None,\n",
       "             gamma=None, gpu_id=None, grow_policy=None, importance_type=None,\n",
       "             interaction_constraints=None, learning_rate=None, max_bin=None,\n",
       "             max_cat_threshold=None, max_cat_to_onehot=None,\n",
       "             max_delta_step=None, max_depth=6, max_leaves=None,\n",
       "             min_child_weight=3, missing=nan, monotone_constraints=None,\n",
       "             n_estimators=50, n_jobs=None, num_parallel_tree=None,\n",
       "             predictor=None, random_state=42, ...)</pre><b>In a Jupyter environment, please rerun this cell to show the HTML representation or trust the notebook. <br />On GitHub, the HTML representation is unable to render, please try loading this page with nbviewer.org.</b></div><div class=\"sk-container\" hidden><div class=\"sk-item\"><div class=\"sk-estimator sk-toggleable\"><input class=\"sk-toggleable__control sk-hidden--visually\" id=\"sk-estimator-id-2\" type=\"checkbox\" checked><label for=\"sk-estimator-id-2\" class=\"sk-toggleable__label sk-toggleable__label-arrow\">XGBRegressor</label><div class=\"sk-toggleable__content\"><pre>XGBRegressor(base_score=None, booster=None, callbacks=None,\n",
       "             colsample_bylevel=None, colsample_bynode=None,\n",
       "             colsample_bytree=0.8, early_stopping_rounds=None,\n",
       "             enable_categorical=False, eval_metric=None, feature_types=None,\n",
       "             gamma=None, gpu_id=None, grow_policy=None, importance_type=None,\n",
       "             interaction_constraints=None, learning_rate=None, max_bin=None,\n",
       "             max_cat_threshold=None, max_cat_to_onehot=None,\n",
       "             max_delta_step=None, max_depth=6, max_leaves=None,\n",
       "             min_child_weight=3, missing=nan, monotone_constraints=None,\n",
       "             n_estimators=50, n_jobs=None, num_parallel_tree=None,\n",
       "             predictor=None, random_state=42, ...)</pre></div></div></div></div></div>"
      ],
      "text/plain": [
       "XGBRegressor(base_score=None, booster=None, callbacks=None,\n",
       "             colsample_bylevel=None, colsample_bynode=None,\n",
       "             colsample_bytree=0.8, early_stopping_rounds=None,\n",
       "             enable_categorical=False, eval_metric=None, feature_types=None,\n",
       "             gamma=None, gpu_id=None, grow_policy=None, importance_type=None,\n",
       "             interaction_constraints=None, learning_rate=None, max_bin=None,\n",
       "             max_cat_threshold=None, max_cat_to_onehot=None,\n",
       "             max_delta_step=None, max_depth=6, max_leaves=None,\n",
       "             min_child_weight=3, missing=nan, monotone_constraints=None,\n",
       "             n_estimators=50, n_jobs=None, num_parallel_tree=None,\n",
       "             predictor=None, random_state=42, ...)"
      ]
     },
     "execution_count": 20,
     "metadata": {},
     "output_type": "execute_result"
    }
   ],
   "source": [
    "regressor_x.fit(X_train, y_train)"
   ]
  },
  {
   "cell_type": "code",
   "execution_count": 21,
   "id": "b8f26988-9445-45f5-ad50-eda0b5eefc0e",
   "metadata": {},
   "outputs": [],
   "source": [
    "feature_names=list(X.columns)"
   ]
  },
  {
   "cell_type": "code",
   "execution_count": 22,
   "id": "1397d2da",
   "metadata": {},
   "outputs": [],
   "source": [
    "feature_names = X.columns"
   ]
  },
  {
   "cell_type": "code",
   "execution_count": 23,
   "id": "074da3b6",
   "metadata": {
    "tags": []
   },
   "outputs": [],
   "source": [
    "df = pd.DataFrame(list(zip(feature_names, regressor_x.feature_importances_)))\n",
    "df.columns = ['columns_name_x', 'score_feature_importance']\n",
    "list = df.sort_values(by=['score_feature_importance'], ascending = False)\n",
    "#list"
   ]
  },
  {
   "cell_type": "code",
   "execution_count": 24,
   "id": "1f635b90-c338-4a79-bc07-7177dfdab076",
   "metadata": {},
   "outputs": [],
   "source": [
    "zero=list[list[\"score_feature_importance\"]==0]"
   ]
  },
  {
   "cell_type": "code",
   "execution_count": 25,
   "id": "0083bcfb-615c-4525-90cb-18e193246b4b",
   "metadata": {},
   "outputs": [
    {
     "data": {
      "text/plain": [
       "array([], dtype=object)"
      ]
     },
     "execution_count": 25,
     "metadata": {},
     "output_type": "execute_result"
    }
   ],
   "source": [
    "zero[\"columns_name_x\"].unique()"
   ]
  },
  {
   "cell_type": "markdown",
   "id": "6e6197da",
   "metadata": {},
   "source": [
    "#### Hyper Parameter Tunning"
   ]
  },
  {
   "cell_type": "markdown",
   "id": "8d3f42a6",
   "metadata": {
    "tags": []
   },
   "source": [
    "The XGBoost algorithm has several hyperparameters that can be tuned to optimize the performance of the model. These hyperparameters include the number of trees, the learning rate, the maximum depth of the trees, and the minimum number of samples required to split a node."
   ]
  },
  {
   "cell_type": "raw",
   "id": "59ad5759-a91a-4795-80bd-1f0fa0c724e1",
   "metadata": {},
   "source": [
    "from sklearn.model_selection import GridSearchCV\n",
    "\n",
    "\n",
    "param_grid = {\n",
    "    \"max_depth\": [4,5,6,8],\n",
    "    \"colsample_bytree\": [0.8,1.0],\n",
    "    \"min_child_weight\": [3,5,10],\n",
    "    'n_estimators': [30,50,100],\n",
    "    'max_depth':[3,5,10],\n",
    "    }\n",
    "regressor_x = xgb.XGBRegressor(random_state=42)"
   ]
  },
  {
   "cell_type": "raw",
   "id": "69901931-af4c-43aa-9e50-e5ecd590e8d1",
   "metadata": {},
   "source": [
    "grid_search = GridSearchCV(regressor_x, param_grid, cv=5,return_train_score=True,n_jobs=-1,)"
   ]
  },
  {
   "cell_type": "raw",
   "id": "eb1653d5-bd18-4752-bc72-ede7877dc8fe",
   "metadata": {
    "jupyter": {
     "outputs_hidden": true
    },
    "tags": []
   },
   "source": [
    "grid_search.fit(X_train,y_train.values.ravel())"
   ]
  },
  {
   "cell_type": "raw",
   "id": "2048d05a-2be1-4d3b-b778-46b70445164f",
   "metadata": {},
   "source": [
    "best_params = grid_search.best_params_ #To check the best set of parameters returned\n",
    "best_params"
   ]
  },
  {
   "cell_type": "raw",
   "id": "afe2ba3e-ccc2-46ba-a836-7e7184e12eee",
   "metadata": {},
   "source": [
    "pd.DataFrame(grid_search.cv_results_)"
   ]
  },
  {
   "cell_type": "code",
   "execution_count": 26,
   "id": "e6066ecb",
   "metadata": {},
   "outputs": [
    {
     "name": "stdin",
     "output_type": "stream",
     "text": [
      "How big should the flat be? (in m2):   65\n"
     ]
    }
   ],
   "source": [
    "area = float(input(\"How big should the flat be? (in m2):  \"))"
   ]
  },
  {
   "cell_type": "code",
   "execution_count": 27,
   "id": "c08d3264-5fa9-4b26-a768-479cc6e5323f",
   "metadata": {},
   "outputs": [
    {
     "name": "stdin",
     "output_type": "stream",
     "text": [
      "How many rooms should the flat have?:  2\n"
     ]
    }
   ],
   "source": [
    "room = float(input(\"How many rooms should the flat have?: \"))"
   ]
  },
  {
   "cell_type": "code",
   "execution_count": 28,
   "id": "9082a49b-4ee1-4528-a344-774856effc58",
   "metadata": {},
   "outputs": [
    {
     "name": "stdin",
     "output_type": "stream",
     "text": [
      "Should the flat have a balcony? (y/n):  n\n"
     ]
    }
   ],
   "source": [
    "balcony= input(\"Should the flat have a balcony? (y/n): \")"
   ]
  },
  {
   "cell_type": "code",
   "execution_count": 29,
   "id": "9a8a2175-b1b5-4fac-a329-7728464fcdec",
   "metadata": {},
   "outputs": [],
   "source": [
    "if (balcony==\"y\"):\n",
    "    b=1\n",
    "else:\n",
    "    b=0"
   ]
  },
  {
   "cell_type": "code",
   "execution_count": 30,
   "id": "3142adbe-4d87-42c1-a7c9-0b937f5103a5",
   "metadata": {},
   "outputs": [
    {
     "name": "stdin",
     "output_type": "stream",
     "text": [
      "Should the flat have a built-in kitchen? (y/n):  y\n"
     ]
    }
   ],
   "source": [
    "kitchen= input(\"Should the flat have a built-in kitchen? (y/n): \")"
   ]
  },
  {
   "cell_type": "code",
   "execution_count": 31,
   "id": "2e89adf1-8e85-4c1d-82bb-3751480b64d0",
   "metadata": {},
   "outputs": [],
   "source": [
    "if (kitchen==\"y\"):\n",
    "    k=1\n",
    "else:\n",
    "    k=0"
   ]
  },
  {
   "cell_type": "code",
   "execution_count": 32,
   "id": "e9327014-1c4a-474e-ba56-e436ad885f27",
   "metadata": {},
   "outputs": [
    {
     "name": "stdin",
     "output_type": "stream",
     "text": [
      "Should the flat have a basement? (y/n):  n\n"
     ]
    }
   ],
   "source": [
    "basement= input(\"Should the flat have a basement? (y/n): \")"
   ]
  },
  {
   "cell_type": "code",
   "execution_count": 33,
   "id": "eeceeefd-b935-485a-80f0-6a82bcd3e18b",
   "metadata": {},
   "outputs": [],
   "source": [
    "if (basement==\"y\"):\n",
    "    ba=1\n",
    "else:\n",
    "    ba=0"
   ]
  },
  {
   "cell_type": "code",
   "execution_count": 34,
   "id": "8a2a62cb-33f6-47bc-82bf-ee11d7aba1c8",
   "metadata": {},
   "outputs": [
    {
     "name": "stdin",
     "output_type": "stream",
     "text": [
      "Should the have a garden for sharing? (y/n):  n\n"
     ]
    }
   ],
   "source": [
    "garden= input(\"Should the have a garden for sharing? (y/n): \")"
   ]
  },
  {
   "cell_type": "code",
   "execution_count": 35,
   "id": "96945e78-0e6c-4a18-bba2-91ec0cc67417",
   "metadata": {},
   "outputs": [],
   "source": [
    "if (garden==\"y\"):\n",
    "    g=1\n",
    "else:\n",
    "    g=0"
   ]
  },
  {
   "cell_type": "code",
   "execution_count": 36,
   "id": "e0b4fb4f-4f91-4a1b-9f62-4ea685029511",
   "metadata": {},
   "outputs": [
    {
     "name": "stdin",
     "output_type": "stream",
     "text": [
      "Should the flat have elevator? (y/n):  n\n"
     ]
    }
   ],
   "source": [
    "elevator= input(\"Should the flat have elevator? (y/n): \")"
   ]
  },
  {
   "cell_type": "code",
   "execution_count": 37,
   "id": "ce9cc62a-0164-4086-b9e5-4eebeec8de0a",
   "metadata": {},
   "outputs": [],
   "source": [
    "if (elevator==\"y\"):\n",
    "    e=1\n",
    "else:\n",
    "    e=0"
   ]
  },
  {
   "cell_type": "code",
   "execution_count": 38,
   "id": "32c75aea-9549-42a6-bdc6-5f62d0d7669a",
   "metadata": {},
   "outputs": [
    {
     "name": "stdin",
     "output_type": "stream",
     "text": [
      "Which district should the flat be in?:  gesundBrunNen\n"
     ]
    }
   ],
   "source": [
    "district= input(\"Which district should the flat be in?: \")"
   ]
  },
  {
   "cell_type": "code",
   "execution_count": 39,
   "id": "d31d50dd-a9a8-40ed-aa69-d0ea2afb34ee",
   "metadata": {},
   "outputs": [],
   "source": [
    "district=district.lower()"
   ]
  },
  {
   "cell_type": "code",
   "execution_count": 40,
   "id": "d07f6a51-27db-4bb6-8d58-8db45ce81d7d",
   "metadata": {},
   "outputs": [],
   "source": [
    "district=\"district_\"+district"
   ]
  },
  {
   "cell_type": "code",
   "execution_count": 41,
   "id": "3566cb2e-0378-42d7-b32d-247612534678",
   "metadata": {},
   "outputs": [
    {
     "data": {
      "text/plain": [
       "'district_gesundbrunnen'"
      ]
     },
     "execution_count": 41,
     "metadata": {},
     "output_type": "execute_result"
    }
   ],
   "source": [
    "district"
   ]
  },
  {
   "cell_type": "code",
   "execution_count": 42,
   "id": "2d89e766-dca5-44e0-82d3-5873bf088b4e",
   "metadata": {},
   "outputs": [
    {
     "data": {
      "text/plain": [
       "(1890, 63)"
      ]
     },
     "execution_count": 42,
     "metadata": {},
     "output_type": "execute_result"
    }
   ],
   "source": [
    "X.shape"
   ]
  },
  {
   "cell_type": "code",
   "execution_count": 43,
   "id": "284fe578",
   "metadata": {},
   "outputs": [],
   "source": [
    "district_array=[]\n",
    "district_list=['district_alt-hohenschönhausen', 'district_biesdorf', 'district_britz',\n",
    "       'district_buch', 'district_buckow', 'district_charlottenburg',\n",
    "       'district_friedenau', 'district_friedrichsfelde',\n",
    "       'district_friedrichshain', 'district_grunewald', 'district_grünau',\n",
    "       'district_hakenfelde', 'district_halensee', 'district_heinersdorf',\n",
    "       'district_hellersdorf', 'district_johannisthal', 'district_karlshorst',\n",
    "       'district_karow', 'district_kaulsdorf', 'district_kreuzberg',\n",
    "       'district_köpenick', 'district_lichtenrade', 'district_marienfelde',\n",
    "       'district_marzahn', 'district_mitte', 'district_moabit',\n",
    "       'district_neu-hohenschönhausen', 'district_neukölln',\n",
    "       'district_niederschöneweide', 'district_niederschönhausen',\n",
    "       'district_oberschöneweide', 'district_prenzlauer berg',\n",
    "       'district_rahnsdorf', 'district_reinickendorf', 'district_rummelsburg',\n",
    "       'district_schmargendorf', 'district_schmöckwitz', 'district_schöneberg',\n",
    "       'district_siemensstadt', 'district_spandau', 'district_staaken',\n",
    "       'district_tempelhof', 'district_tiergarten', 'district_wedding',\n",
    "       'district_wilhelmstadt', 'district_wilmersdorf', 'district_wittenau',\n",
    "       'district_zehlendorf']\n",
    "\n",
    "for i in range(len(district_list)):\n",
    "    if (district_list[i]==district):\n",
    "        district_array.append(1)\n",
    "    else:\n",
    "        district_array.append(0)\n",
    "    "
   ]
  },
  {
   "cell_type": "code",
   "execution_count": 44,
   "id": "1b521079-8004-4e42-b4f9-31b1b7f726a4",
   "metadata": {},
   "outputs": [],
   "source": [
    "features_array=[area, room, b, k, ba, g, e]"
   ]
  },
  {
   "cell_type": "code",
   "execution_count": 45,
   "id": "da21bc15-d6c7-449b-89f5-2a4745ecda69",
   "metadata": {},
   "outputs": [],
   "source": [
    "features_not_asked=[0,0,0]"
   ]
  },
  {
   "cell_type": "code",
   "execution_count": 46,
   "id": "42ef4005-3378-42a6-8e82-38269202e748",
   "metadata": {},
   "outputs": [],
   "source": [
    "landlond_array=[1,0,0,0,0]"
   ]
  },
  {
   "cell_type": "code",
   "execution_count": 47,
   "id": "2f5ea018-1a26-4c7b-a8a3-4f2bc37c55b9",
   "metadata": {},
   "outputs": [],
   "source": [
    "prediction_array=features_array +features_not_asked + district_array + landlond_array"
   ]
  },
  {
   "cell_type": "code",
   "execution_count": 48,
   "id": "b5b041fd-f4d9-4644-8562-dabd8d2aa6aa",
   "metadata": {},
   "outputs": [],
   "source": [
    "prediction_array=np.array(prediction_array).reshape(1,63)\n"
   ]
  },
  {
   "cell_type": "code",
   "execution_count": 49,
   "id": "f9799a24-55a4-4191-8135-af5e516dd359",
   "metadata": {},
   "outputs": [
    {
     "data": {
      "text/html": [
       "<style>#sk-container-id-3 {color: black;background-color: white;}#sk-container-id-3 pre{padding: 0;}#sk-container-id-3 div.sk-toggleable {background-color: white;}#sk-container-id-3 label.sk-toggleable__label {cursor: pointer;display: block;width: 100%;margin-bottom: 0;padding: 0.3em;box-sizing: border-box;text-align: center;}#sk-container-id-3 label.sk-toggleable__label-arrow:before {content: \"▸\";float: left;margin-right: 0.25em;color: #696969;}#sk-container-id-3 label.sk-toggleable__label-arrow:hover:before {color: black;}#sk-container-id-3 div.sk-estimator:hover label.sk-toggleable__label-arrow:before {color: black;}#sk-container-id-3 div.sk-toggleable__content {max-height: 0;max-width: 0;overflow: hidden;text-align: left;background-color: #f0f8ff;}#sk-container-id-3 div.sk-toggleable__content pre {margin: 0.2em;color: black;border-radius: 0.25em;background-color: #f0f8ff;}#sk-container-id-3 input.sk-toggleable__control:checked~div.sk-toggleable__content {max-height: 200px;max-width: 100%;overflow: auto;}#sk-container-id-3 input.sk-toggleable__control:checked~label.sk-toggleable__label-arrow:before {content: \"▾\";}#sk-container-id-3 div.sk-estimator input.sk-toggleable__control:checked~label.sk-toggleable__label {background-color: #d4ebff;}#sk-container-id-3 div.sk-label input.sk-toggleable__control:checked~label.sk-toggleable__label {background-color: #d4ebff;}#sk-container-id-3 input.sk-hidden--visually {border: 0;clip: rect(1px 1px 1px 1px);clip: rect(1px, 1px, 1px, 1px);height: 1px;margin: -1px;overflow: hidden;padding: 0;position: absolute;width: 1px;}#sk-container-id-3 div.sk-estimator {font-family: monospace;background-color: #f0f8ff;border: 1px dotted black;border-radius: 0.25em;box-sizing: border-box;margin-bottom: 0.5em;}#sk-container-id-3 div.sk-estimator:hover {background-color: #d4ebff;}#sk-container-id-3 div.sk-parallel-item::after {content: \"\";width: 100%;border-bottom: 1px solid gray;flex-grow: 1;}#sk-container-id-3 div.sk-label:hover label.sk-toggleable__label {background-color: #d4ebff;}#sk-container-id-3 div.sk-serial::before {content: \"\";position: absolute;border-left: 1px solid gray;box-sizing: border-box;top: 0;bottom: 0;left: 50%;z-index: 0;}#sk-container-id-3 div.sk-serial {display: flex;flex-direction: column;align-items: center;background-color: white;padding-right: 0.2em;padding-left: 0.2em;position: relative;}#sk-container-id-3 div.sk-item {position: relative;z-index: 1;}#sk-container-id-3 div.sk-parallel {display: flex;align-items: stretch;justify-content: center;background-color: white;position: relative;}#sk-container-id-3 div.sk-item::before, #sk-container-id-3 div.sk-parallel-item::before {content: \"\";position: absolute;border-left: 1px solid gray;box-sizing: border-box;top: 0;bottom: 0;left: 50%;z-index: -1;}#sk-container-id-3 div.sk-parallel-item {display: flex;flex-direction: column;z-index: 1;position: relative;background-color: white;}#sk-container-id-3 div.sk-parallel-item:first-child::after {align-self: flex-end;width: 50%;}#sk-container-id-3 div.sk-parallel-item:last-child::after {align-self: flex-start;width: 50%;}#sk-container-id-3 div.sk-parallel-item:only-child::after {width: 0;}#sk-container-id-3 div.sk-dashed-wrapped {border: 1px dashed gray;margin: 0 0.4em 0.5em 0.4em;box-sizing: border-box;padding-bottom: 0.4em;background-color: white;}#sk-container-id-3 div.sk-label label {font-family: monospace;font-weight: bold;display: inline-block;line-height: 1.2em;}#sk-container-id-3 div.sk-label-container {text-align: center;}#sk-container-id-3 div.sk-container {/* jupyter's `normalize.less` sets `[hidden] { display: none; }` but bootstrap.min.css set `[hidden] { display: none !important; }` so we also need the `!important` here to be able to override the default hidden behavior on the sphinx rendered scikit-learn.org. See: https://github.com/scikit-learn/scikit-learn/issues/21755 */display: inline-block !important;position: relative;}#sk-container-id-3 div.sk-text-repr-fallback {display: none;}</style><div id=\"sk-container-id-3\" class=\"sk-top-container\"><div class=\"sk-text-repr-fallback\"><pre>XGBRegressor(base_score=None, booster=None, callbacks=None,\n",
       "             colsample_bylevel=None, colsample_bynode=None,\n",
       "             colsample_bytree=0.8, early_stopping_rounds=None,\n",
       "             enable_categorical=False, eval_metric=None, feature_types=None,\n",
       "             gamma=None, gpu_id=None, grow_policy=None, importance_type=None,\n",
       "             interaction_constraints=None, learning_rate=None, max_bin=None,\n",
       "             max_cat_threshold=None, max_cat_to_onehot=None,\n",
       "             max_delta_step=None, max_depth=6, max_leaves=None,\n",
       "             min_child_weight=3, missing=nan, monotone_constraints=None,\n",
       "             n_estimators=50, n_jobs=None, num_parallel_tree=None,\n",
       "             predictor=None, random_state=42, ...)</pre><b>In a Jupyter environment, please rerun this cell to show the HTML representation or trust the notebook. <br />On GitHub, the HTML representation is unable to render, please try loading this page with nbviewer.org.</b></div><div class=\"sk-container\" hidden><div class=\"sk-item\"><div class=\"sk-estimator sk-toggleable\"><input class=\"sk-toggleable__control sk-hidden--visually\" id=\"sk-estimator-id-3\" type=\"checkbox\" checked><label for=\"sk-estimator-id-3\" class=\"sk-toggleable__label sk-toggleable__label-arrow\">XGBRegressor</label><div class=\"sk-toggleable__content\"><pre>XGBRegressor(base_score=None, booster=None, callbacks=None,\n",
       "             colsample_bylevel=None, colsample_bynode=None,\n",
       "             colsample_bytree=0.8, early_stopping_rounds=None,\n",
       "             enable_categorical=False, eval_metric=None, feature_types=None,\n",
       "             gamma=None, gpu_id=None, grow_policy=None, importance_type=None,\n",
       "             interaction_constraints=None, learning_rate=None, max_bin=None,\n",
       "             max_cat_threshold=None, max_cat_to_onehot=None,\n",
       "             max_delta_step=None, max_depth=6, max_leaves=None,\n",
       "             min_child_weight=3, missing=nan, monotone_constraints=None,\n",
       "             n_estimators=50, n_jobs=None, num_parallel_tree=None,\n",
       "             predictor=None, random_state=42, ...)</pre></div></div></div></div></div>"
      ],
      "text/plain": [
       "XGBRegressor(base_score=None, booster=None, callbacks=None,\n",
       "             colsample_bylevel=None, colsample_bynode=None,\n",
       "             colsample_bytree=0.8, early_stopping_rounds=None,\n",
       "             enable_categorical=False, eval_metric=None, feature_types=None,\n",
       "             gamma=None, gpu_id=None, grow_policy=None, importance_type=None,\n",
       "             interaction_constraints=None, learning_rate=None, max_bin=None,\n",
       "             max_cat_threshold=None, max_cat_to_onehot=None,\n",
       "             max_delta_step=None, max_depth=6, max_leaves=None,\n",
       "             min_child_weight=3, missing=nan, monotone_constraints=None,\n",
       "             n_estimators=50, n_jobs=None, num_parallel_tree=None,\n",
       "             predictor=None, random_state=42, ...)"
      ]
     },
     "execution_count": 49,
     "metadata": {},
     "output_type": "execute_result"
    }
   ],
   "source": [
    "regressor_x.fit(X_train, y_train)"
   ]
  },
  {
   "cell_type": "code",
   "execution_count": 50,
   "id": "5bde9f34-281b-4419-b99e-4549cb47ba32",
   "metadata": {},
   "outputs": [
    {
     "data": {
      "text/plain": [
       "1679.615"
      ]
     },
     "execution_count": 50,
     "metadata": {},
     "output_type": "execute_result"
    }
   ],
   "source": [
    "regressor_x.predict(prediction_array)[0]\n"
   ]
  }
 ],
 "metadata": {
  "kernelspec": {
   "display_name": "Python 3 (ipykernel)",
   "language": "python",
   "name": "python3"
  },
  "language_info": {
   "codemirror_mode": {
    "name": "ipython",
    "version": 3
   },
   "file_extension": ".py",
   "mimetype": "text/x-python",
   "name": "python",
   "nbconvert_exporter": "python",
   "pygments_lexer": "ipython3",
   "version": "3.9.12"
  }
 },
 "nbformat": 4,
 "nbformat_minor": 5
}
