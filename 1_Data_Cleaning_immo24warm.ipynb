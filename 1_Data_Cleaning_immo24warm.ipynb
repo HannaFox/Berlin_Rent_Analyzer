{
 "cells": [
  {
   "cell_type": "markdown",
   "id": "67a7ac48-e48a-4be1-b89c-e01edfe21950",
   "metadata": {},
   "source": [
    "# Data Cleaning"
   ]
  },
  {
   "cell_type": "markdown",
   "id": "a4a12b2f-3cc3-436e-b7d8-bd0e5f87d37d",
   "metadata": {},
   "source": [
    "#### Importing raw data "
   ]
  },
  {
   "cell_type": "code",
   "execution_count": 1,
   "id": "45bcbf1e-dce2-4637-84e4-96cdf0803c77",
   "metadata": {},
   "outputs": [],
   "source": [
    "import pandas as pd"
   ]
  },
  {
   "cell_type": "code",
   "execution_count": 2,
   "id": "f12596e6-a5a8-4e08-bd12-91e5beb745ca",
   "metadata": {},
   "outputs": [],
   "source": [
    "immo24_all=pd.read_csv(\"immo24_warm.csv\")"
   ]
  },
  {
   "cell_type": "code",
   "execution_count": 3,
   "id": "911717f4-3fcd-4262-a661-a4d680402b44",
   "metadata": {},
   "outputs": [
    {
     "data": {
      "text/html": [
       "<div>\n",
       "<style scoped>\n",
       "    .dataframe tbody tr th:only-of-type {\n",
       "        vertical-align: middle;\n",
       "    }\n",
       "\n",
       "    .dataframe tbody tr th {\n",
       "        vertical-align: top;\n",
       "    }\n",
       "\n",
       "    .dataframe thead th {\n",
       "        text-align: right;\n",
       "    }\n",
       "</style>\n",
       "<table border=\"1\" class=\"dataframe\">\n",
       "  <thead>\n",
       "    <tr style=\"text-align: right;\">\n",
       "      <th></th>\n",
       "      <th>result-list-entry__brand-title-container href</th>\n",
       "      <th>result-list-entry__brand-title</th>\n",
       "      <th>result-list-entry__brand-logo-container href</th>\n",
       "      <th>font-s href</th>\n",
       "      <th>block</th>\n",
       "      <th>result-list-entry__brand-logo-container href 2</th>\n",
       "      <th>slick-slide href</th>\n",
       "      <th>image-index-label</th>\n",
       "      <th>gallery__count</th>\n",
       "      <th>total-media-count-label</th>\n",
       "      <th>...</th>\n",
       "      <th>font-highlight 2</th>\n",
       "      <th>onlySmall</th>\n",
       "      <th>onlyLarge</th>\n",
       "      <th>font-tabular 3</th>\n",
       "      <th>margin-top-none</th>\n",
       "      <th>margin-top-none 2</th>\n",
       "      <th>margin-top-none 3</th>\n",
       "      <th>block 2</th>\n",
       "      <th>result-list-entry__new-flag</th>\n",
       "      <th>onlySmall 2</th>\n",
       "    </tr>\n",
       "  </thead>\n",
       "  <tbody>\n",
       "    <tr>\n",
       "      <th>0</th>\n",
       "      <td>https://www.immobilienscout24.de/expose/138511876</td>\n",
       "      <td>Exklusives Penthouse im Grunewald</td>\n",
       "      <td>https://www.immobilienscout24.de/expose/138511876</td>\n",
       "      <td>https://www.immobilienscout24.de/expose/138511876</td>\n",
       "      <td>Privatangebot</td>\n",
       "      <td>https://www.immobilienscout24.de/expose/138511876</td>\n",
       "      <td>https://www.immobilienscout24.de/expose/138511876</td>\n",
       "      <td>1.0</td>\n",
       "      <td>/</td>\n",
       "      <td>16.0</td>\n",
       "      <td>...</td>\n",
       "      <td>175 m²</td>\n",
       "      <td>3 Zi.</td>\n",
       "      <td>3</td>\n",
       "      <td>Zi.</td>\n",
       "      <td>Balkon/Terrasse</td>\n",
       "      <td>Einbauküche</td>\n",
       "      <td>...</td>\n",
       "      <td>Privatangebot</td>\n",
       "      <td>NaN</td>\n",
       "      <td>NaN</td>\n",
       "    </tr>\n",
       "    <tr>\n",
       "      <th>1</th>\n",
       "      <td>https://www.immobilienscout24.de/expose/139935844</td>\n",
       "      <td>Helle, wunderschöne 4-Zimmer Etagenwohnung mit...</td>\n",
       "      <td>https://www.immobilienscout24.de/expose/139935844</td>\n",
       "      <td>https://www.immobilienscout24.de/expose/139935844</td>\n",
       "      <td>Privatangebot</td>\n",
       "      <td>https://www.immobilienscout24.de/expose/139935844</td>\n",
       "      <td>https://www.immobilienscout24.de/expose/139935844</td>\n",
       "      <td>1.0</td>\n",
       "      <td>/</td>\n",
       "      <td>16.0</td>\n",
       "      <td>...</td>\n",
       "      <td>147 m²</td>\n",
       "      <td>4 Zi.</td>\n",
       "      <td>4</td>\n",
       "      <td>Zi.</td>\n",
       "      <td>Balkon/Terrasse</td>\n",
       "      <td>Einbauküche</td>\n",
       "      <td>...</td>\n",
       "      <td>Privatangebot</td>\n",
       "      <td>NEU</td>\n",
       "      <td>NEU</td>\n",
       "    </tr>\n",
       "    <tr>\n",
       "      <th>2</th>\n",
       "      <td>https://www.immobilienscout24.de/expose/139965071</td>\n",
       "      <td>Elegante 3-Zimmer-Wohnung mit Terrasse, Wannen...</td>\n",
       "      <td>https://www.immobilienscout24.de/expose/139965071</td>\n",
       "      <td>https://www.immobilienscout24.de/expose/139965071</td>\n",
       "      <td>Herr Sascha Biß</td>\n",
       "      <td>https://www.immobilienscout24.de/expose/139965071</td>\n",
       "      <td>https://www.immobilienscout24.de/expose/139965071</td>\n",
       "      <td>1.0</td>\n",
       "      <td>/</td>\n",
       "      <td>2.0</td>\n",
       "      <td>...</td>\n",
       "      <td>72,86 m²</td>\n",
       "      <td>3 Zi.</td>\n",
       "      <td>3</td>\n",
       "      <td>Zi.</td>\n",
       "      <td>Balkon/Terrasse</td>\n",
       "      <td>Einbauküche</td>\n",
       "      <td>...</td>\n",
       "      <td>Herr Sascha Biß</td>\n",
       "      <td>NEU</td>\n",
       "      <td>NEU</td>\n",
       "    </tr>\n",
       "    <tr>\n",
       "      <th>3</th>\n",
       "      <td>https://www.immobilienscout24.de/expose/121744828</td>\n",
       "      <td>Schloßloft am Lietzensee mit Galerie und Seebl...</td>\n",
       "      <td>https://www.immobilienscout24.de/expose/121744828</td>\n",
       "      <td>https://www.immobilienscout24.de/expose/121744828</td>\n",
       "      <td>Frau Christine Adler</td>\n",
       "      <td>https://www.immobilienscout24.de/expose/121744828</td>\n",
       "      <td>https://www.immobilienscout24.de/expose/121744828</td>\n",
       "      <td>1.0</td>\n",
       "      <td>/</td>\n",
       "      <td>9.0</td>\n",
       "      <td>...</td>\n",
       "      <td>107,89 m²</td>\n",
       "      <td>1 Zi.</td>\n",
       "      <td>1</td>\n",
       "      <td>Zi.</td>\n",
       "      <td>Balkon/Terrasse</td>\n",
       "      <td>Einbauküche</td>\n",
       "      <td>...</td>\n",
       "      <td>Frau Christine Adler</td>\n",
       "      <td>NaN</td>\n",
       "      <td>NaN</td>\n",
       "    </tr>\n",
       "    <tr>\n",
       "      <th>4</th>\n",
       "      <td>https://www.immobilienscout24.de/expose/140102355</td>\n",
       "      <td>Penthouse-Wohnung mit Blick über Berlin!</td>\n",
       "      <td>https://www.immobilienscout24.de/expose/140102355</td>\n",
       "      <td>https://www.immobilienscout24.de/expose/140102355</td>\n",
       "      <td>Frau Isabelle Mienes</td>\n",
       "      <td>https://www.immobilienscout24.de/expose/140102355</td>\n",
       "      <td>https://www.immobilienscout24.de/expose/140102355</td>\n",
       "      <td>1.0</td>\n",
       "      <td>/</td>\n",
       "      <td>10.0</td>\n",
       "      <td>...</td>\n",
       "      <td>93,36 m²</td>\n",
       "      <td>3 Zi.</td>\n",
       "      <td>3</td>\n",
       "      <td>Zi.</td>\n",
       "      <td>Balkon/Terrasse</td>\n",
       "      <td>Einbauküche</td>\n",
       "      <td>...</td>\n",
       "      <td>Frau Isabelle Mienes</td>\n",
       "      <td>NEU</td>\n",
       "      <td>NEU</td>\n",
       "    </tr>\n",
       "  </tbody>\n",
       "</table>\n",
       "<p>5 rows × 23 columns</p>\n",
       "</div>"
      ],
      "text/plain": [
       "       result-list-entry__brand-title-container href  \\\n",
       "0  https://www.immobilienscout24.de/expose/138511876   \n",
       "1  https://www.immobilienscout24.de/expose/139935844   \n",
       "2  https://www.immobilienscout24.de/expose/139965071   \n",
       "3  https://www.immobilienscout24.de/expose/121744828   \n",
       "4  https://www.immobilienscout24.de/expose/140102355   \n",
       "\n",
       "                      result-list-entry__brand-title  \\\n",
       "0                  Exklusives Penthouse im Grunewald   \n",
       "1  Helle, wunderschöne 4-Zimmer Etagenwohnung mit...   \n",
       "2  Elegante 3-Zimmer-Wohnung mit Terrasse, Wannen...   \n",
       "3  Schloßloft am Lietzensee mit Galerie und Seebl...   \n",
       "4           Penthouse-Wohnung mit Blick über Berlin!   \n",
       "\n",
       "        result-list-entry__brand-logo-container href  \\\n",
       "0  https://www.immobilienscout24.de/expose/138511876   \n",
       "1  https://www.immobilienscout24.de/expose/139935844   \n",
       "2  https://www.immobilienscout24.de/expose/139965071   \n",
       "3  https://www.immobilienscout24.de/expose/121744828   \n",
       "4  https://www.immobilienscout24.de/expose/140102355   \n",
       "\n",
       "                                         font-s href                 block  \\\n",
       "0  https://www.immobilienscout24.de/expose/138511876         Privatangebot   \n",
       "1  https://www.immobilienscout24.de/expose/139935844         Privatangebot   \n",
       "2  https://www.immobilienscout24.de/expose/139965071       Herr Sascha Biß   \n",
       "3  https://www.immobilienscout24.de/expose/121744828  Frau Christine Adler   \n",
       "4  https://www.immobilienscout24.de/expose/140102355  Frau Isabelle Mienes   \n",
       "\n",
       "      result-list-entry__brand-logo-container href 2  \\\n",
       "0  https://www.immobilienscout24.de/expose/138511876   \n",
       "1  https://www.immobilienscout24.de/expose/139935844   \n",
       "2  https://www.immobilienscout24.de/expose/139965071   \n",
       "3  https://www.immobilienscout24.de/expose/121744828   \n",
       "4  https://www.immobilienscout24.de/expose/140102355   \n",
       "\n",
       "                                    slick-slide href  image-index-label  \\\n",
       "0  https://www.immobilienscout24.de/expose/138511876                1.0   \n",
       "1  https://www.immobilienscout24.de/expose/139935844                1.0   \n",
       "2  https://www.immobilienscout24.de/expose/139965071                1.0   \n",
       "3  https://www.immobilienscout24.de/expose/121744828                1.0   \n",
       "4  https://www.immobilienscout24.de/expose/140102355                1.0   \n",
       "\n",
       "  gallery__count  total-media-count-label  ... font-highlight 2 onlySmall  \\\n",
       "0              /                     16.0  ...           175 m²     3 Zi.   \n",
       "1              /                     16.0  ...           147 m²     4 Zi.   \n",
       "2              /                      2.0  ...         72,86 m²     3 Zi.   \n",
       "3              /                      9.0  ...        107,89 m²     1 Zi.   \n",
       "4              /                     10.0  ...         93,36 m²     3 Zi.   \n",
       "\n",
       "  onlyLarge font-tabular 3  margin-top-none margin-top-none 2  \\\n",
       "0         3            Zi.  Balkon/Terrasse       Einbauküche   \n",
       "1         4            Zi.  Balkon/Terrasse       Einbauküche   \n",
       "2         3            Zi.  Balkon/Terrasse       Einbauküche   \n",
       "3         1            Zi.  Balkon/Terrasse       Einbauküche   \n",
       "4         3            Zi.  Balkon/Terrasse       Einbauküche   \n",
       "\n",
       "  margin-top-none 3               block 2 result-list-entry__new-flag  \\\n",
       "0               ...         Privatangebot                         NaN   \n",
       "1               ...         Privatangebot                         NEU   \n",
       "2               ...       Herr Sascha Biß                         NEU   \n",
       "3               ...  Frau Christine Adler                         NaN   \n",
       "4               ...  Frau Isabelle Mienes                         NEU   \n",
       "\n",
       "  onlySmall 2  \n",
       "0         NaN  \n",
       "1         NEU  \n",
       "2         NEU  \n",
       "3         NaN  \n",
       "4         NEU  \n",
       "\n",
       "[5 rows x 23 columns]"
      ]
     },
     "execution_count": 3,
     "metadata": {},
     "output_type": "execute_result"
    }
   ],
   "source": [
    "immo24_all.head()"
   ]
  },
  {
   "cell_type": "markdown",
   "id": "cc18a8b4-878e-4b3a-9639-7fb9e02154c1",
   "metadata": {},
   "source": [
    "#### Dropping useless information"
   ]
  },
  {
   "cell_type": "code",
   "execution_count": 4,
   "id": "5c90fa5b-e496-46e6-a35b-05597bea775b",
   "metadata": {},
   "outputs": [],
   "source": [
    "immo24=immo24_all.drop([\"onlySmall\",\"result-list-entry__brand-title-container href\", \"result-list-entry__brand-logo-container href\",\"font-s href\", \"block\", \"result-list-entry__brand-logo-container href 2\", \"slick-slide href\", \"image-index-label\", \"gallery__count\",\"total-media-count-label\",\"result-list-entry__criteria href\", \"block 2\", \"result-list-entry__new-flag\",\"onlySmall 2\", \"font-tabular 3\" ],  axis=1)"
   ]
  },
  {
   "cell_type": "code",
   "execution_count": 5,
   "id": "a934c29e-a656-435d-9525-a48d89e4b61a",
   "metadata": {},
   "outputs": [
    {
     "data": {
      "text/html": [
       "<div>\n",
       "<style scoped>\n",
       "    .dataframe tbody tr th:only-of-type {\n",
       "        vertical-align: middle;\n",
       "    }\n",
       "\n",
       "    .dataframe tbody tr th {\n",
       "        vertical-align: top;\n",
       "    }\n",
       "\n",
       "    .dataframe thead th {\n",
       "        text-align: right;\n",
       "    }\n",
       "</style>\n",
       "<table border=\"1\" class=\"dataframe\">\n",
       "  <thead>\n",
       "    <tr style=\"text-align: right;\">\n",
       "      <th></th>\n",
       "      <th>result-list-entry__brand-title</th>\n",
       "      <th>result-list-entry__map-link</th>\n",
       "      <th>font-highlight</th>\n",
       "      <th>font-highlight 2</th>\n",
       "      <th>onlyLarge</th>\n",
       "      <th>margin-top-none</th>\n",
       "      <th>margin-top-none 2</th>\n",
       "      <th>margin-top-none 3</th>\n",
       "    </tr>\n",
       "  </thead>\n",
       "  <tbody>\n",
       "    <tr>\n",
       "      <th>0</th>\n",
       "      <td>Exklusives Penthouse im Grunewald</td>\n",
       "      <td>Grunewald, Berlin</td>\n",
       "      <td>3.940 €</td>\n",
       "      <td>175 m²</td>\n",
       "      <td>3</td>\n",
       "      <td>Balkon/Terrasse</td>\n",
       "      <td>Einbauküche</td>\n",
       "      <td>...</td>\n",
       "    </tr>\n",
       "    <tr>\n",
       "      <th>1</th>\n",
       "      <td>Helle, wunderschöne 4-Zimmer Etagenwohnung mit...</td>\n",
       "      <td>Gartenstraße 88, Mitte (Ortsteil), Berlin</td>\n",
       "      <td>~4.030 €</td>\n",
       "      <td>147 m²</td>\n",
       "      <td>4</td>\n",
       "      <td>Balkon/Terrasse</td>\n",
       "      <td>Einbauküche</td>\n",
       "      <td>...</td>\n",
       "    </tr>\n",
       "    <tr>\n",
       "      <th>2</th>\n",
       "      <td>Elegante 3-Zimmer-Wohnung mit Terrasse, Wannen...</td>\n",
       "      <td>Drei-Linien-Weg 99, Karow, Berlin</td>\n",
       "      <td>1.404,41 €</td>\n",
       "      <td>72,86 m²</td>\n",
       "      <td>3</td>\n",
       "      <td>Balkon/Terrasse</td>\n",
       "      <td>Einbauküche</td>\n",
       "      <td>...</td>\n",
       "    </tr>\n",
       "    <tr>\n",
       "      <th>3</th>\n",
       "      <td>Schloßloft am Lietzensee mit Galerie und Seebl...</td>\n",
       "      <td>Witzlebenplatz 2, Charlottenburg, Berlin</td>\n",
       "      <td>2.663,13 €</td>\n",
       "      <td>107,89 m²</td>\n",
       "      <td>1</td>\n",
       "      <td>Balkon/Terrasse</td>\n",
       "      <td>Einbauküche</td>\n",
       "      <td>...</td>\n",
       "    </tr>\n",
       "    <tr>\n",
       "      <th>4</th>\n",
       "      <td>Penthouse-Wohnung mit Blick über Berlin!</td>\n",
       "      <td>Flottwellstraße 24, Tiergarten, Berlin</td>\n",
       "      <td>2.790,64 €</td>\n",
       "      <td>93,36 m²</td>\n",
       "      <td>3</td>\n",
       "      <td>Balkon/Terrasse</td>\n",
       "      <td>Einbauküche</td>\n",
       "      <td>...</td>\n",
       "    </tr>\n",
       "    <tr>\n",
       "      <th>...</th>\n",
       "      <td>...</td>\n",
       "      <td>...</td>\n",
       "      <td>...</td>\n",
       "      <td>...</td>\n",
       "      <td>...</td>\n",
       "      <td>...</td>\n",
       "      <td>...</td>\n",
       "      <td>...</td>\n",
       "    </tr>\n",
       "    <tr>\n",
       "      <th>3503</th>\n",
       "      <td>3- Raumwohnung in Kaulsdorf in Bahnhofnähe</td>\n",
       "      <td>Wilhelmsmühlenweg 12, Kaulsdorf, Berlin</td>\n",
       "      <td>1.035 €</td>\n",
       "      <td>80 m²</td>\n",
       "      <td>3</td>\n",
       "      <td>Balkon/Terrasse</td>\n",
       "      <td>Garten</td>\n",
       "      <td>Keller</td>\n",
       "    </tr>\n",
       "    <tr>\n",
       "      <th>3504</th>\n",
       "      <td>Schöne 2 - Zimmer - Wohnung zum Wohlfühlen</td>\n",
       "      <td>Nollendorfstr. 17, Schöneberg, Berlin</td>\n",
       "      <td>1.663 €</td>\n",
       "      <td>84,1 m²</td>\n",
       "      <td>2</td>\n",
       "      <td>Garten</td>\n",
       "      <td>NaN</td>\n",
       "      <td>NaN</td>\n",
       "    </tr>\n",
       "    <tr>\n",
       "      <th>3505</th>\n",
       "      <td>Alt-Tegel, seenahe ruhige Maisonette-Whg, 72m²...</td>\n",
       "      <td>Tegel, Berlin</td>\n",
       "      <td>1.260 €</td>\n",
       "      <td>72 m²</td>\n",
       "      <td>2,5</td>\n",
       "      <td>Garten</td>\n",
       "      <td>Keller</td>\n",
       "      <td>NaN</td>\n",
       "    </tr>\n",
       "    <tr>\n",
       "      <th>3506</th>\n",
       "      <td>Sonnendurchflutete repräsentative Wohnung / Bü...</td>\n",
       "      <td>Potsdamer Str. 100, Tiergarten, Berlin</td>\n",
       "      <td>2.995 €</td>\n",
       "      <td>158 m²</td>\n",
       "      <td>4</td>\n",
       "      <td>Gäste-WC</td>\n",
       "      <td>Aufzug</td>\n",
       "      <td>NaN</td>\n",
       "    </tr>\n",
       "    <tr>\n",
       "      <th>3507</th>\n",
       "      <td>Grossraumwohnung ( zur Eigenrenovierung/Sanier...</td>\n",
       "      <td>Kaiserdamm 6, Charlottenburg, Berlin</td>\n",
       "      <td>1.999 €</td>\n",
       "      <td>136,32 m²</td>\n",
       "      <td>4</td>\n",
       "      <td>Aufzug</td>\n",
       "      <td>NaN</td>\n",
       "      <td>NaN</td>\n",
       "    </tr>\n",
       "  </tbody>\n",
       "</table>\n",
       "<p>3508 rows × 8 columns</p>\n",
       "</div>"
      ],
      "text/plain": [
       "                         result-list-entry__brand-title  \\\n",
       "0                     Exklusives Penthouse im Grunewald   \n",
       "1     Helle, wunderschöne 4-Zimmer Etagenwohnung mit...   \n",
       "2     Elegante 3-Zimmer-Wohnung mit Terrasse, Wannen...   \n",
       "3     Schloßloft am Lietzensee mit Galerie und Seebl...   \n",
       "4              Penthouse-Wohnung mit Blick über Berlin!   \n",
       "...                                                 ...   \n",
       "3503         3- Raumwohnung in Kaulsdorf in Bahnhofnähe   \n",
       "3504         Schöne 2 - Zimmer - Wohnung zum Wohlfühlen   \n",
       "3505  Alt-Tegel, seenahe ruhige Maisonette-Whg, 72m²...   \n",
       "3506  Sonnendurchflutete repräsentative Wohnung / Bü...   \n",
       "3507  Grossraumwohnung ( zur Eigenrenovierung/Sanier...   \n",
       "\n",
       "                    result-list-entry__map-link font-highlight  \\\n",
       "0                             Grunewald, Berlin        3.940 €   \n",
       "1     Gartenstraße 88, Mitte (Ortsteil), Berlin       ~4.030 €   \n",
       "2             Drei-Linien-Weg 99, Karow, Berlin     1.404,41 €   \n",
       "3      Witzlebenplatz 2, Charlottenburg, Berlin     2.663,13 €   \n",
       "4        Flottwellstraße 24, Tiergarten, Berlin     2.790,64 €   \n",
       "...                                         ...            ...   \n",
       "3503    Wilhelmsmühlenweg 12, Kaulsdorf, Berlin        1.035 €   \n",
       "3504      Nollendorfstr. 17, Schöneberg, Berlin        1.663 €   \n",
       "3505                              Tegel, Berlin        1.260 €   \n",
       "3506     Potsdamer Str. 100, Tiergarten, Berlin        2.995 €   \n",
       "3507       Kaiserdamm 6, Charlottenburg, Berlin        1.999 €   \n",
       "\n",
       "     font-highlight 2 onlyLarge  margin-top-none margin-top-none 2  \\\n",
       "0              175 m²         3  Balkon/Terrasse       Einbauküche   \n",
       "1              147 m²         4  Balkon/Terrasse       Einbauküche   \n",
       "2            72,86 m²         3  Balkon/Terrasse       Einbauküche   \n",
       "3           107,89 m²         1  Balkon/Terrasse       Einbauküche   \n",
       "4            93,36 m²         3  Balkon/Terrasse       Einbauküche   \n",
       "...               ...       ...              ...               ...   \n",
       "3503            80 m²         3  Balkon/Terrasse            Garten   \n",
       "3504          84,1 m²         2           Garten               NaN   \n",
       "3505            72 m²       2,5           Garten            Keller   \n",
       "3506           158 m²         4         Gäste-WC            Aufzug   \n",
       "3507        136,32 m²         4           Aufzug               NaN   \n",
       "\n",
       "     margin-top-none 3  \n",
       "0                  ...  \n",
       "1                  ...  \n",
       "2                  ...  \n",
       "3                  ...  \n",
       "4                  ...  \n",
       "...                ...  \n",
       "3503            Keller  \n",
       "3504               NaN  \n",
       "3505               NaN  \n",
       "3506               NaN  \n",
       "3507               NaN  \n",
       "\n",
       "[3508 rows x 8 columns]"
      ]
     },
     "execution_count": 5,
     "metadata": {},
     "output_type": "execute_result"
    }
   ],
   "source": [
    "immo24"
   ]
  },
  {
   "cell_type": "markdown",
   "id": "70f8f7a6-8eb3-48bf-b5ba-e305be92ea07",
   "metadata": {},
   "source": [
    "#### Getting the unique values of multiple columns"
   ]
  },
  {
   "cell_type": "code",
   "execution_count": 6,
   "id": "8c93f42b-c730-418c-87a9-8e6c55c18b68",
   "metadata": {},
   "outputs": [
    {
     "data": {
      "text/plain": [
       "array(['Balkon/Terrasse', nan, 'Einbauküche', 'Keller', 'Garten',\n",
       "       'Stufenlos', 'Aufzug', 'Gäste-WC', 'WG-geeignet', '...'],\n",
       "      dtype=object)"
      ]
     },
     "execution_count": 6,
     "metadata": {},
     "output_type": "execute_result"
    }
   ],
   "source": [
    "pd.unique(immo24[[\"margin-top-none\", \"margin-top-none 2\", \"margin-top-none 3\"]].values.ravel('K'))"
   ]
  },
  {
   "cell_type": "markdown",
   "id": "ae49c991-444d-42c5-a4fa-f088e304e404",
   "metadata": {},
   "source": [
    "#### Adding new empty columns"
   ]
  },
  {
   "cell_type": "code",
   "execution_count": 7,
   "id": "ec9c4c51-9c51-4a75-9fde-9505044a45f4",
   "metadata": {},
   "outputs": [],
   "source": [
    "immo24[\"Balkon/Terrasse\"] = \"\""
   ]
  },
  {
   "cell_type": "code",
   "execution_count": 8,
   "id": "2fc065e3-a27d-4d59-8156-04b2e283f01c",
   "metadata": {},
   "outputs": [],
   "source": [
    "immo24['Einbauküche'], immo24['Keller'], immo24['Garten'] = \"\", \"\", \"\""
   ]
  },
  {
   "cell_type": "code",
   "execution_count": 9,
   "id": "f27fa15c-df3e-4d27-9531-6acd11bb78a6",
   "metadata": {},
   "outputs": [],
   "source": [
    "immo24['Aufzug'], immo24['Gäste-WC'], immo24['WG-geeignet'] = \"\", \"\", \"\""
   ]
  },
  {
   "cell_type": "code",
   "execution_count": 10,
   "id": "dad434d2-331b-4cbc-9d16-7cc0e3d0fe1c",
   "metadata": {},
   "outputs": [],
   "source": [
    "immo24['Stufenlos']=\"\""
   ]
  },
  {
   "cell_type": "markdown",
   "id": "2e0307a5-e0a7-44fa-9433-97113fb73b5f",
   "metadata": {},
   "source": [
    "#### Creating dummy-value (0 or 1) for features"
   ]
  },
  {
   "cell_type": "code",
   "execution_count": 11,
   "id": "f522259c-1ef2-4608-b098-e5d986db444b",
   "metadata": {},
   "outputs": [
    {
     "data": {
      "text/html": [
       "<div>\n",
       "<style scoped>\n",
       "    .dataframe tbody tr th:only-of-type {\n",
       "        vertical-align: middle;\n",
       "    }\n",
       "\n",
       "    .dataframe tbody tr th {\n",
       "        vertical-align: top;\n",
       "    }\n",
       "\n",
       "    .dataframe thead th {\n",
       "        text-align: right;\n",
       "    }\n",
       "</style>\n",
       "<table border=\"1\" class=\"dataframe\">\n",
       "  <thead>\n",
       "    <tr style=\"text-align: right;\">\n",
       "      <th></th>\n",
       "      <th>result-list-entry__brand-title</th>\n",
       "      <th>result-list-entry__map-link</th>\n",
       "      <th>font-highlight</th>\n",
       "      <th>font-highlight 2</th>\n",
       "      <th>onlyLarge</th>\n",
       "      <th>margin-top-none</th>\n",
       "      <th>margin-top-none 2</th>\n",
       "      <th>margin-top-none 3</th>\n",
       "      <th>Balkon/Terrasse</th>\n",
       "      <th>Einbauküche</th>\n",
       "      <th>Keller</th>\n",
       "      <th>Garten</th>\n",
       "      <th>Aufzug</th>\n",
       "      <th>Gäste-WC</th>\n",
       "      <th>WG-geeignet</th>\n",
       "      <th>Stufenlos</th>\n",
       "    </tr>\n",
       "  </thead>\n",
       "  <tbody>\n",
       "    <tr>\n",
       "      <th>0</th>\n",
       "      <td>Exklusives Penthouse im Grunewald</td>\n",
       "      <td>Grunewald, Berlin</td>\n",
       "      <td>3.940 €</td>\n",
       "      <td>175 m²</td>\n",
       "      <td>3</td>\n",
       "      <td>Balkon/Terrasse</td>\n",
       "      <td>Einbauküche</td>\n",
       "      <td>...</td>\n",
       "      <td></td>\n",
       "      <td></td>\n",
       "      <td></td>\n",
       "      <td></td>\n",
       "      <td></td>\n",
       "      <td></td>\n",
       "      <td></td>\n",
       "      <td></td>\n",
       "    </tr>\n",
       "    <tr>\n",
       "      <th>1</th>\n",
       "      <td>Helle, wunderschöne 4-Zimmer Etagenwohnung mit...</td>\n",
       "      <td>Gartenstraße 88, Mitte (Ortsteil), Berlin</td>\n",
       "      <td>~4.030 €</td>\n",
       "      <td>147 m²</td>\n",
       "      <td>4</td>\n",
       "      <td>Balkon/Terrasse</td>\n",
       "      <td>Einbauküche</td>\n",
       "      <td>...</td>\n",
       "      <td></td>\n",
       "      <td></td>\n",
       "      <td></td>\n",
       "      <td></td>\n",
       "      <td></td>\n",
       "      <td></td>\n",
       "      <td></td>\n",
       "      <td></td>\n",
       "    </tr>\n",
       "    <tr>\n",
       "      <th>2</th>\n",
       "      <td>Elegante 3-Zimmer-Wohnung mit Terrasse, Wannen...</td>\n",
       "      <td>Drei-Linien-Weg 99, Karow, Berlin</td>\n",
       "      <td>1.404,41 €</td>\n",
       "      <td>72,86 m²</td>\n",
       "      <td>3</td>\n",
       "      <td>Balkon/Terrasse</td>\n",
       "      <td>Einbauküche</td>\n",
       "      <td>...</td>\n",
       "      <td></td>\n",
       "      <td></td>\n",
       "      <td></td>\n",
       "      <td></td>\n",
       "      <td></td>\n",
       "      <td></td>\n",
       "      <td></td>\n",
       "      <td></td>\n",
       "    </tr>\n",
       "    <tr>\n",
       "      <th>3</th>\n",
       "      <td>Schloßloft am Lietzensee mit Galerie und Seebl...</td>\n",
       "      <td>Witzlebenplatz 2, Charlottenburg, Berlin</td>\n",
       "      <td>2.663,13 €</td>\n",
       "      <td>107,89 m²</td>\n",
       "      <td>1</td>\n",
       "      <td>Balkon/Terrasse</td>\n",
       "      <td>Einbauküche</td>\n",
       "      <td>...</td>\n",
       "      <td></td>\n",
       "      <td></td>\n",
       "      <td></td>\n",
       "      <td></td>\n",
       "      <td></td>\n",
       "      <td></td>\n",
       "      <td></td>\n",
       "      <td></td>\n",
       "    </tr>\n",
       "    <tr>\n",
       "      <th>4</th>\n",
       "      <td>Penthouse-Wohnung mit Blick über Berlin!</td>\n",
       "      <td>Flottwellstraße 24, Tiergarten, Berlin</td>\n",
       "      <td>2.790,64 €</td>\n",
       "      <td>93,36 m²</td>\n",
       "      <td>3</td>\n",
       "      <td>Balkon/Terrasse</td>\n",
       "      <td>Einbauküche</td>\n",
       "      <td>...</td>\n",
       "      <td></td>\n",
       "      <td></td>\n",
       "      <td></td>\n",
       "      <td></td>\n",
       "      <td></td>\n",
       "      <td></td>\n",
       "      <td></td>\n",
       "      <td></td>\n",
       "    </tr>\n",
       "  </tbody>\n",
       "</table>\n",
       "</div>"
      ],
      "text/plain": [
       "                      result-list-entry__brand-title  \\\n",
       "0                  Exklusives Penthouse im Grunewald   \n",
       "1  Helle, wunderschöne 4-Zimmer Etagenwohnung mit...   \n",
       "2  Elegante 3-Zimmer-Wohnung mit Terrasse, Wannen...   \n",
       "3  Schloßloft am Lietzensee mit Galerie und Seebl...   \n",
       "4           Penthouse-Wohnung mit Blick über Berlin!   \n",
       "\n",
       "                 result-list-entry__map-link font-highlight font-highlight 2  \\\n",
       "0                          Grunewald, Berlin        3.940 €           175 m²   \n",
       "1  Gartenstraße 88, Mitte (Ortsteil), Berlin       ~4.030 €           147 m²   \n",
       "2          Drei-Linien-Weg 99, Karow, Berlin     1.404,41 €         72,86 m²   \n",
       "3   Witzlebenplatz 2, Charlottenburg, Berlin     2.663,13 €        107,89 m²   \n",
       "4     Flottwellstraße 24, Tiergarten, Berlin     2.790,64 €         93,36 m²   \n",
       "\n",
       "  onlyLarge  margin-top-none margin-top-none 2 margin-top-none 3  \\\n",
       "0         3  Balkon/Terrasse       Einbauküche               ...   \n",
       "1         4  Balkon/Terrasse       Einbauküche               ...   \n",
       "2         3  Balkon/Terrasse       Einbauküche               ...   \n",
       "3         1  Balkon/Terrasse       Einbauküche               ...   \n",
       "4         3  Balkon/Terrasse       Einbauküche               ...   \n",
       "\n",
       "  Balkon/Terrasse Einbauküche Keller Garten Aufzug Gäste-WC WG-geeignet  \\\n",
       "0                                                                         \n",
       "1                                                                         \n",
       "2                                                                         \n",
       "3                                                                         \n",
       "4                                                                         \n",
       "\n",
       "  Stufenlos  \n",
       "0            \n",
       "1            \n",
       "2            \n",
       "3            \n",
       "4            "
      ]
     },
     "execution_count": 11,
     "metadata": {},
     "output_type": "execute_result"
    }
   ],
   "source": [
    "immo24.head()"
   ]
  },
  {
   "cell_type": "code",
   "execution_count": 12,
   "id": "ee26e584-6be8-4630-a051-d7b3f04114e6",
   "metadata": {},
   "outputs": [],
   "source": [
    "for i in range (len(immo24)):\n",
    "    if immo24.iloc[i,5]== \"Balkon/Terrasse\":\n",
    "        immo24.iloc[i,8]=1\n",
    "    elif immo24.iloc[i,6]== \"Balkon/Terrasse\":\n",
    "        immo24.iloc[i,8]=1\n",
    "    elif immo24.iloc[i,7]== \"Balkon/Terrasse\":\n",
    "        immo24.iloc[i,8]=1\n",
    "    else:\n",
    "        immo24.iloc[i,8]=0\n",
    "        "
   ]
  },
  {
   "cell_type": "code",
   "execution_count": 13,
   "id": "2c1b7a1b-3268-4199-9d61-0ab6c48f9a55",
   "metadata": {},
   "outputs": [],
   "source": [
    "for i in range (len(immo24)):\n",
    "    if immo24.iloc[i,5]== \"Einbauküche\" or immo24.iloc[i,6]== \"Einbauküche\" or immo24.iloc[i,7]== \"Einbauküche\":\n",
    "        immo24.iloc[i,9]=1\n",
    "    else:\n",
    "        immo24.iloc[i,9]=0"
   ]
  },
  {
   "cell_type": "code",
   "execution_count": 14,
   "id": "5dfe19d5-a3af-40ad-b471-4fab23bc7d5d",
   "metadata": {},
   "outputs": [],
   "source": [
    "for i in range (len(immo24)):\n",
    "    if immo24.iloc[i,5]== \"Keller\" or immo24.iloc[i,6]== \"Keller\" or immo24.iloc[i,7]== \"Keller\":\n",
    "        immo24.iloc[i,10]=1\n",
    "    else:\n",
    "        immo24.iloc[i,10]=0"
   ]
  },
  {
   "cell_type": "code",
   "execution_count": 15,
   "id": "2a073304-0e43-4560-a319-d9be6c740ca0",
   "metadata": {},
   "outputs": [],
   "source": [
    "for i in range (len(immo24)):\n",
    "    if immo24.iloc[i,5]== \"Garten\" or immo24.iloc[i,6]== \"Garten\" or immo24.iloc[i,7]== \"Garten\":\n",
    "        immo24.iloc[i,11]=1\n",
    "    else:\n",
    "        immo24.iloc[i,11]=0"
   ]
  },
  {
   "cell_type": "code",
   "execution_count": 16,
   "id": "8b502e38-99e6-4b8a-8c18-5bffd81d19ea",
   "metadata": {},
   "outputs": [],
   "source": [
    "for i in range (len(immo24)):\n",
    "    if immo24.iloc[i,5]== \"Aufzug\" or immo24.iloc[i,6]== \"Aufzug\" or immo24.iloc[i,7]== \"Aufzug\":\n",
    "        immo24.iloc[i,12]=1\n",
    "    else:\n",
    "        immo24.iloc[i,12]=0"
   ]
  },
  {
   "cell_type": "code",
   "execution_count": 17,
   "id": "badd27fd-61e4-4aab-8c29-d3513dc03a4c",
   "metadata": {},
   "outputs": [],
   "source": [
    "for i in range (len(immo24)):\n",
    "    if immo24.iloc[i,5]== \"Gäste-WC\" or immo24.iloc[i,6]== \"Gäste-WC\" or immo24.iloc[i,7]== \"Gäste-WC\":\n",
    "        immo24.iloc[i,13]=1\n",
    "    else:\n",
    "        immo24.iloc[i,13]=0"
   ]
  },
  {
   "cell_type": "code",
   "execution_count": 18,
   "id": "bf97a800-7706-40d1-87a9-6deeaef44a31",
   "metadata": {},
   "outputs": [],
   "source": [
    "for i in range (len(immo24)):\n",
    "    if immo24.iloc[i,5]== \"WG-geeignet\" or immo24.iloc[i,6]== \"WG-geeignet\" or immo24.iloc[i,7]== \"WG-geeignet\":\n",
    "        immo24.iloc[i,14]=1\n",
    "    else:\n",
    "        immo24.iloc[i,14]=0"
   ]
  },
  {
   "cell_type": "code",
   "execution_count": 19,
   "id": "1306cead-ea84-44e4-ac13-100615c6a701",
   "metadata": {},
   "outputs": [],
   "source": [
    "for i in range (len(immo24)):\n",
    "    if immo24.iloc[i,5]== \"Stufenlos\" or immo24.iloc[i,6]== \"Stufenlos\" or immo24.iloc[i,7]== \"Stufenlos\":\n",
    "        immo24.iloc[i,15]=1\n",
    "    else:\n",
    "        immo24.iloc[i,15]=0"
   ]
  },
  {
   "cell_type": "raw",
   "id": "339ffa4c-f71d-407a-b38b-263fb28b7ac2",
   "metadata": {},
   "source": [
    "list1=[\"Keller\", \"Garten\", \"Aufzug\", \"Gäste-WC\", \"WG-geeignet\"]\n",
    "\n",
    "for i in range (len(\"immo24\")):\n",
    "    for j in range (len(list)):\n",
    "                    if immo24.iloc[i,6]== list1[j] or immo24.iloc[i,7]== list1[j] or immo24.iloc[i,8]== list1[j]:\n",
    "                        immo24.iloc[i,j+11]=1\n",
    "                    else:\n",
    "                        immo24.iloc[i,j+11]=0"
   ]
  },
  {
   "cell_type": "markdown",
   "id": "a2bf48f0-e474-4acb-9275-5afb793ef6d0",
   "metadata": {},
   "source": [
    "#### Getting the specific district from address"
   ]
  },
  {
   "cell_type": "code",
   "execution_count": 20,
   "id": "a54f2445-d9a5-4cc1-8302-1d6bb4e96831",
   "metadata": {},
   "outputs": [],
   "source": [
    "Stadtteil=[]\n",
    "for i in range (len(immo24)):\n",
    "    elem= immo24[\"result-list-entry__map-link\"][i].split(\",\")[(immo24[\"result-list-entry__map-link\"][i].split(\",\").index(\" Berlin\"))-1]\n",
    "    elem= elem.lstrip()\n",
    "    elem=elem.replace(\"(Ortsteil)\",\"\")\n",
    "    elem= elem.rstrip()\n",
    "    Stadtteil.append(elem)"
   ]
  },
  {
   "cell_type": "code",
   "execution_count": 21,
   "id": "7a6abbe4-6d42-4930-a031-d403b29e5b55",
   "metadata": {},
   "outputs": [
    {
     "data": {
      "text/plain": [
       "3508"
      ]
     },
     "execution_count": 21,
     "metadata": {},
     "output_type": "execute_result"
    }
   ],
   "source": [
    "len(Stadtteil)\n"
   ]
  },
  {
   "cell_type": "code",
   "execution_count": 22,
   "id": "73b2aaa1-be4b-4920-bf7b-7fa73a1f0b3e",
   "metadata": {},
   "outputs": [],
   "source": [
    "immo24[\"Stadtteil\"]= Stadtteil"
   ]
  },
  {
   "cell_type": "code",
   "execution_count": 23,
   "id": "08cb0b47-f777-4dea-91de-ecfbbc45ca11",
   "metadata": {},
   "outputs": [
    {
     "data": {
      "text/plain": [
       "88"
      ]
     },
     "execution_count": 23,
     "metadata": {},
     "output_type": "execute_result"
    }
   ],
   "source": [
    "len(immo24[\"Stadtteil\"].unique())"
   ]
  },
  {
   "cell_type": "code",
   "execution_count": 24,
   "id": "14f61126-b00f-4305-938b-9bd02bc87eee",
   "metadata": {},
   "outputs": [
    {
     "data": {
      "text/plain": [
       "array(['Grunewald', 'Mitte', 'Karow', 'Charlottenburg', 'Tiergarten',\n",
       "       'Wilmersdorf', 'Alt-Treptow', 'Friedrichshain', 'Prenzlauer Berg',\n",
       "       'Schmargendorf', 'Wilhelmstadt', 'Mariendorf', 'Friedrichsfelde',\n",
       "       'Britz', 'Buckow', 'Spandau', 'Gesundbrunnen',\n",
       "       'Alt-Hohenschönhausen', 'Hakenfelde', 'Moabit', 'Schöneberg',\n",
       "       'Kreuzberg', 'Rahnsdorf', 'Neukölln', 'Steglitz', 'Friedenau',\n",
       "       'Köpenick', 'Reinickendorf', 'Hellersdorf', 'Pankow',\n",
       "       'Altglienicke', 'Heinersdorf', 'Tempelhof', 'Grünau', 'Biesdorf',\n",
       "       'Lankwitz', 'Marzahn', 'Westend', 'Karlshorst', 'Konradshöhe',\n",
       "       'Staaken', 'Marienfelde', 'Lichtenberg', 'Wedding', 'Dahlem',\n",
       "       'Niederschönhausen', 'Halensee', 'Hermsdorf', 'Adlershof',\n",
       "       'Weißensee', 'Rosenthal', 'Johannisthal', 'Lichtenrade',\n",
       "       'Gropiusstadt', 'Kaulsdorf', 'Wannsee', 'Lichterfelde',\n",
       "       'Blankenburg', 'Friedrichshagen', 'Mahlsdorf', 'Schmöckwitz',\n",
       "       'Zehlendorf', 'Buch', 'Oberschöneweide', 'Französisch Buchholz',\n",
       "       'Plänterwald', 'Nikolassee', 'Fennpfuhl', 'Neu-Hohenschönhausen',\n",
       "       'Bohnsdorf', 'Siemensstadt', 'Borsigwalde', 'Rummelsburg',\n",
       "       'Hansaviertel', 'Charlottenburg-Nord', 'Niederschöneweide',\n",
       "       'Tegel', 'Wilhelmsruh', 'Falkenhagener Feld', 'Müggelheim',\n",
       "       'Haselhorst', 'Märkisches Viertel', 'Wittenau', 'Falkenberg',\n",
       "       'Baumschulenweg', 'Lübars', 'Gatow', 'Heiligensee'], dtype=object)"
      ]
     },
     "execution_count": 24,
     "metadata": {},
     "output_type": "execute_result"
    }
   ],
   "source": [
    "immo24[\"Stadtteil\"].unique()"
   ]
  },
  {
   "cell_type": "markdown",
   "id": "536b608d-b6b4-4f9c-a163-9b49d9eddb15",
   "metadata": {},
   "source": [
    "#### Checking NaN's"
   ]
  },
  {
   "cell_type": "code",
   "execution_count": 25,
   "id": "58db75b4-ea6e-46af-a555-1dbb22e12c9d",
   "metadata": {},
   "outputs": [
    {
     "data": {
      "text/plain": [
       "1      1392\n",
       "2      1182\n",
       "3       597\n",
       "4       187\n",
       "5        38\n",
       "2,5      30\n",
       "1,5      16\n",
       "7        12\n",
       "6        10\n",
       "3,5       9\n",
       "4,5       4\n",
       "6,5       2\n",
       "7,5       1\n",
       "13        1\n",
       "8         1\n",
       "5,5       1\n",
       "8,5       1\n",
       "18        1\n",
       "Name: onlyLarge, dtype: int64"
      ]
     },
     "execution_count": 25,
     "metadata": {},
     "output_type": "execute_result"
    }
   ],
   "source": [
    "immo24[\"onlyLarge\"].value_counts()"
   ]
  },
  {
   "cell_type": "code",
   "execution_count": 26,
   "id": "c04066b9-f207-4871-a46a-9a618890c21a",
   "metadata": {},
   "outputs": [
    {
     "data": {
      "text/plain": [
       "23"
      ]
     },
     "execution_count": 26,
     "metadata": {},
     "output_type": "execute_result"
    }
   ],
   "source": [
    "immo24[\"onlyLarge\"].isna().sum()"
   ]
  },
  {
   "cell_type": "code",
   "execution_count": 27,
   "id": "6b1111e0-e72d-440a-82a4-0b1fa4e9552a",
   "metadata": {},
   "outputs": [
    {
     "name": "stdout",
     "output_type": "stream",
     "text": [
      "<class 'pandas.core.frame.DataFrame'>\n",
      "RangeIndex: 3508 entries, 0 to 3507\n",
      "Data columns (total 17 columns):\n",
      " #   Column                          Non-Null Count  Dtype \n",
      "---  ------                          --------------  ----- \n",
      " 0   result-list-entry__brand-title  3508 non-null   object\n",
      " 1   result-list-entry__map-link     3508 non-null   object\n",
      " 2   font-highlight                  3508 non-null   object\n",
      " 3   font-highlight 2                3508 non-null   object\n",
      " 4   onlyLarge                       3485 non-null   object\n",
      " 5   margin-top-none                 1735 non-null   object\n",
      " 6   margin-top-none 2               1196 non-null   object\n",
      " 7   margin-top-none 3               787 non-null    object\n",
      " 8   Balkon/Terrasse                 3508 non-null   object\n",
      " 9   Einbauküche                     3508 non-null   object\n",
      " 10  Keller                          3508 non-null   object\n",
      " 11  Garten                          3508 non-null   object\n",
      " 12  Aufzug                          3508 non-null   object\n",
      " 13  Gäste-WC                        3508 non-null   object\n",
      " 14  WG-geeignet                     3508 non-null   object\n",
      " 15  Stufenlos                       3508 non-null   object\n",
      " 16  Stadtteil                       3508 non-null   object\n",
      "dtypes: object(17)\n",
      "memory usage: 466.0+ KB\n"
     ]
    }
   ],
   "source": [
    "immo24.info()"
   ]
  },
  {
   "cell_type": "code",
   "execution_count": 28,
   "id": "668dc6d1-2558-4fba-8452-e61152a54095",
   "metadata": {},
   "outputs": [
    {
     "data": {
      "text/plain": [
       "array(['3.940 €', '~4.030 €', '1.404,41 €', ..., '3.984 €', '1.448 €',\n",
       "       '1.663 €'], dtype=object)"
      ]
     },
     "execution_count": 28,
     "metadata": {},
     "output_type": "execute_result"
    }
   ],
   "source": [
    "immo24[\"font-highlight\"].unique()"
   ]
  },
  {
   "cell_type": "code",
   "execution_count": 29,
   "id": "c3ba6f8b-fedd-42e0-879b-33e4d9798098",
   "metadata": {},
   "outputs": [
    {
     "data": {
      "text/plain": [
       "0"
      ]
     },
     "execution_count": 29,
     "metadata": {},
     "output_type": "execute_result"
    }
   ],
   "source": [
    "immo24[\"font-highlight\"].isna().sum()"
   ]
  },
  {
   "cell_type": "markdown",
   "id": "95c8eaf6-8879-434d-a30e-eeac4a4e5e35",
   "metadata": {},
   "source": [
    "#### Renaming and rearranging columns"
   ]
  },
  {
   "cell_type": "code",
   "execution_count": 30,
   "id": "8eae9ac3-59a1-44de-aaa6-904fe685766c",
   "metadata": {},
   "outputs": [
    {
     "data": {
      "text/plain": [
       "Index(['result-list-entry__brand-title', 'result-list-entry__map-link',\n",
       "       'font-highlight', 'font-highlight 2', 'onlyLarge', 'margin-top-none',\n",
       "       'margin-top-none 2', 'margin-top-none 3', 'Balkon/Terrasse',\n",
       "       'Einbauküche', 'Keller', 'Garten', 'Aufzug', 'Gäste-WC', 'WG-geeignet',\n",
       "       'Stufenlos', 'Stadtteil'],\n",
       "      dtype='object')"
      ]
     },
     "execution_count": 30,
     "metadata": {},
     "output_type": "execute_result"
    }
   ],
   "source": [
    "immo24.columns\n"
   ]
  },
  {
   "cell_type": "code",
   "execution_count": 31,
   "id": "e2084f5a-fcec-4b92-abc1-6903fbb2877b",
   "metadata": {},
   "outputs": [],
   "source": [
    "new_column_names = {\"result-list-entry__brand-title\":\"description\",\"result-list-entry__map-link\":\"address\",\"font-highlight\":\"total rent\",\"font-highlight 2\":\"area\",\"onlyLarge\":\"number of rooms\",\"margin-top-none\":\"feature 1\",\"margin-top-none 2\":\"feature 2\",\"margin-top-none 3\":\"feature 3\",\"Balkon/Terrasse\":\"balcony\",\"Einbauküche\":\"built-in kitchen\",\"Keller\":\"basement\",\"Garten\":\"garden\",\"Aufzug\":\"elevator\",\"Gäste-WC\":\"guest toilet\",\"WG-geeignet\":\"flat share possible\",\"Stufenlos\":\"stepless\",\"Stadtteil\":\"district\"}"
   ]
  },
  {
   "cell_type": "code",
   "execution_count": 32,
   "id": "7f8fe32b-6a39-4236-87ec-d6270a3f98d2",
   "metadata": {},
   "outputs": [],
   "source": [
    "df = immo24.rename(columns=new_column_names)"
   ]
  },
  {
   "cell_type": "code",
   "execution_count": 33,
   "id": "b2276425-0aa1-4716-84de-38038c62e22a",
   "metadata": {},
   "outputs": [],
   "source": [
    "df[\"district\"]=df[\"district\"].str.lower()"
   ]
  },
  {
   "cell_type": "code",
   "execution_count": 34,
   "id": "fb893878-2917-4503-adfb-37202f13e719",
   "metadata": {},
   "outputs": [],
   "source": [
    "df = df[[\"district\",\"address\",\"description\",\"total rent\",\"area\",\"number of rooms\",\"balcony\",\"built-in kitchen\",\"basement\",\"garden\",\"elevator\",\"stepless\",\"guest toilet\",\"flat share possible\"]]"
   ]
  },
  {
   "cell_type": "markdown",
   "id": "6b5bf774-6e46-4566-84fd-aaf9d4379105",
   "metadata": {},
   "source": [
    "#### Deleting, useless characters and changing , to ."
   ]
  },
  {
   "cell_type": "code",
   "execution_count": 35,
   "id": "14cee4da-0816-455a-88d7-a71894c8a896",
   "metadata": {},
   "outputs": [],
   "source": [
    "for i in range (len(df)):\n",
    "    df[\"total rent\"][i]= df[\"total rent\"][i].replace(\"€\",\"\").replace(\"~\",\"\").rstrip().replace(\".\",\"\").replace(\",\",\".\")\n",
    "    "
   ]
  },
  {
   "cell_type": "code",
   "execution_count": 36,
   "id": "97d87f5e-1ad4-4cad-88ad-89c9733f9208",
   "metadata": {
    "tags": []
   },
   "outputs": [],
   "source": [
    "for i in range (len(df)):\n",
    "    df[\"area\"][i]= df[\"area\"][i].replace(\"m²\",\"\").replace(\"~\",\"\").rstrip().replace(\".\",\"\").replace(\",\",\".\")"
   ]
  },
  {
   "cell_type": "code",
   "execution_count": 37,
   "id": "aa72a15f-83eb-4a38-b035-93dabf873020",
   "metadata": {},
   "outputs": [
    {
     "name": "stdout",
     "output_type": "stream",
     "text": [
      "<class 'pandas.core.frame.DataFrame'>\n",
      "RangeIndex: 3508 entries, 0 to 3507\n",
      "Data columns (total 14 columns):\n",
      " #   Column               Non-Null Count  Dtype \n",
      "---  ------               --------------  ----- \n",
      " 0   district             3508 non-null   object\n",
      " 1   address              3508 non-null   object\n",
      " 2   description          3508 non-null   object\n",
      " 3   total rent           3508 non-null   object\n",
      " 4   area                 3508 non-null   object\n",
      " 5   number of rooms      3485 non-null   object\n",
      " 6   balcony              3508 non-null   object\n",
      " 7   built-in kitchen     3508 non-null   object\n",
      " 8   basement             3508 non-null   object\n",
      " 9   garden               3508 non-null   object\n",
      " 10  elevator             3508 non-null   object\n",
      " 11  stepless             3508 non-null   object\n",
      " 12  guest toilet         3508 non-null   object\n",
      " 13  flat share possible  3508 non-null   object\n",
      "dtypes: object(14)\n",
      "memory usage: 383.8+ KB\n"
     ]
    }
   ],
   "source": [
    "df.info()"
   ]
  },
  {
   "cell_type": "code",
   "execution_count": 38,
   "id": "7f70c062-a627-4804-8d0e-b1d3b703bce7",
   "metadata": {},
   "outputs": [
    {
     "data": {
      "text/plain": [
       "array(['3', '4', '1', '5', '7', '2', nan, '2,5', '3,5', '6', '8', '1,5',\n",
       "       '6,5', '4,5', '8,5', '5,5', '7,5', '13', '18'], dtype=object)"
      ]
     },
     "execution_count": 38,
     "metadata": {},
     "output_type": "execute_result"
    }
   ],
   "source": [
    "df[\"number of rooms\"].unique()"
   ]
  },
  {
   "cell_type": "markdown",
   "id": "e808c352-76c3-41cc-be42-cb7883810103",
   "metadata": {},
   "source": [
    "#### Dropping rows with incomplete information"
   ]
  },
  {
   "cell_type": "code",
   "execution_count": 39,
   "id": "793abf87-84ce-4e73-854f-a17665209c5c",
   "metadata": {},
   "outputs": [
    {
     "data": {
      "text/plain": [
       "23"
      ]
     },
     "execution_count": 39,
     "metadata": {},
     "output_type": "execute_result"
    }
   ],
   "source": [
    "df[\"number of rooms\"].isna().sum()"
   ]
  },
  {
   "cell_type": "code",
   "execution_count": 40,
   "id": "8d530af8-7707-4a25-8b15-9cca9329fd96",
   "metadata": {},
   "outputs": [],
   "source": [
    "df.drop(df.loc[df[\"number of rooms\"].isna()==True].index, inplace=True)\n",
    "    "
   ]
  },
  {
   "cell_type": "code",
   "execution_count": 44,
   "id": "20d5fb76-0c03-43f8-a73a-beaff5d9b6ef",
   "metadata": {},
   "outputs": [],
   "source": [
    "df.reset_index(inplace=True)"
   ]
  },
  {
   "cell_type": "code",
   "execution_count": 45,
   "id": "398436c7-5f8b-43cc-bf8f-d4263ffa5bfc",
   "metadata": {},
   "outputs": [],
   "source": [
    "df[\"number of rooms\"] = df[\"number of rooms\"].astype(str)"
   ]
  },
  {
   "cell_type": "code",
   "execution_count": 46,
   "id": "e7267231-d0da-4d78-905b-4bc3b7bf1564",
   "metadata": {},
   "outputs": [
    {
     "name": "stderr",
     "output_type": "stream",
     "text": [
      "/var/folders/t4/m86mwfns0ll4fvy0p6jmyhyr0000gp/T/ipykernel_7869/2391938599.py:2: SettingWithCopyWarning: \n",
      "A value is trying to be set on a copy of a slice from a DataFrame\n",
      "\n",
      "See the caveats in the documentation: https://pandas.pydata.org/pandas-docs/stable/user_guide/indexing.html#returning-a-view-versus-a-copy\n",
      "  df[\"number of rooms\"][i]= df[\"number of rooms\"][i].replace(\",\",\".\")\n"
     ]
    }
   ],
   "source": [
    "for i in range (len(df)):\n",
    "    df[\"number of rooms\"][i]= df[\"number of rooms\"][i].replace(\",\",\".\")"
   ]
  },
  {
   "cell_type": "markdown",
   "id": "9f250a63-c87d-4e8d-bbff-daa8d28dc03d",
   "metadata": {},
   "source": [
    "#### Adapting datatypes"
   ]
  },
  {
   "cell_type": "code",
   "execution_count": 47,
   "id": "6580a53c-d620-477f-818f-8eee57f491f0",
   "metadata": {},
   "outputs": [
    {
     "name": "stdout",
     "output_type": "stream",
     "text": [
      "<class 'pandas.core.frame.DataFrame'>\n",
      "RangeIndex: 3485 entries, 0 to 3484\n",
      "Data columns (total 15 columns):\n",
      " #   Column               Non-Null Count  Dtype \n",
      "---  ------               --------------  ----- \n",
      " 0   index                3485 non-null   int64 \n",
      " 1   district             3485 non-null   object\n",
      " 2   address              3485 non-null   object\n",
      " 3   description          3485 non-null   object\n",
      " 4   total rent           3485 non-null   object\n",
      " 5   area                 3485 non-null   object\n",
      " 6   number of rooms      3485 non-null   object\n",
      " 7   balcony              3485 non-null   object\n",
      " 8   built-in kitchen     3485 non-null   object\n",
      " 9   basement             3485 non-null   object\n",
      " 10  garden               3485 non-null   object\n",
      " 11  elevator             3485 non-null   object\n",
      " 12  stepless             3485 non-null   object\n",
      " 13  guest toilet         3485 non-null   object\n",
      " 14  flat share possible  3485 non-null   object\n",
      "dtypes: int64(1), object(14)\n",
      "memory usage: 408.5+ KB\n"
     ]
    }
   ],
   "source": [
    "df.info()"
   ]
  },
  {
   "cell_type": "code",
   "execution_count": 48,
   "id": "540dc56f-a5de-4325-b9b7-8e680858bf21",
   "metadata": {},
   "outputs": [],
   "source": [
    "df[[\"number of rooms\", \"total rent\",\"area\"]] = df[[\"number of rooms\", \"total rent\",\"area\"]].astype(float)"
   ]
  },
  {
   "cell_type": "code",
   "execution_count": 49,
   "id": "7fdeb5e7-2f82-4948-9193-75dff7af1b6b",
   "metadata": {},
   "outputs": [],
   "source": [
    "df[['balcony', 'built-in kitchen', 'basement', 'garden','elevator', 'stepless', 'guest toilet', 'flat share possible']]=df[['balcony', 'built-in kitchen', 'basement', 'garden','elevator', 'stepless', 'guest toilet', 'flat share possible']].astype(int)"
   ]
  },
  {
   "cell_type": "code",
   "execution_count": 50,
   "id": "d0ca5279-a60d-44ff-8157-68ebeac901e3",
   "metadata": {},
   "outputs": [
    {
     "name": "stdout",
     "output_type": "stream",
     "text": [
      "<class 'pandas.core.frame.DataFrame'>\n",
      "RangeIndex: 3485 entries, 0 to 3484\n",
      "Data columns (total 15 columns):\n",
      " #   Column               Non-Null Count  Dtype  \n",
      "---  ------               --------------  -----  \n",
      " 0   index                3485 non-null   int64  \n",
      " 1   district             3485 non-null   object \n",
      " 2   address              3485 non-null   object \n",
      " 3   description          3485 non-null   object \n",
      " 4   total rent           3485 non-null   float64\n",
      " 5   area                 3485 non-null   float64\n",
      " 6   number of rooms      3485 non-null   float64\n",
      " 7   balcony              3485 non-null   int64  \n",
      " 8   built-in kitchen     3485 non-null   int64  \n",
      " 9   basement             3485 non-null   int64  \n",
      " 10  garden               3485 non-null   int64  \n",
      " 11  elevator             3485 non-null   int64  \n",
      " 12  stepless             3485 non-null   int64  \n",
      " 13  guest toilet         3485 non-null   int64  \n",
      " 14  flat share possible  3485 non-null   int64  \n",
      "dtypes: float64(3), int64(9), object(3)\n",
      "memory usage: 408.5+ KB\n"
     ]
    }
   ],
   "source": [
    "df.info()"
   ]
  },
  {
   "cell_type": "code",
   "execution_count": 51,
   "id": "8b3dff25-d5dd-41d6-a0f3-d633721ac463",
   "metadata": {},
   "outputs": [],
   "source": [
    "df.drop(\"index\", axis=1, inplace=True)"
   ]
  },
  {
   "cell_type": "code",
   "execution_count": 56,
   "id": "a39b0909-e59c-4c48-905e-17536b253384",
   "metadata": {},
   "outputs": [],
   "source": [
    "#df.to_csv(\"df_clean.csv\",index=False)"
   ]
  },
  {
   "cell_type": "markdown",
   "id": "6aeff5d2-977f-4e45-ab23-72045fd155a4",
   "metadata": {},
   "source": [
    "#### Creating numeric df as basis for machine learning"
   ]
  },
  {
   "cell_type": "code",
   "execution_count": 57,
   "id": "7abcb996-afee-45af-b0ab-77c06ab5aff7",
   "metadata": {},
   "outputs": [],
   "source": [
    "df= pd.get_dummies(df, columns=['district'])"
   ]
  },
  {
   "cell_type": "code",
   "execution_count": 71,
   "id": "2735d762-c029-4aa4-9466-f2ac38a4f313",
   "metadata": {},
   "outputs": [],
   "source": [
    "df[[\"district_tiergarten\", \"district_wannsee\", \"district_wedding\",\"district_weißensee\", \"district_westend\", \"district_wilhelmsruh\",'district_wilhelmstadt', 'district_wilmersdorf', 'district_wittenau','district_zehlendorf']] = df[[\"district_tiergarten\", 'district_wannsee', 'district_wedding','district_weißensee', 'district_westend', 'district_wilhelmsruh','district_wilhelmstadt', 'district_wilmersdorf', 'district_wittenau','district_zehlendorf']].astype(int)"
   ]
  },
  {
   "cell_type": "code",
   "execution_count": 73,
   "id": "6cb8af2f-232a-45cf-abe7-70774dd2f7ed",
   "metadata": {},
   "outputs": [],
   "source": [
    "df_numeric = df.select_dtypes(include=[\"int\",\"float\"])"
   ]
  },
  {
   "cell_type": "code",
   "execution_count": 74,
   "id": "c0491a42-5527-4d70-8991-0768778400f2",
   "metadata": {},
   "outputs": [
    {
     "data": {
      "text/html": [
       "<div>\n",
       "<style scoped>\n",
       "    .dataframe tbody tr th:only-of-type {\n",
       "        vertical-align: middle;\n",
       "    }\n",
       "\n",
       "    .dataframe tbody tr th {\n",
       "        vertical-align: top;\n",
       "    }\n",
       "\n",
       "    .dataframe thead th {\n",
       "        text-align: right;\n",
       "    }\n",
       "</style>\n",
       "<table border=\"1\" class=\"dataframe\">\n",
       "  <thead>\n",
       "    <tr style=\"text-align: right;\">\n",
       "      <th></th>\n",
       "      <th>total rent</th>\n",
       "      <th>area</th>\n",
       "      <th>number of rooms</th>\n",
       "      <th>balcony</th>\n",
       "      <th>built-in kitchen</th>\n",
       "      <th>basement</th>\n",
       "      <th>garden</th>\n",
       "      <th>elevator</th>\n",
       "      <th>stepless</th>\n",
       "      <th>guest toilet</th>\n",
       "      <th>...</th>\n",
       "      <th>district_tiergarten</th>\n",
       "      <th>district_wannsee</th>\n",
       "      <th>district_wedding</th>\n",
       "      <th>district_weißensee</th>\n",
       "      <th>district_westend</th>\n",
       "      <th>district_wilhelmsruh</th>\n",
       "      <th>district_wilhelmstadt</th>\n",
       "      <th>district_wilmersdorf</th>\n",
       "      <th>district_wittenau</th>\n",
       "      <th>district_zehlendorf</th>\n",
       "    </tr>\n",
       "  </thead>\n",
       "  <tbody>\n",
       "    <tr>\n",
       "      <th>0</th>\n",
       "      <td>3940.00</td>\n",
       "      <td>175.00</td>\n",
       "      <td>3.0</td>\n",
       "      <td>1</td>\n",
       "      <td>1</td>\n",
       "      <td>0</td>\n",
       "      <td>0</td>\n",
       "      <td>0</td>\n",
       "      <td>0</td>\n",
       "      <td>0</td>\n",
       "      <td>...</td>\n",
       "      <td>0</td>\n",
       "      <td>0</td>\n",
       "      <td>0</td>\n",
       "      <td>0</td>\n",
       "      <td>0</td>\n",
       "      <td>0</td>\n",
       "      <td>0</td>\n",
       "      <td>0</td>\n",
       "      <td>0</td>\n",
       "      <td>0</td>\n",
       "    </tr>\n",
       "    <tr>\n",
       "      <th>1</th>\n",
       "      <td>4030.00</td>\n",
       "      <td>147.00</td>\n",
       "      <td>4.0</td>\n",
       "      <td>1</td>\n",
       "      <td>1</td>\n",
       "      <td>0</td>\n",
       "      <td>0</td>\n",
       "      <td>0</td>\n",
       "      <td>0</td>\n",
       "      <td>0</td>\n",
       "      <td>...</td>\n",
       "      <td>0</td>\n",
       "      <td>0</td>\n",
       "      <td>0</td>\n",
       "      <td>0</td>\n",
       "      <td>0</td>\n",
       "      <td>0</td>\n",
       "      <td>0</td>\n",
       "      <td>0</td>\n",
       "      <td>0</td>\n",
       "      <td>0</td>\n",
       "    </tr>\n",
       "    <tr>\n",
       "      <th>2</th>\n",
       "      <td>1404.41</td>\n",
       "      <td>72.86</td>\n",
       "      <td>3.0</td>\n",
       "      <td>1</td>\n",
       "      <td>1</td>\n",
       "      <td>0</td>\n",
       "      <td>0</td>\n",
       "      <td>0</td>\n",
       "      <td>0</td>\n",
       "      <td>0</td>\n",
       "      <td>...</td>\n",
       "      <td>0</td>\n",
       "      <td>0</td>\n",
       "      <td>0</td>\n",
       "      <td>0</td>\n",
       "      <td>0</td>\n",
       "      <td>0</td>\n",
       "      <td>0</td>\n",
       "      <td>0</td>\n",
       "      <td>0</td>\n",
       "      <td>0</td>\n",
       "    </tr>\n",
       "    <tr>\n",
       "      <th>3</th>\n",
       "      <td>2663.13</td>\n",
       "      <td>107.89</td>\n",
       "      <td>1.0</td>\n",
       "      <td>1</td>\n",
       "      <td>1</td>\n",
       "      <td>0</td>\n",
       "      <td>0</td>\n",
       "      <td>0</td>\n",
       "      <td>0</td>\n",
       "      <td>0</td>\n",
       "      <td>...</td>\n",
       "      <td>0</td>\n",
       "      <td>0</td>\n",
       "      <td>0</td>\n",
       "      <td>0</td>\n",
       "      <td>0</td>\n",
       "      <td>0</td>\n",
       "      <td>0</td>\n",
       "      <td>0</td>\n",
       "      <td>0</td>\n",
       "      <td>0</td>\n",
       "    </tr>\n",
       "    <tr>\n",
       "      <th>4</th>\n",
       "      <td>2790.64</td>\n",
       "      <td>93.36</td>\n",
       "      <td>3.0</td>\n",
       "      <td>1</td>\n",
       "      <td>1</td>\n",
       "      <td>0</td>\n",
       "      <td>0</td>\n",
       "      <td>0</td>\n",
       "      <td>0</td>\n",
       "      <td>0</td>\n",
       "      <td>...</td>\n",
       "      <td>1</td>\n",
       "      <td>0</td>\n",
       "      <td>0</td>\n",
       "      <td>0</td>\n",
       "      <td>0</td>\n",
       "      <td>0</td>\n",
       "      <td>0</td>\n",
       "      <td>0</td>\n",
       "      <td>0</td>\n",
       "      <td>0</td>\n",
       "    </tr>\n",
       "    <tr>\n",
       "      <th>...</th>\n",
       "      <td>...</td>\n",
       "      <td>...</td>\n",
       "      <td>...</td>\n",
       "      <td>...</td>\n",
       "      <td>...</td>\n",
       "      <td>...</td>\n",
       "      <td>...</td>\n",
       "      <td>...</td>\n",
       "      <td>...</td>\n",
       "      <td>...</td>\n",
       "      <td>...</td>\n",
       "      <td>...</td>\n",
       "      <td>...</td>\n",
       "      <td>...</td>\n",
       "      <td>...</td>\n",
       "      <td>...</td>\n",
       "      <td>...</td>\n",
       "      <td>...</td>\n",
       "      <td>...</td>\n",
       "      <td>...</td>\n",
       "      <td>...</td>\n",
       "    </tr>\n",
       "    <tr>\n",
       "      <th>3480</th>\n",
       "      <td>1035.00</td>\n",
       "      <td>80.00</td>\n",
       "      <td>3.0</td>\n",
       "      <td>1</td>\n",
       "      <td>0</td>\n",
       "      <td>1</td>\n",
       "      <td>1</td>\n",
       "      <td>0</td>\n",
       "      <td>0</td>\n",
       "      <td>0</td>\n",
       "      <td>...</td>\n",
       "      <td>0</td>\n",
       "      <td>0</td>\n",
       "      <td>0</td>\n",
       "      <td>0</td>\n",
       "      <td>0</td>\n",
       "      <td>0</td>\n",
       "      <td>0</td>\n",
       "      <td>0</td>\n",
       "      <td>0</td>\n",
       "      <td>0</td>\n",
       "    </tr>\n",
       "    <tr>\n",
       "      <th>3481</th>\n",
       "      <td>1663.00</td>\n",
       "      <td>84.10</td>\n",
       "      <td>2.0</td>\n",
       "      <td>0</td>\n",
       "      <td>0</td>\n",
       "      <td>0</td>\n",
       "      <td>1</td>\n",
       "      <td>0</td>\n",
       "      <td>0</td>\n",
       "      <td>0</td>\n",
       "      <td>...</td>\n",
       "      <td>0</td>\n",
       "      <td>0</td>\n",
       "      <td>0</td>\n",
       "      <td>0</td>\n",
       "      <td>0</td>\n",
       "      <td>0</td>\n",
       "      <td>0</td>\n",
       "      <td>0</td>\n",
       "      <td>0</td>\n",
       "      <td>0</td>\n",
       "    </tr>\n",
       "    <tr>\n",
       "      <th>3482</th>\n",
       "      <td>1260.00</td>\n",
       "      <td>72.00</td>\n",
       "      <td>2.5</td>\n",
       "      <td>0</td>\n",
       "      <td>0</td>\n",
       "      <td>1</td>\n",
       "      <td>1</td>\n",
       "      <td>0</td>\n",
       "      <td>0</td>\n",
       "      <td>0</td>\n",
       "      <td>...</td>\n",
       "      <td>0</td>\n",
       "      <td>0</td>\n",
       "      <td>0</td>\n",
       "      <td>0</td>\n",
       "      <td>0</td>\n",
       "      <td>0</td>\n",
       "      <td>0</td>\n",
       "      <td>0</td>\n",
       "      <td>0</td>\n",
       "      <td>0</td>\n",
       "    </tr>\n",
       "    <tr>\n",
       "      <th>3483</th>\n",
       "      <td>2995.00</td>\n",
       "      <td>158.00</td>\n",
       "      <td>4.0</td>\n",
       "      <td>0</td>\n",
       "      <td>0</td>\n",
       "      <td>0</td>\n",
       "      <td>0</td>\n",
       "      <td>1</td>\n",
       "      <td>0</td>\n",
       "      <td>1</td>\n",
       "      <td>...</td>\n",
       "      <td>1</td>\n",
       "      <td>0</td>\n",
       "      <td>0</td>\n",
       "      <td>0</td>\n",
       "      <td>0</td>\n",
       "      <td>0</td>\n",
       "      <td>0</td>\n",
       "      <td>0</td>\n",
       "      <td>0</td>\n",
       "      <td>0</td>\n",
       "    </tr>\n",
       "    <tr>\n",
       "      <th>3484</th>\n",
       "      <td>1999.00</td>\n",
       "      <td>136.32</td>\n",
       "      <td>4.0</td>\n",
       "      <td>0</td>\n",
       "      <td>0</td>\n",
       "      <td>0</td>\n",
       "      <td>0</td>\n",
       "      <td>1</td>\n",
       "      <td>0</td>\n",
       "      <td>0</td>\n",
       "      <td>...</td>\n",
       "      <td>0</td>\n",
       "      <td>0</td>\n",
       "      <td>0</td>\n",
       "      <td>0</td>\n",
       "      <td>0</td>\n",
       "      <td>0</td>\n",
       "      <td>0</td>\n",
       "      <td>0</td>\n",
       "      <td>0</td>\n",
       "      <td>0</td>\n",
       "    </tr>\n",
       "  </tbody>\n",
       "</table>\n",
       "<p>3485 rows × 21 columns</p>\n",
       "</div>"
      ],
      "text/plain": [
       "      total rent    area  number of rooms  balcony  built-in kitchen  \\\n",
       "0        3940.00  175.00              3.0        1                 1   \n",
       "1        4030.00  147.00              4.0        1                 1   \n",
       "2        1404.41   72.86              3.0        1                 1   \n",
       "3        2663.13  107.89              1.0        1                 1   \n",
       "4        2790.64   93.36              3.0        1                 1   \n",
       "...          ...     ...              ...      ...               ...   \n",
       "3480     1035.00   80.00              3.0        1                 0   \n",
       "3481     1663.00   84.10              2.0        0                 0   \n",
       "3482     1260.00   72.00              2.5        0                 0   \n",
       "3483     2995.00  158.00              4.0        0                 0   \n",
       "3484     1999.00  136.32              4.0        0                 0   \n",
       "\n",
       "      basement  garden  elevator  stepless  guest toilet  ...  \\\n",
       "0            0       0         0         0             0  ...   \n",
       "1            0       0         0         0             0  ...   \n",
       "2            0       0         0         0             0  ...   \n",
       "3            0       0         0         0             0  ...   \n",
       "4            0       0         0         0             0  ...   \n",
       "...        ...     ...       ...       ...           ...  ...   \n",
       "3480         1       1         0         0             0  ...   \n",
       "3481         0       1         0         0             0  ...   \n",
       "3482         1       1         0         0             0  ...   \n",
       "3483         0       0         1         0             1  ...   \n",
       "3484         0       0         1         0             0  ...   \n",
       "\n",
       "      district_tiergarten  district_wannsee  district_wedding  \\\n",
       "0                       0                 0                 0   \n",
       "1                       0                 0                 0   \n",
       "2                       0                 0                 0   \n",
       "3                       0                 0                 0   \n",
       "4                       1                 0                 0   \n",
       "...                   ...               ...               ...   \n",
       "3480                    0                 0                 0   \n",
       "3481                    0                 0                 0   \n",
       "3482                    0                 0                 0   \n",
       "3483                    1                 0                 0   \n",
       "3484                    0                 0                 0   \n",
       "\n",
       "      district_weißensee  district_westend  district_wilhelmsruh  \\\n",
       "0                      0                 0                     0   \n",
       "1                      0                 0                     0   \n",
       "2                      0                 0                     0   \n",
       "3                      0                 0                     0   \n",
       "4                      0                 0                     0   \n",
       "...                  ...               ...                   ...   \n",
       "3480                   0                 0                     0   \n",
       "3481                   0                 0                     0   \n",
       "3482                   0                 0                     0   \n",
       "3483                   0                 0                     0   \n",
       "3484                   0                 0                     0   \n",
       "\n",
       "      district_wilhelmstadt  district_wilmersdorf  district_wittenau  \\\n",
       "0                         0                     0                  0   \n",
       "1                         0                     0                  0   \n",
       "2                         0                     0                  0   \n",
       "3                         0                     0                  0   \n",
       "4                         0                     0                  0   \n",
       "...                     ...                   ...                ...   \n",
       "3480                      0                     0                  0   \n",
       "3481                      0                     0                  0   \n",
       "3482                      0                     0                  0   \n",
       "3483                      0                     0                  0   \n",
       "3484                      0                     0                  0   \n",
       "\n",
       "      district_zehlendorf  \n",
       "0                       0  \n",
       "1                       0  \n",
       "2                       0  \n",
       "3                       0  \n",
       "4                       0  \n",
       "...                   ...  \n",
       "3480                    0  \n",
       "3481                    0  \n",
       "3482                    0  \n",
       "3483                    0  \n",
       "3484                    0  \n",
       "\n",
       "[3485 rows x 21 columns]"
      ]
     },
     "execution_count": 74,
     "metadata": {},
     "output_type": "execute_result"
    }
   ],
   "source": [
    "df_numeric"
   ]
  },
  {
   "cell_type": "code",
   "execution_count": 75,
   "id": "8800c29b-798f-42e9-bd65-5d45ef5bfda5",
   "metadata": {},
   "outputs": [],
   "source": [
    "#df_numeric.to_csv(\"df_numeric.csv\",index=False)"
   ]
  }
 ],
 "metadata": {
  "kernelspec": {
   "display_name": "Python 3 (ipykernel)",
   "language": "python",
   "name": "python3"
  },
  "language_info": {
   "codemirror_mode": {
    "name": "ipython",
    "version": 3
   },
   "file_extension": ".py",
   "mimetype": "text/x-python",
   "name": "python",
   "nbconvert_exporter": "python",
   "pygments_lexer": "ipython3",
   "version": "3.9.12"
  }
 },
 "nbformat": 4,
 "nbformat_minor": 5
}
