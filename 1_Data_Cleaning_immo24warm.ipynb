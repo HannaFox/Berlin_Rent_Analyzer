{
 "cells": [
  {
   "cell_type": "markdown",
   "id": "67a7ac48-e48a-4be1-b89c-e01edfe21950",
   "metadata": {},
   "source": [
    "# Data Cleaning"
   ]
  },
  {
   "cell_type": "markdown",
   "id": "a4a12b2f-3cc3-436e-b7d8-bd0e5f87d37d",
   "metadata": {},
   "source": [
    "#### Importing raw data "
   ]
  },
  {
   "cell_type": "code",
   "execution_count": null,
   "id": "45bcbf1e-dce2-4637-84e4-96cdf0803c77",
   "metadata": {},
   "outputs": [],
   "source": [
    "import pandas as pd"
   ]
  },
  {
   "cell_type": "code",
   "execution_count": null,
   "id": "f12596e6-a5a8-4e08-bd12-91e5beb745ca",
   "metadata": {},
   "outputs": [],
   "source": [
    "immo24_all=pd.read_csv(\"immo24_warm.csv\")"
   ]
  },
  {
   "cell_type": "code",
   "execution_count": null,
   "id": "911717f4-3fcd-4262-a661-a4d680402b44",
   "metadata": {},
   "outputs": [],
   "source": [
    "immo24_all.head()"
   ]
  },
  {
   "cell_type": "markdown",
   "id": "cc18a8b4-878e-4b3a-9639-7fb9e02154c1",
   "metadata": {},
   "source": [
    "#### Dropping useless information"
   ]
  },
  {
   "cell_type": "code",
   "execution_count": null,
   "id": "5c90fa5b-e496-46e6-a35b-05597bea775b",
   "metadata": {},
   "outputs": [],
   "source": [
    "immo24=immo24_all.drop([\"onlySmall\",\"result-list-entry__brand-title-container href\", \"result-list-entry__brand-logo-container href\",\"font-s href\", \"result-list-entry__brand-logo-container href 2\", \"slick-slide href\", \"image-index-label\", \"gallery__count\",\"total-media-count-label\",\"result-list-entry__criteria href\", \"block 2\", \"result-list-entry__new-flag\",\"onlySmall 2\", \"font-tabular 3\" ],  axis=1)"
   ]
  },
  {
   "cell_type": "code",
   "execution_count": null,
   "id": "a934c29e-a656-435d-9525-a48d89e4b61a",
   "metadata": {},
   "outputs": [],
   "source": [
    "immo24"
   ]
  },
  {
   "cell_type": "markdown",
   "id": "70f8f7a6-8eb3-48bf-b5ba-e305be92ea07",
   "metadata": {},
   "source": [
    "#### Getting the unique values of multiple columns"
   ]
  },
  {
   "cell_type": "code",
   "execution_count": null,
   "id": "8c93f42b-c730-418c-87a9-8e6c55c18b68",
   "metadata": {},
   "outputs": [],
   "source": [
    "# Ahmet hat die uniquen values verwickelt (values.ravel)\n",
    "pd.unique(immo24[[\"margin-top-none\", \"margin-top-none 2\", \"margin-top-none 3\"]].values.ravel('K'))\n",
    "# the letter 'K' is a shorthand for the order 'K' or 'F', which stands for 'Fortran-style', \n",
    "# meaning the elements are arranged in column-major order\n",
    "# in this case, passing 'K' as an argument to ravel() ensures that the elements are flattened \n",
    "# in column-major order, meaning the elements of each column are concatenated before moving to the next column. \n",
    "# since the input is a dataframe, this ensures that values from the same column are concatenated together \n",
    "# in the flattened array.\n",
    "\n",
    "\n",
    "\n",
    "\n",
    "\n"
   ]
  },
  {
   "cell_type": "markdown",
   "id": "ae49c991-444d-42c5-a4fa-f088e304e404",
   "metadata": {},
   "source": [
    "#### Adding new empty columns"
   ]
  },
  {
   "cell_type": "code",
   "execution_count": null,
   "id": "ec9c4c51-9c51-4a75-9fde-9505044a45f4",
   "metadata": {},
   "outputs": [],
   "source": [
    "immo24[\"Balkon/Terrasse\"] = \"\""
   ]
  },
  {
   "cell_type": "code",
   "execution_count": null,
   "id": "2fc065e3-a27d-4d59-8156-04b2e283f01c",
   "metadata": {},
   "outputs": [],
   "source": [
    "immo24['Einbauküche'], immo24['Keller'], immo24['Garten'] = \"\", \"\", \"\""
   ]
  },
  {
   "cell_type": "code",
   "execution_count": null,
   "id": "f27fa15c-df3e-4d27-9531-6acd11bb78a6",
   "metadata": {},
   "outputs": [],
   "source": [
    "immo24['Aufzug'], immo24['Gäste-WC'], immo24['WG-geeignet'] = \"\", \"\", \"\""
   ]
  },
  {
   "cell_type": "code",
   "execution_count": null,
   "id": "dad434d2-331b-4cbc-9d16-7cc0e3d0fe1c",
   "metadata": {},
   "outputs": [],
   "source": [
    "immo24['Stufenlos']=\"\""
   ]
  },
  {
   "cell_type": "markdown",
   "id": "2e0307a5-e0a7-44fa-9433-97113fb73b5f",
   "metadata": {},
   "source": [
    "#### Creating dummy-value (0 or 1) for features"
   ]
  },
  {
   "cell_type": "code",
   "execution_count": null,
   "id": "f522259c-1ef2-4608-b098-e5d986db444b",
   "metadata": {},
   "outputs": [],
   "source": [
    "immo24.tail()"
   ]
  },
  {
   "cell_type": "code",
   "execution_count": null,
   "id": "ee26e584-6be8-4630-a051-d7b3f04114e6",
   "metadata": {},
   "outputs": [],
   "source": [
    "for i in range (len(immo24)):\n",
    "    if immo24.iloc[i,6]== \"Balkon/Terrasse\":\n",
    "        immo24.iloc[i,9]=1\n",
    "    elif immo24.iloc[i,7]== \"Balkon/Terrasse\":\n",
    "        immo24.iloc[i,9]=1\n",
    "    elif immo24.iloc[i,8]== \"Balkon/Terrasse\":\n",
    "        immo24.iloc[i,9]=1\n",
    "    else:\n",
    "        immo24.iloc[i,9]=0\n",
    "        "
   ]
  },
  {
   "cell_type": "code",
   "execution_count": null,
   "id": "2c1b7a1b-3268-4199-9d61-0ab6c48f9a55",
   "metadata": {},
   "outputs": [],
   "source": [
    "for i in range (len(immo24)):\n",
    "    if immo24.iloc[i,6]== \"Einbauküche\" or immo24.iloc[i,7]== \"Einbauküche\" or immo24.iloc[i,8]== \"Einbauküche\":\n",
    "        immo24.iloc[i,10]=1\n",
    "    else:\n",
    "        immo24.iloc[i,10]=0"
   ]
  },
  {
   "cell_type": "code",
   "execution_count": null,
   "id": "5dfe19d5-a3af-40ad-b471-4fab23bc7d5d",
   "metadata": {},
   "outputs": [],
   "source": [
    "for i in range (len(immo24)):\n",
    "    if immo24.iloc[i,6]== \"Keller\" or immo24.iloc[i,7]== \"Keller\" or immo24.iloc[i,8]== \"Keller\":\n",
    "        immo24.iloc[i,11]=1\n",
    "    else:\n",
    "        immo24.iloc[i,11]=0"
   ]
  },
  {
   "cell_type": "code",
   "execution_count": null,
   "id": "2a073304-0e43-4560-a319-d9be6c740ca0",
   "metadata": {},
   "outputs": [],
   "source": [
    "for i in range (len(immo24)):\n",
    "    if immo24.iloc[i,6]== \"Garten\" or immo24.iloc[i,7]== \"Garten\" or immo24.iloc[i,8]== \"Garten\":\n",
    "        immo24.iloc[i,12]=1\n",
    "    else:\n",
    "        immo24.iloc[i,12]=0"
   ]
  },
  {
   "cell_type": "code",
   "execution_count": null,
   "id": "8b502e38-99e6-4b8a-8c18-5bffd81d19ea",
   "metadata": {},
   "outputs": [],
   "source": [
    "for i in range (len(immo24)):\n",
    "    if immo24.iloc[i,6]== \"Aufzug\" or immo24.iloc[i,7]== \"Aufzug\" or immo24.iloc[i,8]== \"Aufzug\":\n",
    "        immo24.iloc[i,13]=1\n",
    "    else:\n",
    "        immo24.iloc[i,13]=0"
   ]
  },
  {
   "cell_type": "code",
   "execution_count": null,
   "id": "badd27fd-61e4-4aab-8c29-d3513dc03a4c",
   "metadata": {},
   "outputs": [],
   "source": [
    "for i in range (len(immo24)):\n",
    "    if immo24.iloc[i,6]== \"Gäste-WC\" or immo24.iloc[i,7]== \"Gäste-WC\" or immo24.iloc[i,8]== \"Gäste-WC\":\n",
    "        immo24.iloc[i,14]=1\n",
    "    else:\n",
    "        immo24.iloc[i,14]=0"
   ]
  },
  {
   "cell_type": "code",
   "execution_count": null,
   "id": "bf97a800-7706-40d1-87a9-6deeaef44a31",
   "metadata": {},
   "outputs": [],
   "source": [
    "for i in range (len(immo24)):\n",
    "    if immo24.iloc[i,6]== \"WG-geeignet\" or immo24.iloc[i,7]== \"WG-geeignet\" or immo24.iloc[i,8]== \"WG-geeignet\":\n",
    "        immo24.iloc[i,15]=1\n",
    "    else:\n",
    "        immo24.iloc[i,15]=0"
   ]
  },
  {
   "cell_type": "code",
   "execution_count": null,
   "id": "1306cead-ea84-44e4-ac13-100615c6a701",
   "metadata": {},
   "outputs": [],
   "source": [
    "for i in range (len(immo24)):\n",
    "    if immo24.iloc[i,6]== \"Stufenlos\" or immo24.iloc[i,7]== \"Stufenlos\" or immo24.iloc[i,8]== \"Stufenlos\":\n",
    "        immo24.iloc[i,16]=1\n",
    "    else:\n",
    "        immo24.iloc[i,16]=0"
   ]
  },
  {
   "cell_type": "code",
   "execution_count": null,
   "id": "104fe517",
   "metadata": {},
   "outputs": [],
   "source": [
    "immo24.tail()"
   ]
  },
  {
   "cell_type": "raw",
   "id": "339ffa4c-f71d-407a-b38b-263fb28b7ac2",
   "metadata": {},
   "source": [
    "list1=[\"Keller\", \"Garten\", \"Aufzug\", \"Gäste-WC\", \"WG-geeignet\"]\n",
    "\n",
    "for i in range (len(\"immo24\")):\n",
    "    for j in range (len(list)):\n",
    "                    if immo24.iloc[i,6]== list1[j] or immo24.iloc[i,7]== list1[j] or immo24.iloc[i,8]== list1[j]:\n",
    "                        immo24.iloc[i,j+11]=1\n",
    "                    else:\n",
    "                        immo24.iloc[i,j+11]=0"
   ]
  },
  {
   "cell_type": "markdown",
   "id": "a2bf48f0-e474-4acb-9275-5afb793ef6d0",
   "metadata": {},
   "source": [
    "#### Getting the specific district from address"
   ]
  },
  {
   "cell_type": "code",
   "execution_count": null,
   "id": "a54f2445-d9a5-4cc1-8302-1d6bb4e96831",
   "metadata": {},
   "outputs": [],
   "source": [
    "Stadtteil=[]\n",
    "for i in range (len(immo24)):\n",
    "    elem= immo24[\"result-list-entry__map-link\"][i].split(\",\")[(immo24[\"result-list-entry__map-link\"][i].split(\",\").index(\" Berlin\"))-1]\n",
    "    elem= elem.lstrip()\n",
    "    elem=elem.replace(\"(Ortsteil)\",\"\")\n",
    "    elem= elem.rstrip()\n",
    "    Stadtteil.append(elem)"
   ]
  },
  {
   "cell_type": "code",
   "execution_count": null,
   "id": "7a6abbe4-6d42-4930-a031-d403b29e5b55",
   "metadata": {},
   "outputs": [],
   "source": [
    "len(Stadtteil)\n"
   ]
  },
  {
   "cell_type": "code",
   "execution_count": null,
   "id": "73b2aaa1-be4b-4920-bf7b-7fa73a1f0b3e",
   "metadata": {},
   "outputs": [],
   "source": [
    "immo24[\"Stadtteil\"]= Stadtteil"
   ]
  },
  {
   "cell_type": "code",
   "execution_count": null,
   "id": "08cb0b47-f777-4dea-91de-ecfbbc45ca11",
   "metadata": {},
   "outputs": [],
   "source": [
    "len(immo24[\"Stadtteil\"].unique())"
   ]
  },
  {
   "cell_type": "code",
   "execution_count": null,
   "id": "14f61126-b00f-4305-938b-9bd02bc87eee",
   "metadata": {},
   "outputs": [],
   "source": [
    "immo24[\"Stadtteil\"].unique()"
   ]
  },
  {
   "cell_type": "markdown",
   "id": "536b608d-b6b4-4f9c-a163-9b49d9eddb15",
   "metadata": {},
   "source": [
    "#### Checking NaN's"
   ]
  },
  {
   "cell_type": "code",
   "execution_count": null,
   "id": "58db75b4-ea6e-46af-a555-1dbb22e12c9d",
   "metadata": {},
   "outputs": [],
   "source": [
    "immo24[\"onlyLarge\"].value_counts()"
   ]
  },
  {
   "cell_type": "code",
   "execution_count": null,
   "id": "c04066b9-f207-4871-a46a-9a618890c21a",
   "metadata": {},
   "outputs": [],
   "source": [
    "immo24[\"onlyLarge\"].isna().sum()"
   ]
  },
  {
   "cell_type": "code",
   "execution_count": null,
   "id": "6b1111e0-e72d-440a-82a4-0b1fa4e9552a",
   "metadata": {},
   "outputs": [],
   "source": [
    "immo24.info()"
   ]
  },
  {
   "cell_type": "code",
   "execution_count": null,
   "id": "668dc6d1-2558-4fba-8452-e61152a54095",
   "metadata": {},
   "outputs": [],
   "source": [
    "immo24[\"font-highlight\"].unique()"
   ]
  },
  {
   "cell_type": "code",
   "execution_count": null,
   "id": "c3ba6f8b-fedd-42e0-879b-33e4d9798098",
   "metadata": {},
   "outputs": [],
   "source": [
    "immo24[\"font-highlight\"].isna().sum()"
   ]
  },
  {
   "cell_type": "markdown",
   "id": "95c8eaf6-8879-434d-a30e-eeac4a4e5e35",
   "metadata": {},
   "source": [
    "#### Renaming and rearranging columns"
   ]
  },
  {
   "cell_type": "code",
   "execution_count": null,
   "id": "8eae9ac3-59a1-44de-aaa6-904fe685766c",
   "metadata": {},
   "outputs": [],
   "source": [
    "immo24.columns\n"
   ]
  },
  {
   "cell_type": "code",
   "execution_count": null,
   "id": "e2084f5a-fcec-4b92-abc1-6903fbb2877b",
   "metadata": {},
   "outputs": [],
   "source": [
    "new_column_names = {\"result-list-entry__brand-title\":\"description\",\"block\":\"landlord\",\"result-list-entry__map-link\":\"address\",\"font-highlight\":\"total rent\",\"font-highlight 2\":\"area\",\"onlyLarge\":\"number of rooms\",\"margin-top-none\":\"feature 1\",\"margin-top-none 2\":\"feature 2\",\"margin-top-none 3\":\"feature 3\",\"Balkon/Terrasse\":\"balcony\",\"Einbauküche\":\"built-in kitchen\",\"Keller\":\"basement\",\"Garten\":\"garden\",\"Aufzug\":\"elevator\",\"Gäste-WC\":\"guest toilet\",\"WG-geeignet\":\"flat share possible\",\"Stufenlos\":\"stepless\",\"Stadtteil\":\"district\"}"
   ]
  },
  {
   "cell_type": "code",
   "execution_count": null,
   "id": "7f8fe32b-6a39-4236-87ec-d6270a3f98d2",
   "metadata": {},
   "outputs": [],
   "source": [
    "df = immo24.rename(columns=new_column_names)"
   ]
  },
  {
   "cell_type": "code",
   "execution_count": null,
   "id": "b2276425-0aa1-4716-84de-38038c62e22a",
   "metadata": {},
   "outputs": [],
   "source": [
    "#df[\"district\"]=df[\"district\"].str.lower()"
   ]
  },
  {
   "cell_type": "code",
   "execution_count": null,
   "id": "fb893878-2917-4503-adfb-37202f13e719",
   "metadata": {},
   "outputs": [],
   "source": [
    "df = df[[\"district\",\"address\",\"description\",\"landlord\",\"total rent\",\"area\",\"number of rooms\",\"balcony\",\"built-in kitchen\",\"basement\",\"garden\",\"elevator\",\"stepless\",\"guest toilet\",\"flat share possible\"]]"
   ]
  },
  {
   "cell_type": "code",
   "execution_count": null,
   "id": "ec660226",
   "metadata": {},
   "outputs": [],
   "source": [
    "df.landlord.unique()"
   ]
  },
  {
   "cell_type": "code",
   "execution_count": null,
   "id": "bccd697a",
   "metadata": {},
   "outputs": [],
   "source": [
    "# replace values in landlord column based on conditions\n",
    "df[\"landlord\"] = df[\"landlord\"].fillna(\"\").astype(str)\n",
    "df[\"landlord\"] = df[\"landlord\"].apply(lambda x: \"estate agent\" if \"Frau\" in x or \"Herr\" in x else x)\n",
    "df[\"landlord\"] = df[\"landlord\"].apply(lambda x: \"private offer\" if \"Privatangebot\" in x or \"privat\" in x or \"Privat\" in x else x)\n",
    "\n",
    "df.landlord.unique()"
   ]
  },
  {
   "cell_type": "code",
   "execution_count": null,
   "id": "a157c0d2",
   "metadata": {},
   "outputs": [],
   "source": [
    "pd.set_option('display.max_rows', 1000)\n",
    "df.landlord.value_counts()"
   ]
  },
  {
   "cell_type": "markdown",
   "id": "6b5bf774-6e46-4566-84fd-aaf9d4379105",
   "metadata": {},
   "source": [
    "#### Deleting, useless characters and changing , to ."
   ]
  },
  {
   "cell_type": "code",
   "execution_count": null,
   "id": "14cee4da-0816-455a-88d7-a71894c8a896",
   "metadata": {},
   "outputs": [],
   "source": [
    "for i in range (len(df)):\n",
    "    df[\"total rent\"][i]= df[\"total rent\"][i].replace(\"€\",\"\").replace(\"~\",\"\").rstrip().replace(\".\",\"\").replace(\",\",\".\")\n",
    "    "
   ]
  },
  {
   "cell_type": "code",
   "execution_count": null,
   "id": "97d87f5e-1ad4-4cad-88ad-89c9733f9208",
   "metadata": {
    "tags": []
   },
   "outputs": [],
   "source": [
    "for i in range (len(df)):\n",
    "    df[\"area\"][i]= df[\"area\"][i].replace(\"m²\",\"\").replace(\"~\",\"\").rstrip().replace(\".\",\"\").replace(\",\",\".\")"
   ]
  },
  {
   "cell_type": "code",
   "execution_count": null,
   "id": "aa72a15f-83eb-4a38-b035-93dabf873020",
   "metadata": {},
   "outputs": [],
   "source": [
    "df.info()"
   ]
  },
  {
   "cell_type": "code",
   "execution_count": null,
   "id": "7f70c062-a627-4804-8d0e-b1d3b703bce7",
   "metadata": {},
   "outputs": [],
   "source": [
    "df[\"number of rooms\"].unique()"
   ]
  },
  {
   "cell_type": "markdown",
   "id": "e808c352-76c3-41cc-be42-cb7883810103",
   "metadata": {},
   "source": [
    "#### Dropping rows with incomplete information"
   ]
  },
  {
   "cell_type": "code",
   "execution_count": null,
   "id": "793abf87-84ce-4e73-854f-a17665209c5c",
   "metadata": {},
   "outputs": [],
   "source": [
    "df[\"number of rooms\"].isna().sum()"
   ]
  },
  {
   "cell_type": "code",
   "execution_count": null,
   "id": "8d530af8-7707-4a25-8b15-9cca9329fd96",
   "metadata": {},
   "outputs": [],
   "source": [
    "df.drop(df.loc[df[\"number of rooms\"].isna()==True].index, inplace=True)\n",
    "    "
   ]
  },
  {
   "cell_type": "code",
   "execution_count": null,
   "id": "20d5fb76-0c03-43f8-a73a-beaff5d9b6ef",
   "metadata": {},
   "outputs": [],
   "source": [
    "df.reset_index(inplace=True)"
   ]
  },
  {
   "cell_type": "code",
   "execution_count": null,
   "id": "398436c7-5f8b-43cc-bf8f-d4263ffa5bfc",
   "metadata": {},
   "outputs": [],
   "source": [
    "df[\"number of rooms\"] = df[\"number of rooms\"].astype(str)"
   ]
  },
  {
   "cell_type": "code",
   "execution_count": null,
   "id": "e7267231-d0da-4d78-905b-4bc3b7bf1564",
   "metadata": {},
   "outputs": [],
   "source": [
    "for i in range (len(df)):\n",
    "    df[\"number of rooms\"][i]= df[\"number of rooms\"][i].replace(\",\",\".\")"
   ]
  },
  {
   "cell_type": "markdown",
   "id": "9f250a63-c87d-4e8d-bbff-daa8d28dc03d",
   "metadata": {},
   "source": [
    "#### Adapting datatypes"
   ]
  },
  {
   "cell_type": "code",
   "execution_count": null,
   "id": "6580a53c-d620-477f-818f-8eee57f491f0",
   "metadata": {},
   "outputs": [],
   "source": [
    "df.info()"
   ]
  },
  {
   "cell_type": "code",
   "execution_count": null,
   "id": "540dc56f-a5de-4325-b9b7-8e680858bf21",
   "metadata": {},
   "outputs": [],
   "source": [
    "df[[\"number of rooms\", \"total rent\",\"area\"]] = df[[\"number of rooms\", \"total rent\",\"area\"]].astype(float)"
   ]
  },
  {
   "cell_type": "code",
   "execution_count": null,
   "id": "7fdeb5e7-2f82-4948-9193-75dff7af1b6b",
   "metadata": {},
   "outputs": [],
   "source": [
    "df[['balcony', 'built-in kitchen', 'basement', 'garden','elevator', 'stepless', 'guest toilet', 'flat share possible']]=df[['balcony', 'built-in kitchen', 'basement', 'garden','elevator', 'stepless', 'guest toilet', 'flat share possible']].astype(int)"
   ]
  },
  {
   "cell_type": "code",
   "execution_count": null,
   "id": "d0ca5279-a60d-44ff-8157-68ebeac901e3",
   "metadata": {},
   "outputs": [],
   "source": [
    "df.info()"
   ]
  },
  {
   "cell_type": "code",
   "execution_count": null,
   "id": "8b3dff25-d5dd-41d6-a0f3-d633721ac463",
   "metadata": {},
   "outputs": [],
   "source": [
    "df.drop(\"index\", axis=1, inplace=True)"
   ]
  },
  {
   "cell_type": "code",
   "execution_count": null,
   "id": "a39b0909-e59c-4c48-905e-17536b253384",
   "metadata": {},
   "outputs": [],
   "source": [
    "#df.to_csv(\"df_cleaned.csv\",index=False)\n",
    "#saved as df_cleaned in ordner \n",
    "#continued to manually clean in excel with excel df_cleaned (names of landlord, combined to estate agent, private offer...)"
   ]
  },
  {
   "cell_type": "markdown",
   "id": "6aeff5d2-977f-4e45-ab23-72045fd155a4",
   "metadata": {},
   "source": [
    "## Creating numeric df as basis for machine learning"
   ]
  },
  {
   "cell_type": "code",
   "execution_count": 4,
   "id": "fe642883",
   "metadata": {},
   "outputs": [],
   "source": [
    "import pandas as pd\n",
    "# uploading cleaned df\n",
    "data = pd.read_csv(\"df_cleaned.csv\")"
   ]
  },
  {
   "cell_type": "code",
   "execution_count": 5,
   "id": "7abcb996-afee-45af-b0ab-77c06ab5aff7",
   "metadata": {},
   "outputs": [],
   "source": [
    "#data = pd.get_dummies(data, columns = [\"district\",\"landlord\"], drop_first= True)"
   ]
  },
  {
   "cell_type": "code",
   "execution_count": 6,
   "id": "82a7516d",
   "metadata": {},
   "outputs": [],
   "source": [
    "data.columns = data.columns.str.lower()"
   ]
  },
  {
   "cell_type": "code",
   "execution_count": 7,
   "id": "320bc239",
   "metadata": {},
   "outputs": [
    {
     "data": {
      "text/html": [
       "<div>\n",
       "<style scoped>\n",
       "    .dataframe tbody tr th:only-of-type {\n",
       "        vertical-align: middle;\n",
       "    }\n",
       "\n",
       "    .dataframe tbody tr th {\n",
       "        vertical-align: top;\n",
       "    }\n",
       "\n",
       "    .dataframe thead th {\n",
       "        text-align: right;\n",
       "    }\n",
       "</style>\n",
       "<table border=\"1\" class=\"dataframe\">\n",
       "  <thead>\n",
       "    <tr style=\"text-align: right;\">\n",
       "      <th></th>\n",
       "      <th>district</th>\n",
       "      <th>address</th>\n",
       "      <th>description</th>\n",
       "      <th>landlord</th>\n",
       "      <th>total rent</th>\n",
       "      <th>area</th>\n",
       "      <th>number of rooms</th>\n",
       "      <th>balcony</th>\n",
       "      <th>built-in kitchen</th>\n",
       "      <th>basement</th>\n",
       "      <th>garden</th>\n",
       "      <th>elevator</th>\n",
       "      <th>stepless</th>\n",
       "      <th>guest toilet</th>\n",
       "      <th>flat share possible</th>\n",
       "    </tr>\n",
       "  </thead>\n",
       "  <tbody>\n",
       "    <tr>\n",
       "      <th>3480</th>\n",
       "      <td>Kaulsdorf</td>\n",
       "      <td>Wilhelmsmühlenweg 12, Kaulsdorf, Berlin</td>\n",
       "      <td>3- Raumwohnung in Kaulsdorf in Bahnhofnähe</td>\n",
       "      <td>Estate agent</td>\n",
       "      <td>1035.0</td>\n",
       "      <td>80.00</td>\n",
       "      <td>3.0</td>\n",
       "      <td>1</td>\n",
       "      <td>0</td>\n",
       "      <td>1</td>\n",
       "      <td>1</td>\n",
       "      <td>0</td>\n",
       "      <td>0</td>\n",
       "      <td>0</td>\n",
       "      <td>0</td>\n",
       "    </tr>\n",
       "    <tr>\n",
       "      <th>3481</th>\n",
       "      <td>Schöneberg</td>\n",
       "      <td>Nollendorfstr. 17, Schöneberg, Berlin</td>\n",
       "      <td>Schöne 2 - Zimmer - Wohnung zum Wohlfühlen</td>\n",
       "      <td>Private offer</td>\n",
       "      <td>1663.0</td>\n",
       "      <td>84.10</td>\n",
       "      <td>2.0</td>\n",
       "      <td>0</td>\n",
       "      <td>0</td>\n",
       "      <td>0</td>\n",
       "      <td>1</td>\n",
       "      <td>0</td>\n",
       "      <td>0</td>\n",
       "      <td>0</td>\n",
       "      <td>0</td>\n",
       "    </tr>\n",
       "    <tr>\n",
       "      <th>3482</th>\n",
       "      <td>Tegel</td>\n",
       "      <td>Tegel, Berlin</td>\n",
       "      <td>Alt-Tegel, seenahe ruhige Maisonette-Whg, 72m²...</td>\n",
       "      <td>Private offer</td>\n",
       "      <td>1260.0</td>\n",
       "      <td>72.00</td>\n",
       "      <td>2.5</td>\n",
       "      <td>0</td>\n",
       "      <td>0</td>\n",
       "      <td>1</td>\n",
       "      <td>1</td>\n",
       "      <td>0</td>\n",
       "      <td>0</td>\n",
       "      <td>0</td>\n",
       "      <td>0</td>\n",
       "    </tr>\n",
       "    <tr>\n",
       "      <th>3483</th>\n",
       "      <td>Tiergarten</td>\n",
       "      <td>Potsdamer Str. 100, Tiergarten, Berlin</td>\n",
       "      <td>Sonnendurchflutete repräsentative Wohnung / Bü...</td>\n",
       "      <td>Estate agent</td>\n",
       "      <td>2995.0</td>\n",
       "      <td>158.00</td>\n",
       "      <td>4.0</td>\n",
       "      <td>0</td>\n",
       "      <td>0</td>\n",
       "      <td>0</td>\n",
       "      <td>0</td>\n",
       "      <td>1</td>\n",
       "      <td>0</td>\n",
       "      <td>1</td>\n",
       "      <td>0</td>\n",
       "    </tr>\n",
       "    <tr>\n",
       "      <th>3484</th>\n",
       "      <td>Charlottenburg</td>\n",
       "      <td>Kaiserdamm 6, Charlottenburg, Berlin</td>\n",
       "      <td>Grossraumwohnung ( zur Eigenrenovierung/Sanier...</td>\n",
       "      <td>Estate agent</td>\n",
       "      <td>1999.0</td>\n",
       "      <td>136.32</td>\n",
       "      <td>4.0</td>\n",
       "      <td>0</td>\n",
       "      <td>0</td>\n",
       "      <td>0</td>\n",
       "      <td>0</td>\n",
       "      <td>1</td>\n",
       "      <td>0</td>\n",
       "      <td>0</td>\n",
       "      <td>0</td>\n",
       "    </tr>\n",
       "  </tbody>\n",
       "</table>\n",
       "</div>"
      ],
      "text/plain": [
       "            district                                  address  \\\n",
       "3480       Kaulsdorf  Wilhelmsmühlenweg 12, Kaulsdorf, Berlin   \n",
       "3481      Schöneberg    Nollendorfstr. 17, Schöneberg, Berlin   \n",
       "3482           Tegel                            Tegel, Berlin   \n",
       "3483      Tiergarten   Potsdamer Str. 100, Tiergarten, Berlin   \n",
       "3484  Charlottenburg     Kaiserdamm 6, Charlottenburg, Berlin   \n",
       "\n",
       "                                            description       landlord  \\\n",
       "3480         3- Raumwohnung in Kaulsdorf in Bahnhofnähe   Estate agent   \n",
       "3481         Schöne 2 - Zimmer - Wohnung zum Wohlfühlen  Private offer   \n",
       "3482  Alt-Tegel, seenahe ruhige Maisonette-Whg, 72m²...  Private offer   \n",
       "3483  Sonnendurchflutete repräsentative Wohnung / Bü...   Estate agent   \n",
       "3484  Grossraumwohnung ( zur Eigenrenovierung/Sanier...   Estate agent   \n",
       "\n",
       "      total rent    area  number of rooms  balcony  built-in kitchen  \\\n",
       "3480      1035.0   80.00              3.0        1                 0   \n",
       "3481      1663.0   84.10              2.0        0                 0   \n",
       "3482      1260.0   72.00              2.5        0                 0   \n",
       "3483      2995.0  158.00              4.0        0                 0   \n",
       "3484      1999.0  136.32              4.0        0                 0   \n",
       "\n",
       "      basement  garden  elevator  stepless  guest toilet  flat share possible  \n",
       "3480         1       1         0         0             0                    0  \n",
       "3481         0       1         0         0             0                    0  \n",
       "3482         1       1         0         0             0                    0  \n",
       "3483         0       0         1         0             1                    0  \n",
       "3484         0       0         1         0             0                    0  "
      ]
     },
     "execution_count": 7,
     "metadata": {},
     "output_type": "execute_result"
    }
   ],
   "source": [
    "pd.set_option(\"display.max_columns\", None)\n",
    "data.columns\n",
    "data.tail()"
   ]
  },
  {
   "cell_type": "code",
   "execution_count": 8,
   "id": "341e5fa8",
   "metadata": {},
   "outputs": [
    {
     "name": "stdout",
     "output_type": "stream",
     "text": [
      "<class 'pandas.core.frame.DataFrame'>\n",
      "RangeIndex: 3485 entries, 0 to 3484\n",
      "Data columns (total 15 columns):\n",
      " #   Column               Non-Null Count  Dtype  \n",
      "---  ------               --------------  -----  \n",
      " 0   district             3485 non-null   object \n",
      " 1   address              3485 non-null   object \n",
      " 2   description          3485 non-null   object \n",
      " 3   landlord             3485 non-null   object \n",
      " 4   total rent           3485 non-null   float64\n",
      " 5   area                 3485 non-null   float64\n",
      " 6   number of rooms      3485 non-null   float64\n",
      " 7   balcony              3485 non-null   int64  \n",
      " 8   built-in kitchen     3485 non-null   int64  \n",
      " 9   basement             3485 non-null   int64  \n",
      " 10  garden               3485 non-null   int64  \n",
      " 11  elevator             3485 non-null   int64  \n",
      " 12  stepless             3485 non-null   int64  \n",
      " 13  guest toilet         3485 non-null   int64  \n",
      " 14  flat share possible  3485 non-null   int64  \n",
      "dtypes: float64(3), int64(8), object(4)\n",
      "memory usage: 408.5+ KB\n"
     ]
    }
   ],
   "source": [
    "data.info()"
   ]
  },
  {
   "cell_type": "code",
   "execution_count": 9,
   "id": "bddf72fc",
   "metadata": {},
   "outputs": [
    {
     "data": {
      "text/plain": [
       "Index(['district', 'address', 'description', 'landlord', 'total rent', 'area',\n",
       "       'number of rooms', 'balcony', 'built-in kitchen', 'basement', 'garden',\n",
       "       'elevator', 'stepless', 'guest toilet', 'flat share possible'],\n",
       "      dtype='object')"
      ]
     },
     "execution_count": 9,
     "metadata": {},
     "output_type": "execute_result"
    }
   ],
   "source": [
    "data.columns"
   ]
  },
  {
   "cell_type": "markdown",
   "id": "0d230062",
   "metadata": {},
   "source": [
    "#### Changing datatypes of new dummy columns to integer"
   ]
  },
  {
   "cell_type": "code",
   "execution_count": 10,
   "id": "5378ec28",
   "metadata": {},
   "outputs": [],
   "source": [
    "for i in range (7,-1):\n",
    "    data[data.columns[i]]=data[data.columns[i]].astype(int)"
   ]
  },
  {
   "cell_type": "code",
   "execution_count": 11,
   "id": "2c073c47",
   "metadata": {},
   "outputs": [
    {
     "data": {
      "text/plain": [
       "dtype('float64')"
      ]
     },
     "execution_count": 11,
     "metadata": {},
     "output_type": "execute_result"
    }
   ],
   "source": [
    "data[\"number of rooms\"].dtype\n"
   ]
  },
  {
   "cell_type": "code",
   "execution_count": 12,
   "id": "83fc590d",
   "metadata": {},
   "outputs": [
    {
     "name": "stdout",
     "output_type": "stream",
     "text": [
      "<class 'pandas.core.frame.DataFrame'>\n",
      "RangeIndex: 3485 entries, 0 to 3484\n",
      "Data columns (total 15 columns):\n",
      " #   Column               Non-Null Count  Dtype  \n",
      "---  ------               --------------  -----  \n",
      " 0   district             3485 non-null   object \n",
      " 1   address              3485 non-null   object \n",
      " 2   description          3485 non-null   object \n",
      " 3   landlord             3485 non-null   object \n",
      " 4   total rent           3485 non-null   float64\n",
      " 5   area                 3485 non-null   float64\n",
      " 6   number of rooms      3485 non-null   float64\n",
      " 7   balcony              3485 non-null   int64  \n",
      " 8   built-in kitchen     3485 non-null   int64  \n",
      " 9   basement             3485 non-null   int64  \n",
      " 10  garden               3485 non-null   int64  \n",
      " 11  elevator             3485 non-null   int64  \n",
      " 12  stepless             3485 non-null   int64  \n",
      " 13  guest toilet         3485 non-null   int64  \n",
      " 14  flat share possible  3485 non-null   int64  \n",
      "dtypes: float64(3), int64(8), object(4)\n",
      "memory usage: 408.5+ KB\n"
     ]
    }
   ],
   "source": [
    "data.info()"
   ]
  },
  {
   "cell_type": "markdown",
   "id": "1f598ae3",
   "metadata": {},
   "source": [
    "#### Removing Outliers"
   ]
  },
  {
   "cell_type": "code",
   "execution_count": 13,
   "id": "81a2eab0",
   "metadata": {},
   "outputs": [],
   "source": [
    "def remove_outliers(df, column_names):\n",
    "    \"\"\" returns a df without outliers for the specified column names\"\"\"\n",
    "    if isinstance(df, pd.core.frame.DataFrame):\n",
    "        Q1 = df[column_names].quantile(0.25)\n",
    "        Q3 = df[column_names].quantile(0.75)\n",
    "        IQR = Q3 - Q1\n",
    "        true_list = ~((df[column_names] < (Q1 - 1.5*IQR)) | (df[column_names] > (Q3 + 1.5*IQR)))\n",
    "        return df[true_list]\n",
    "    else:\n",
    "        raise TypeError\n"
   ]
  },
  {
   "cell_type": "code",
   "execution_count": 14,
   "id": "5750633a",
   "metadata": {},
   "outputs": [],
   "source": [
    "def what_are_outliers(df, column_names):\n",
    "    \"\"\" returns a df with outliers for the specified column names\"\"\"\n",
    "    if isinstance(df, pd.core.frame.DataFrame):\n",
    "        Q1 = df[column_names].quantile(0.25)\n",
    "        Q3 = df[column_names].quantile(0.75)\n",
    "        IQR = Q3 - Q1\n",
    "        true_list = (df[column_names] < (Q1 - 1.5*IQR)) | (df[column_names] > (Q3 + 1.5*IQR))\n",
    "        return df[true_list]\n",
    "    else:\n",
    "        raise TypeError\n"
   ]
  },
  {
   "cell_type": "code",
   "execution_count": 15,
   "id": "304ea1bd",
   "metadata": {},
   "outputs": [],
   "source": [
    "#df_clean = remove_outliers(data, \"number of rooms\")"
   ]
  },
  {
   "cell_type": "code",
   "execution_count": 16,
   "id": "5a3567a3",
   "metadata": {},
   "outputs": [],
   "source": [
    "#df_clean.tail()"
   ]
  },
  {
   "cell_type": "code",
   "execution_count": 17,
   "id": "e1ac4fdf",
   "metadata": {},
   "outputs": [],
   "source": [
    "#what_are_outliers(data, \"number of rooms\")"
   ]
  },
  {
   "cell_type": "code",
   "execution_count": 19,
   "id": "192cf87c",
   "metadata": {},
   "outputs": [],
   "source": [
    "df_cleanest = remove_outliers(data, \"total rent\")"
   ]
  },
  {
   "cell_type": "code",
   "execution_count": 21,
   "id": "13c59654",
   "metadata": {},
   "outputs": [
    {
     "data": {
      "text/html": [
       "<div>\n",
       "<style scoped>\n",
       "    .dataframe tbody tr th:only-of-type {\n",
       "        vertical-align: middle;\n",
       "    }\n",
       "\n",
       "    .dataframe tbody tr th {\n",
       "        vertical-align: top;\n",
       "    }\n",
       "\n",
       "    .dataframe thead th {\n",
       "        text-align: right;\n",
       "    }\n",
       "</style>\n",
       "<table border=\"1\" class=\"dataframe\">\n",
       "  <thead>\n",
       "    <tr style=\"text-align: right;\">\n",
       "      <th></th>\n",
       "      <th>total rent</th>\n",
       "      <th>area</th>\n",
       "      <th>number of rooms</th>\n",
       "      <th>balcony</th>\n",
       "      <th>built-in kitchen</th>\n",
       "      <th>basement</th>\n",
       "      <th>garden</th>\n",
       "      <th>elevator</th>\n",
       "      <th>stepless</th>\n",
       "      <th>guest toilet</th>\n",
       "      <th>flat share possible</th>\n",
       "    </tr>\n",
       "  </thead>\n",
       "  <tbody>\n",
       "    <tr>\n",
       "      <th>count</th>\n",
       "      <td>150.000000</td>\n",
       "      <td>150.000000</td>\n",
       "      <td>150.000000</td>\n",
       "      <td>150.000000</td>\n",
       "      <td>150.000000</td>\n",
       "      <td>150.000000</td>\n",
       "      <td>150.000000</td>\n",
       "      <td>150.000000</td>\n",
       "      <td>150.000000</td>\n",
       "      <td>150.000000</td>\n",
       "      <td>150.0</td>\n",
       "    </tr>\n",
       "    <tr>\n",
       "      <th>mean</th>\n",
       "      <td>6658.134267</td>\n",
       "      <td>164.543200</td>\n",
       "      <td>3.663333</td>\n",
       "      <td>0.506667</td>\n",
       "      <td>0.526667</td>\n",
       "      <td>0.133333</td>\n",
       "      <td>0.086667</td>\n",
       "      <td>0.133333</td>\n",
       "      <td>0.106667</td>\n",
       "      <td>0.246667</td>\n",
       "      <td>0.0</td>\n",
       "    </tr>\n",
       "    <tr>\n",
       "      <th>std</th>\n",
       "      <td>3256.124417</td>\n",
       "      <td>91.544976</td>\n",
       "      <td>2.222895</td>\n",
       "      <td>0.501630</td>\n",
       "      <td>0.500961</td>\n",
       "      <td>0.341073</td>\n",
       "      <td>0.282289</td>\n",
       "      <td>0.341073</td>\n",
       "      <td>0.309723</td>\n",
       "      <td>0.432515</td>\n",
       "      <td>0.0</td>\n",
       "    </tr>\n",
       "    <tr>\n",
       "      <th>min</th>\n",
       "      <td>4200.000000</td>\n",
       "      <td>30.000000</td>\n",
       "      <td>1.000000</td>\n",
       "      <td>0.000000</td>\n",
       "      <td>0.000000</td>\n",
       "      <td>0.000000</td>\n",
       "      <td>0.000000</td>\n",
       "      <td>0.000000</td>\n",
       "      <td>0.000000</td>\n",
       "      <td>0.000000</td>\n",
       "      <td>0.0</td>\n",
       "    </tr>\n",
       "    <tr>\n",
       "      <th>25%</th>\n",
       "      <td>4569.750000</td>\n",
       "      <td>113.250000</td>\n",
       "      <td>2.000000</td>\n",
       "      <td>0.000000</td>\n",
       "      <td>0.000000</td>\n",
       "      <td>0.000000</td>\n",
       "      <td>0.000000</td>\n",
       "      <td>0.000000</td>\n",
       "      <td>0.000000</td>\n",
       "      <td>0.000000</td>\n",
       "      <td>0.0</td>\n",
       "    </tr>\n",
       "    <tr>\n",
       "      <th>50%</th>\n",
       "      <td>5549.000000</td>\n",
       "      <td>147.000000</td>\n",
       "      <td>4.000000</td>\n",
       "      <td>1.000000</td>\n",
       "      <td>1.000000</td>\n",
       "      <td>0.000000</td>\n",
       "      <td>0.000000</td>\n",
       "      <td>0.000000</td>\n",
       "      <td>0.000000</td>\n",
       "      <td>0.000000</td>\n",
       "      <td>0.0</td>\n",
       "    </tr>\n",
       "    <tr>\n",
       "      <th>75%</th>\n",
       "      <td>7400.000000</td>\n",
       "      <td>200.000000</td>\n",
       "      <td>4.000000</td>\n",
       "      <td>1.000000</td>\n",
       "      <td>1.000000</td>\n",
       "      <td>0.000000</td>\n",
       "      <td>0.000000</td>\n",
       "      <td>0.000000</td>\n",
       "      <td>0.000000</td>\n",
       "      <td>0.000000</td>\n",
       "      <td>0.0</td>\n",
       "    </tr>\n",
       "    <tr>\n",
       "      <th>max</th>\n",
       "      <td>28000.000000</td>\n",
       "      <td>706.000000</td>\n",
       "      <td>18.000000</td>\n",
       "      <td>1.000000</td>\n",
       "      <td>1.000000</td>\n",
       "      <td>1.000000</td>\n",
       "      <td>1.000000</td>\n",
       "      <td>1.000000</td>\n",
       "      <td>1.000000</td>\n",
       "      <td>1.000000</td>\n",
       "      <td>0.0</td>\n",
       "    </tr>\n",
       "  </tbody>\n",
       "</table>\n",
       "</div>"
      ],
      "text/plain": [
       "         total rent        area  number of rooms     balcony  \\\n",
       "count    150.000000  150.000000       150.000000  150.000000   \n",
       "mean    6658.134267  164.543200         3.663333    0.506667   \n",
       "std     3256.124417   91.544976         2.222895    0.501630   \n",
       "min     4200.000000   30.000000         1.000000    0.000000   \n",
       "25%     4569.750000  113.250000         2.000000    0.000000   \n",
       "50%     5549.000000  147.000000         4.000000    1.000000   \n",
       "75%     7400.000000  200.000000         4.000000    1.000000   \n",
       "max    28000.000000  706.000000        18.000000    1.000000   \n",
       "\n",
       "       built-in kitchen    basement      garden    elevator    stepless  \\\n",
       "count        150.000000  150.000000  150.000000  150.000000  150.000000   \n",
       "mean           0.526667    0.133333    0.086667    0.133333    0.106667   \n",
       "std            0.500961    0.341073    0.282289    0.341073    0.309723   \n",
       "min            0.000000    0.000000    0.000000    0.000000    0.000000   \n",
       "25%            0.000000    0.000000    0.000000    0.000000    0.000000   \n",
       "50%            1.000000    0.000000    0.000000    0.000000    0.000000   \n",
       "75%            1.000000    0.000000    0.000000    0.000000    0.000000   \n",
       "max            1.000000    1.000000    1.000000    1.000000    1.000000   \n",
       "\n",
       "       guest toilet  flat share possible  \n",
       "count    150.000000                150.0  \n",
       "mean       0.246667                  0.0  \n",
       "std        0.432515                  0.0  \n",
       "min        0.000000                  0.0  \n",
       "25%        0.000000                  0.0  \n",
       "50%        0.000000                  0.0  \n",
       "75%        0.000000                  0.0  \n",
       "max        1.000000                  0.0  "
      ]
     },
     "execution_count": 21,
     "metadata": {},
     "output_type": "execute_result"
    }
   ],
   "source": [
    "check = what_are_outliers(data, \"total rent\")\n",
    "check.describe()"
   ]
  },
  {
   "cell_type": "code",
   "execution_count": 22,
   "id": "6cb8af2f-232a-45cf-abe7-70774dd2f7ed",
   "metadata": {},
   "outputs": [],
   "source": [
    "df_numeric = df_cleanest.select_dtypes(include=[\"int\",\"float\"])"
   ]
  },
  {
   "cell_type": "code",
   "execution_count": 23,
   "id": "e8b1fd6f",
   "metadata": {},
   "outputs": [
    {
     "data": {
      "text/html": [
       "<div>\n",
       "<style scoped>\n",
       "    .dataframe tbody tr th:only-of-type {\n",
       "        vertical-align: middle;\n",
       "    }\n",
       "\n",
       "    .dataframe tbody tr th {\n",
       "        vertical-align: top;\n",
       "    }\n",
       "\n",
       "    .dataframe thead th {\n",
       "        text-align: right;\n",
       "    }\n",
       "</style>\n",
       "<table border=\"1\" class=\"dataframe\">\n",
       "  <thead>\n",
       "    <tr style=\"text-align: right;\">\n",
       "      <th></th>\n",
       "      <th>total rent</th>\n",
       "      <th>area</th>\n",
       "      <th>number of rooms</th>\n",
       "      <th>balcony</th>\n",
       "      <th>built-in kitchen</th>\n",
       "      <th>basement</th>\n",
       "      <th>garden</th>\n",
       "      <th>elevator</th>\n",
       "      <th>stepless</th>\n",
       "      <th>guest toilet</th>\n",
       "      <th>flat share possible</th>\n",
       "    </tr>\n",
       "  </thead>\n",
       "  <tbody>\n",
       "    <tr>\n",
       "      <th>0</th>\n",
       "      <td>3940.00</td>\n",
       "      <td>175.00</td>\n",
       "      <td>3.0</td>\n",
       "      <td>1</td>\n",
       "      <td>1</td>\n",
       "      <td>0</td>\n",
       "      <td>0</td>\n",
       "      <td>0</td>\n",
       "      <td>0</td>\n",
       "      <td>0</td>\n",
       "      <td>0</td>\n",
       "    </tr>\n",
       "    <tr>\n",
       "      <th>1</th>\n",
       "      <td>4030.00</td>\n",
       "      <td>147.00</td>\n",
       "      <td>4.0</td>\n",
       "      <td>1</td>\n",
       "      <td>1</td>\n",
       "      <td>0</td>\n",
       "      <td>0</td>\n",
       "      <td>0</td>\n",
       "      <td>0</td>\n",
       "      <td>0</td>\n",
       "      <td>0</td>\n",
       "    </tr>\n",
       "    <tr>\n",
       "      <th>2</th>\n",
       "      <td>1404.41</td>\n",
       "      <td>72.86</td>\n",
       "      <td>3.0</td>\n",
       "      <td>1</td>\n",
       "      <td>1</td>\n",
       "      <td>0</td>\n",
       "      <td>0</td>\n",
       "      <td>0</td>\n",
       "      <td>0</td>\n",
       "      <td>0</td>\n",
       "      <td>0</td>\n",
       "    </tr>\n",
       "    <tr>\n",
       "      <th>3</th>\n",
       "      <td>2663.13</td>\n",
       "      <td>107.89</td>\n",
       "      <td>1.0</td>\n",
       "      <td>1</td>\n",
       "      <td>1</td>\n",
       "      <td>0</td>\n",
       "      <td>0</td>\n",
       "      <td>0</td>\n",
       "      <td>0</td>\n",
       "      <td>0</td>\n",
       "      <td>0</td>\n",
       "    </tr>\n",
       "    <tr>\n",
       "      <th>4</th>\n",
       "      <td>2790.64</td>\n",
       "      <td>93.36</td>\n",
       "      <td>3.0</td>\n",
       "      <td>1</td>\n",
       "      <td>1</td>\n",
       "      <td>0</td>\n",
       "      <td>0</td>\n",
       "      <td>0</td>\n",
       "      <td>0</td>\n",
       "      <td>0</td>\n",
       "      <td>0</td>\n",
       "    </tr>\n",
       "    <tr>\n",
       "      <th>...</th>\n",
       "      <td>...</td>\n",
       "      <td>...</td>\n",
       "      <td>...</td>\n",
       "      <td>...</td>\n",
       "      <td>...</td>\n",
       "      <td>...</td>\n",
       "      <td>...</td>\n",
       "      <td>...</td>\n",
       "      <td>...</td>\n",
       "      <td>...</td>\n",
       "      <td>...</td>\n",
       "    </tr>\n",
       "    <tr>\n",
       "      <th>3480</th>\n",
       "      <td>1035.00</td>\n",
       "      <td>80.00</td>\n",
       "      <td>3.0</td>\n",
       "      <td>1</td>\n",
       "      <td>0</td>\n",
       "      <td>1</td>\n",
       "      <td>1</td>\n",
       "      <td>0</td>\n",
       "      <td>0</td>\n",
       "      <td>0</td>\n",
       "      <td>0</td>\n",
       "    </tr>\n",
       "    <tr>\n",
       "      <th>3481</th>\n",
       "      <td>1663.00</td>\n",
       "      <td>84.10</td>\n",
       "      <td>2.0</td>\n",
       "      <td>0</td>\n",
       "      <td>0</td>\n",
       "      <td>0</td>\n",
       "      <td>1</td>\n",
       "      <td>0</td>\n",
       "      <td>0</td>\n",
       "      <td>0</td>\n",
       "      <td>0</td>\n",
       "    </tr>\n",
       "    <tr>\n",
       "      <th>3482</th>\n",
       "      <td>1260.00</td>\n",
       "      <td>72.00</td>\n",
       "      <td>2.5</td>\n",
       "      <td>0</td>\n",
       "      <td>0</td>\n",
       "      <td>1</td>\n",
       "      <td>1</td>\n",
       "      <td>0</td>\n",
       "      <td>0</td>\n",
       "      <td>0</td>\n",
       "      <td>0</td>\n",
       "    </tr>\n",
       "    <tr>\n",
       "      <th>3483</th>\n",
       "      <td>2995.00</td>\n",
       "      <td>158.00</td>\n",
       "      <td>4.0</td>\n",
       "      <td>0</td>\n",
       "      <td>0</td>\n",
       "      <td>0</td>\n",
       "      <td>0</td>\n",
       "      <td>1</td>\n",
       "      <td>0</td>\n",
       "      <td>1</td>\n",
       "      <td>0</td>\n",
       "    </tr>\n",
       "    <tr>\n",
       "      <th>3484</th>\n",
       "      <td>1999.00</td>\n",
       "      <td>136.32</td>\n",
       "      <td>4.0</td>\n",
       "      <td>0</td>\n",
       "      <td>0</td>\n",
       "      <td>0</td>\n",
       "      <td>0</td>\n",
       "      <td>1</td>\n",
       "      <td>0</td>\n",
       "      <td>0</td>\n",
       "      <td>0</td>\n",
       "    </tr>\n",
       "  </tbody>\n",
       "</table>\n",
       "<p>3335 rows × 11 columns</p>\n",
       "</div>"
      ],
      "text/plain": [
       "      total rent    area  number of rooms  balcony  built-in kitchen  \\\n",
       "0        3940.00  175.00              3.0        1                 1   \n",
       "1        4030.00  147.00              4.0        1                 1   \n",
       "2        1404.41   72.86              3.0        1                 1   \n",
       "3        2663.13  107.89              1.0        1                 1   \n",
       "4        2790.64   93.36              3.0        1                 1   \n",
       "...          ...     ...              ...      ...               ...   \n",
       "3480     1035.00   80.00              3.0        1                 0   \n",
       "3481     1663.00   84.10              2.0        0                 0   \n",
       "3482     1260.00   72.00              2.5        0                 0   \n",
       "3483     2995.00  158.00              4.0        0                 0   \n",
       "3484     1999.00  136.32              4.0        0                 0   \n",
       "\n",
       "      basement  garden  elevator  stepless  guest toilet  flat share possible  \n",
       "0            0       0         0         0             0                    0  \n",
       "1            0       0         0         0             0                    0  \n",
       "2            0       0         0         0             0                    0  \n",
       "3            0       0         0         0             0                    0  \n",
       "4            0       0         0         0             0                    0  \n",
       "...        ...     ...       ...       ...           ...                  ...  \n",
       "3480         1       1         0         0             0                    0  \n",
       "3481         0       1         0         0             0                    0  \n",
       "3482         1       1         0         0             0                    0  \n",
       "3483         0       0         1         0             1                    0  \n",
       "3484         0       0         1         0             0                    0  \n",
       "\n",
       "[3335 rows x 11 columns]"
      ]
     },
     "execution_count": 23,
     "metadata": {},
     "output_type": "execute_result"
    }
   ],
   "source": [
    "df_numeric"
   ]
  },
  {
   "cell_type": "code",
   "execution_count": 24,
   "id": "8800c29b-798f-42e9-bd65-5d45ef5bfda5",
   "metadata": {},
   "outputs": [],
   "source": [
    "df_numeric.to_csv(\"df_numeric.csv\",index=False)"
   ]
  },
  {
   "cell_type": "code",
   "execution_count": null,
   "id": "e17f77af",
   "metadata": {},
   "outputs": [],
   "source": []
  }
 ],
 "metadata": {
  "kernelspec": {
   "display_name": "Python 3 (ipykernel)",
   "language": "python",
   "name": "python3"
  },
  "language_info": {
   "codemirror_mode": {
    "name": "ipython",
    "version": 3
   },
   "file_extension": ".py",
   "mimetype": "text/x-python",
   "name": "python",
   "nbconvert_exporter": "python",
   "pygments_lexer": "ipython3",
   "version": "3.9.13"
  }
 },
 "nbformat": 4,
 "nbformat_minor": 5
}
